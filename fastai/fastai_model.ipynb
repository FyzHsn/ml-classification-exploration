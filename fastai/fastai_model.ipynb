{
 "cells": [
  {
   "cell_type": "code",
   "execution_count": 1,
   "metadata": {},
   "outputs": [],
   "source": [
    "import pandas as pd\n",
    "\n",
    "from fastai.tabular.all import *"
   ]
  },
  {
   "cell_type": "code",
   "execution_count": 2,
   "metadata": {},
   "outputs": [],
   "source": [
    "DATA_PATH = '../data/preprocessed_training_data.pkl'"
   ]
  },
  {
   "cell_type": "code",
   "execution_count": 3,
   "metadata": {},
   "outputs": [],
   "source": [
    "df = pd.read_pickle(DATA_PATH)"
   ]
  },
  {
   "cell_type": "code",
   "execution_count": 4,
   "metadata": {},
   "outputs": [
    {
     "name": "stdout",
     "output_type": "stream",
     "text": [
      "<class 'pandas.core.frame.DataFrame'>\n",
      "RangeIndex: 3738937 entries, 0 to 3738936\n",
      "Data columns (total 18 columns):\n",
      " #   Column              Dtype         \n",
      "---  ------              -----         \n",
      " 0   id                  object        \n",
      " 1   timestamp           datetime64[ns]\n",
      " 2   campaignId          object        \n",
      " 3   platform            object        \n",
      " 4   softwareVersion     object        \n",
      " 5   sourceGameId        object        \n",
      " 6   country             object        \n",
      " 7   startCount          int64         \n",
      " 8   viewCount           int64         \n",
      " 9   clickCount          int64         \n",
      " 10  installCount        int64         \n",
      " 11  lastStart           datetime64[ns]\n",
      " 12  startCount1d        int64         \n",
      " 13  startCount7d        int64         \n",
      " 14  connectionType      object        \n",
      " 15  deviceType          object        \n",
      " 16  install             int64         \n",
      " 17  timeSinceLastStart  float64       \n",
      "dtypes: datetime64[ns](2), float64(1), int64(7), object(8)\n",
      "memory usage: 513.5+ MB\n"
     ]
    }
   ],
   "source": [
    "df.info()"
   ]
  },
  {
   "cell_type": "code",
   "execution_count": 6,
   "metadata": {},
   "outputs": [
    {
     "data": {
      "text/plain": [
       "(0.5060559911190347, 41.78143438226354)"
      ]
     },
     "execution_count": 6,
     "metadata": {},
     "output_type": "execute_result"
    }
   ],
   "source": [
    "class_count_df = df.groupby('install').count()\n",
    "class_count_df\n",
    "\n",
    "n_0, n_1 = class_count_df.iloc[0, 0], class_count_df.iloc[1, 0]\n",
    "\n",
    "w_0 = (n_0 + n_1) / (2.0 * n_0)\n",
    "w_1 = (n_0 + n_1) / (2.0 * n_1)\n",
    "\n",
    "w_0, w_1"
   ]
  },
  {
   "cell_type": "code",
   "execution_count": 8,
   "metadata": {},
   "outputs": [
    {
     "name": "stdout",
     "output_type": "stream",
     "text": [
      "<class 'pandas.core.frame.DataFrame'>\n",
      "RangeIndex: 3738937 entries, 0 to 3738936\n",
      "Data columns (total 18 columns):\n",
      " #   Column              Dtype         \n",
      "---  ------              -----         \n",
      " 0   id                  object        \n",
      " 1   timestamp           datetime64[ns]\n",
      " 2   campaignId          object        \n",
      " 3   platform            object        \n",
      " 4   softwareVersion     object        \n",
      " 5   sourceGameId        object        \n",
      " 6   country             object        \n",
      " 7   startCount          int64         \n",
      " 8   viewCount           int64         \n",
      " 9   clickCount          int64         \n",
      " 10  installCount        int64         \n",
      " 11  lastStart           datetime64[ns]\n",
      " 12  startCount1d        int64         \n",
      " 13  startCount7d        int64         \n",
      " 14  connectionType      object        \n",
      " 15  deviceType          object        \n",
      " 16  install             category      \n",
      " 17  timeSinceLastStart  float64       \n",
      "dtypes: category(1), datetime64[ns](2), float64(1), int64(6), object(8)\n",
      "memory usage: 488.5+ MB\n"
     ]
    }
   ],
   "source": [
    "df['install'] = df['install'].astype('category')\n",
    "df.info()"
   ]
  },
  {
   "cell_type": "code",
   "execution_count": 17,
   "metadata": {},
   "outputs": [],
   "source": [
    "CAT_NAMES = ['campaignId', 'platform', 'softwareVersion',\n",
    "             'sourceGameId', 'connectionType', 'deviceType', 'country']\n",
    "CONT_NAMES = ['startCount', 'viewCount', 'clickCount', \n",
    "              'installCount', 'startCount1d', 'startCount7d', \n",
    "              'timeSinceLastStart']\n",
    "\n",
    "dls = TabularDataLoaders.from_df(df, y_names='install', \n",
    "                                 cat_names=CAT_NAMES,\n",
    "                                 cont_names=CONT_NAMES,\n",
    "                                 procs=[Categorify, FillMissing, Normalize],\n",
    "                                 splits=RandomSplitter(valid_pct=0.2)(range_of(df)),\n",
    "                                 bs=1024)"
   ]
  },
  {
   "cell_type": "code",
   "execution_count": 18,
   "metadata": {},
   "outputs": [
    {
     "data": {
      "text/html": [
       "<div>\n",
       "<style scoped>\n",
       "    .dataframe tbody tr th:only-of-type {\n",
       "        vertical-align: middle;\n",
       "    }\n",
       "\n",
       "    .dataframe tbody tr th {\n",
       "        vertical-align: top;\n",
       "    }\n",
       "\n",
       "    .dataframe thead th {\n",
       "        text-align: right;\n",
       "    }\n",
       "</style>\n",
       "<table border=\"1\" class=\"dataframe\">\n",
       "  <thead>\n",
       "    <tr style=\"text-align: right;\">\n",
       "      <th></th>\n",
       "      <th>campaignId</th>\n",
       "      <th>platform</th>\n",
       "      <th>softwareVersion</th>\n",
       "      <th>sourceGameId</th>\n",
       "      <th>connectionType</th>\n",
       "      <th>deviceType</th>\n",
       "      <th>country</th>\n",
       "      <th>startCount</th>\n",
       "      <th>viewCount</th>\n",
       "      <th>clickCount</th>\n",
       "      <th>installCount</th>\n",
       "      <th>startCount1d</th>\n",
       "      <th>startCount7d</th>\n",
       "      <th>timeSinceLastStart</th>\n",
       "    </tr>\n",
       "  </thead>\n",
       "  <tbody>\n",
       "    <tr>\n",
       "      <th>1422564</th>\n",
       "      <td>5986</td>\n",
       "      <td>1</td>\n",
       "      <td>85</td>\n",
       "      <td>9414</td>\n",
       "      <td>3</td>\n",
       "      <td>25692</td>\n",
       "      <td>206</td>\n",
       "      <td>0.899682</td>\n",
       "      <td>1.109663</td>\n",
       "      <td>-0.159340</td>\n",
       "      <td>-0.367338</td>\n",
       "      <td>-0.243125</td>\n",
       "      <td>1.205121</td>\n",
       "      <td>-0.305599</td>\n",
       "    </tr>\n",
       "    <tr>\n",
       "      <th>1221207</th>\n",
       "      <td>6412</td>\n",
       "      <td>1</td>\n",
       "      <td>105</td>\n",
       "      <td>22524</td>\n",
       "      <td>3</td>\n",
       "      <td>27933</td>\n",
       "      <td>162</td>\n",
       "      <td>1.737384</td>\n",
       "      <td>2.080751</td>\n",
       "      <td>2.964460</td>\n",
       "      <td>0.282590</td>\n",
       "      <td>0.105217</td>\n",
       "      <td>0.291202</td>\n",
       "      <td>-0.305182</td>\n",
       "    </tr>\n",
       "    <tr>\n",
       "      <th>2487525</th>\n",
       "      <td>7557</td>\n",
       "      <td>1</td>\n",
       "      <td>137</td>\n",
       "      <td>15348</td>\n",
       "      <td>3</td>\n",
       "      <td>10814</td>\n",
       "      <td>109</td>\n",
       "      <td>0.050959</td>\n",
       "      <td>-0.176712</td>\n",
       "      <td>-0.010588</td>\n",
       "      <td>0.932519</td>\n",
       "      <td>-0.330210</td>\n",
       "      <td>0.434002</td>\n",
       "      <td>-0.304138</td>\n",
       "    </tr>\n",
       "    <tr>\n",
       "      <th>510207</th>\n",
       "      <td>8807</td>\n",
       "      <td>1</td>\n",
       "      <td>101</td>\n",
       "      <td>6334</td>\n",
       "      <td>1</td>\n",
       "      <td>8440</td>\n",
       "      <td>39</td>\n",
       "      <td>-0.434026</td>\n",
       "      <td>-0.416331</td>\n",
       "      <td>-0.308092</td>\n",
       "      <td>-0.367338</td>\n",
       "      <td>-0.330210</td>\n",
       "      <td>-0.308557</td>\n",
       "      <td>-0.294744</td>\n",
       "    </tr>\n",
       "    <tr>\n",
       "      <th>936009</th>\n",
       "      <td>3571</td>\n",
       "      <td>1</td>\n",
       "      <td>141</td>\n",
       "      <td>19089</td>\n",
       "      <td>3</td>\n",
       "      <td>13316</td>\n",
       "      <td>195</td>\n",
       "      <td>0.359586</td>\n",
       "      <td>-0.340662</td>\n",
       "      <td>-0.159340</td>\n",
       "      <td>0.282590</td>\n",
       "      <td>-0.156039</td>\n",
       "      <td>0.119842</td>\n",
       "      <td>-0.299963</td>\n",
       "    </tr>\n",
       "    <tr>\n",
       "      <th>...</th>\n",
       "      <td>...</td>\n",
       "      <td>...</td>\n",
       "      <td>...</td>\n",
       "      <td>...</td>\n",
       "      <td>...</td>\n",
       "      <td>...</td>\n",
       "      <td>...</td>\n",
       "      <td>...</td>\n",
       "      <td>...</td>\n",
       "      <td>...</td>\n",
       "      <td>...</td>\n",
       "      <td>...</td>\n",
       "      <td>...</td>\n",
       "      <td>...</td>\n",
       "    </tr>\n",
       "    <tr>\n",
       "      <th>459548</th>\n",
       "      <td>4599</td>\n",
       "      <td>1</td>\n",
       "      <td>66</td>\n",
       "      <td>22455</td>\n",
       "      <td>1</td>\n",
       "      <td>7211</td>\n",
       "      <td>89</td>\n",
       "      <td>-0.246646</td>\n",
       "      <td>-0.151489</td>\n",
       "      <td>-0.159340</td>\n",
       "      <td>-0.367338</td>\n",
       "      <td>-0.504381</td>\n",
       "      <td>-0.194317</td>\n",
       "      <td>0.039263</td>\n",
       "    </tr>\n",
       "    <tr>\n",
       "      <th>3509209</th>\n",
       "      <td>970</td>\n",
       "      <td>2</td>\n",
       "      <td>40</td>\n",
       "      <td>111</td>\n",
       "      <td>1</td>\n",
       "      <td>23390</td>\n",
       "      <td>67</td>\n",
       "      <td>-0.522205</td>\n",
       "      <td>-0.454166</td>\n",
       "      <td>-0.308092</td>\n",
       "      <td>-0.367338</td>\n",
       "      <td>-0.504381</td>\n",
       "      <td>-0.537036</td>\n",
       "      <td>-0.305808</td>\n",
       "    </tr>\n",
       "    <tr>\n",
       "      <th>1066203</th>\n",
       "      <td>753</td>\n",
       "      <td>1</td>\n",
       "      <td>87</td>\n",
       "      <td>10176</td>\n",
       "      <td>3</td>\n",
       "      <td>9895</td>\n",
       "      <td>126</td>\n",
       "      <td>-0.489138</td>\n",
       "      <td>-0.428943</td>\n",
       "      <td>-0.308092</td>\n",
       "      <td>-0.367338</td>\n",
       "      <td>-0.243125</td>\n",
       "      <td>-0.451357</td>\n",
       "      <td>-0.305182</td>\n",
       "    </tr>\n",
       "    <tr>\n",
       "      <th>2529167</th>\n",
       "      <td>9569</td>\n",
       "      <td>1</td>\n",
       "      <td>137</td>\n",
       "      <td>7299</td>\n",
       "      <td>3</td>\n",
       "      <td>25634</td>\n",
       "      <td>206</td>\n",
       "      <td>-0.103355</td>\n",
       "      <td>-0.302828</td>\n",
       "      <td>-0.308092</td>\n",
       "      <td>-0.367338</td>\n",
       "      <td>-0.068954</td>\n",
       "      <td>-0.251437</td>\n",
       "      <td>-0.304973</td>\n",
       "    </tr>\n",
       "    <tr>\n",
       "      <th>186400</th>\n",
       "      <td>3993</td>\n",
       "      <td>1</td>\n",
       "      <td>105</td>\n",
       "      <td>20881</td>\n",
       "      <td>2</td>\n",
       "      <td>19602</td>\n",
       "      <td>93</td>\n",
       "      <td>-0.114377</td>\n",
       "      <td>-0.290216</td>\n",
       "      <td>0.733174</td>\n",
       "      <td>-0.367338</td>\n",
       "      <td>-0.504381</td>\n",
       "      <td>-0.479917</td>\n",
       "      <td>0.134872</td>\n",
       "    </tr>\n",
       "  </tbody>\n",
       "</table>\n",
       "<p>2991150 rows × 14 columns</p>\n",
       "</div>"
      ],
      "text/plain": [
       "         campaignId  platform  softwareVersion  sourceGameId  connectionType  \\\n",
       "1422564        5986         1               85          9414               3   \n",
       "1221207        6412         1              105         22524               3   \n",
       "2487525        7557         1              137         15348               3   \n",
       "510207         8807         1              101          6334               1   \n",
       "936009         3571         1              141         19089               3   \n",
       "...             ...       ...              ...           ...             ...   \n",
       "459548         4599         1               66         22455               1   \n",
       "3509209         970         2               40           111               1   \n",
       "1066203         753         1               87         10176               3   \n",
       "2529167        9569         1              137          7299               3   \n",
       "186400         3993         1              105         20881               2   \n",
       "\n",
       "         deviceType  country  startCount  viewCount  clickCount  installCount  \\\n",
       "1422564       25692      206    0.899682   1.109663   -0.159340     -0.367338   \n",
       "1221207       27933      162    1.737384   2.080751    2.964460      0.282590   \n",
       "2487525       10814      109    0.050959  -0.176712   -0.010588      0.932519   \n",
       "510207         8440       39   -0.434026  -0.416331   -0.308092     -0.367338   \n",
       "936009        13316      195    0.359586  -0.340662   -0.159340      0.282590   \n",
       "...             ...      ...         ...        ...         ...           ...   \n",
       "459548         7211       89   -0.246646  -0.151489   -0.159340     -0.367338   \n",
       "3509209       23390       67   -0.522205  -0.454166   -0.308092     -0.367338   \n",
       "1066203        9895      126   -0.489138  -0.428943   -0.308092     -0.367338   \n",
       "2529167       25634      206   -0.103355  -0.302828   -0.308092     -0.367338   \n",
       "186400        19602       93   -0.114377  -0.290216    0.733174     -0.367338   \n",
       "\n",
       "         startCount1d  startCount7d  timeSinceLastStart  \n",
       "1422564     -0.243125      1.205121           -0.305599  \n",
       "1221207      0.105217      0.291202           -0.305182  \n",
       "2487525     -0.330210      0.434002           -0.304138  \n",
       "510207      -0.330210     -0.308557           -0.294744  \n",
       "936009      -0.156039      0.119842           -0.299963  \n",
       "...               ...           ...                 ...  \n",
       "459548      -0.504381     -0.194317            0.039263  \n",
       "3509209     -0.504381     -0.537036           -0.305808  \n",
       "1066203     -0.243125     -0.451357           -0.305182  \n",
       "2529167     -0.068954     -0.251437           -0.304973  \n",
       "186400      -0.504381     -0.479917            0.134872  \n",
       "\n",
       "[2991150 rows x 14 columns]"
      ]
     },
     "execution_count": 18,
     "metadata": {},
     "output_type": "execute_result"
    }
   ],
   "source": [
    "dls.xs"
   ]
  },
  {
   "cell_type": "code",
   "execution_count": 19,
   "metadata": {},
   "outputs": [
    {
     "data": {
      "text/plain": [
       "                               id           timestamp  campaignId  platform  \\\n",
       "1066973  5c4436c1d471af44f1597d70 2019-01-20 08:52:17         753         1   \n",
       "2189744  5c42925b6b25e35c7c7f216b 2019-01-19 02:58:35        6876         1   \n",
       "74841    5c347fe951c90503cbb7cc06 2019-01-08 10:48:09        1349         1   \n",
       "715396   5c38c4150d72d3202f67fe32 2019-01-11 16:28:05        5547         2   \n",
       "1311082  5c3549ec51c4126b1a05fbbf 2019-01-09 01:10:04        3236         1   \n",
       "...                           ...                 ...         ...       ...   \n",
       "537195   5c3c395abd7ef8e3e7a0819e 2019-01-14 07:25:14        7955         2   \n",
       "3166680  5c40c94da8619c20d05b3a7b 2019-01-17 18:28:29        2142         1   \n",
       "2394065  5c367ad326058f3d5922a05b 2019-01-09 22:50:59        3913         2   \n",
       "280558   5c445f85bc2938596d82dd9b 2019-01-20 11:46:13        8754         2   \n",
       "2772406  5c381c715e23967ec564078f 2019-01-11 04:32:49        1666         2   \n",
       "\n",
       "         softwareVersion  sourceGameId  country  startCount  viewCount  \\\n",
       "1066973              137         33828       57   -0.312780  -0.227159   \n",
       "2189744              119          3061      202   -0.367892  -0.290216   \n",
       "74841                 90         24593       93   -0.246646  -0.214547   \n",
       "715396                16         19609       49    1.627160   1.664570   \n",
       "1311082              119          8228      206    2.189302   2.623046   \n",
       "...                  ...           ...      ...         ...        ...   \n",
       "537195                34         21200       34    0.337541   0.529533   \n",
       "3166680              137         19504       98   -0.367892  -0.277605   \n",
       "2394065               30          9969      206    1.990899   2.421262   \n",
       "280558                38          2878       41   -0.423004  -0.378497   \n",
       "2772406               40         25208      206   -0.511183  -0.441554   \n",
       "\n",
       "         clickCount  installCount           lastStart  startCount1d  \\\n",
       "1066973   -0.308092     -0.367338 2019-01-20 08:51:46     -0.417296   \n",
       "2189744   -0.308092     -0.367338 2019-01-19 02:56:11     -0.417296   \n",
       "74841      0.286917      0.282590 2019-01-08 10:47:35     -0.068954   \n",
       "715396     0.733174      3.532232 2019-01-11 16:23:30      0.627729   \n",
       "1311082    0.584422     -0.367338 2019-01-09 01:09:20      0.279388   \n",
       "...             ...           ...                 ...           ...   \n",
       "537195    -0.308092      0.282590 2019-01-14 07:24:24     -0.417296   \n",
       "3166680   -0.308092     -0.367338 2019-01-17 18:23:34      0.540644   \n",
       "2394065   -0.308092     -0.367338 2019-01-09 22:48:20      1.672755   \n",
       "280558    -0.010588     -0.367338 2019-01-20 11:44:56      0.105217   \n",
       "2772406   -0.308092     -0.367338 2019-01-11 04:27:06     -0.417296   \n",
       "\n",
       "         startCount7d  connectionType  deviceType  install  timeSinceLastStart  \n",
       "1066973     -0.165757               3        6218        0           -0.305599  \n",
       "2189744     -0.222877               3        6565        0           -0.305390  \n",
       "74841        0.176962               1       26070        0           -0.305599  \n",
       "715396       0.119842               3       23314        0           -0.304764  \n",
       "1311082      0.862401               3       10645        0           -0.305599  \n",
       "...               ...             ...         ...      ...                 ...  \n",
       "537195       0.034163               3       23315        0           -0.305599  \n",
       "3166680     -0.194317               3        6705        0           -0.304764  \n",
       "2394065      5.603353               1       23329        0           -0.305182  \n",
       "280558      -0.279997               1       23337        0           -0.305599  \n",
       "2772406     -0.508477               3       23382        0           -0.304555  \n",
       "\n",
       "[747787 rows x 18 columns]"
      ]
     },
     "execution_count": 19,
     "metadata": {},
     "output_type": "execute_result"
    }
   ],
   "source": [
    "dls.valid_ds"
   ]
  },
  {
   "cell_type": "code",
   "execution_count": 20,
   "metadata": {},
   "outputs": [
    {
     "data": {
      "text/plain": [
       "FlattenedLoss of CrossEntropyLoss()"
      ]
     },
     "execution_count": 20,
     "metadata": {},
     "output_type": "execute_result"
    }
   ],
   "source": [
    "weights = [w_0, w_1]\n",
    "class_weights=torch.FloatTensor(weights).cuda()\n",
    "loss_func = CrossEntropyLossFlat(weights=class_weights)\n",
    "roc_auc = RocAucBinary()\n",
    "\n",
    "learn = tabular_learner(dls, layers=[500, 250], loss_func=loss_func, metrics=roc_auc)\n",
    "learn.loss_func"
   ]
  },
  {
   "cell_type": "code",
   "execution_count": 21,
   "metadata": {},
   "outputs": [
    {
     "data": {
      "text/html": [],
      "text/plain": [
       "<IPython.core.display.HTML object>"
      ]
     },
     "metadata": {},
     "output_type": "display_data"
    },
    {
     "data": {
      "text/plain": [
       "SuggestedLRs(lr_min=0.017378008365631102, lr_steep=0.0020892962347716093)"
      ]
     },
     "execution_count": 21,
     "metadata": {},
     "output_type": "execute_result"
    },
    {
     "data": {
      "image/png": "[encoded data removed]",
      "text/plain": [
       "<Figure size 432x288 with 1 Axes>"
      ]
     },
     "metadata": {
      "needs_background": "light"
     },
     "output_type": "display_data"
    }
   ],
   "source": [
    "learn.lr_find()"
   ]
  },
  {
   "cell_type": "code",
   "execution_count": null,
   "metadata": {},
   "outputs": [
    {
     "data": {
      "text/html": [
       "\n",
       "    <div>\n",
       "        <style>\n",
       "            /* Turns off some styling */\n",
       "            progress {\n",
       "                /* gets rid of default border in Firefox and Opera. */\n",
       "                border: none;\n",
       "                /* Needs to be in here for Safari polyfill so background images work as expected. */\n",
       "                background-size: auto;\n",
       "            }\n",
       "            .progress-bar-interrupted, .progress-bar-interrupted::-webkit-progress-bar {\n",
       "                background: #F44336;\n",
       "            }\n",
       "        </style>\n",
       "      <progress value='0' class='' max='3' style='width:300px; height:20px; vertical-align: middle;'></progress>\n",
       "      0.00% [0/3 00:00<00:00]\n",
       "    </div>\n",
       "    \n",
       "<table border=\"1\" class=\"dataframe\">\n",
       "  <thead>\n",
       "    <tr style=\"text-align: left;\">\n",
       "      <th>epoch</th>\n",
       "      <th>train_loss</th>\n",
       "      <th>valid_loss</th>\n",
       "      <th>roc_auc_score</th>\n",
       "      <th>time</th>\n",
       "    </tr>\n",
       "  </thead>\n",
       "  <tbody>\n",
       "  </tbody>\n",
       "</table><p>\n",
       "\n",
       "    <div>\n",
       "        <style>\n",
       "            /* Turns off some styling */\n",
       "            progress {\n",
       "                /* gets rid of default border in Firefox and Opera. */\n",
       "                border: none;\n",
       "                /* Needs to be in here for Safari polyfill so background images work as expected. */\n",
       "                background-size: auto;\n",
       "            }\n",
       "            .progress-bar-interrupted, .progress-bar-interrupted::-webkit-progress-bar {\n",
       "                background: #F44336;\n",
       "            }\n",
       "        </style>\n",
       "      <progress value='985' class='' max='2921' style='width:300px; height:20px; vertical-align: middle;'></progress>\n",
       "      33.72% [985/2921 00:41<01:21 0.0595]\n",
       "    </div>\n",
       "    "
      ],
      "text/plain": [
       "<IPython.core.display.HTML object>"
      ]
     },
     "metadata": {},
     "output_type": "display_data"
    }
   ],
   "source": [
    "learn.fit_one_cycle(3, lr_min=0.017)"
   ]
  },
  {
   "cell_type": "code",
   "execution_count": 14,
   "metadata": {},
   "outputs": [
    {
     "data": {
      "text/plain": [
       "TabularModel(\n",
       "  (embeds): ModuleList(\n",
       "    (0): Embedding(9693, 273)\n",
       "    (1): Embedding(3, 3)\n",
       "    (2): Embedding(196, 31)\n",
       "    (3): Embedding(222, 33)\n",
       "    (4): Embedding(4, 3)\n",
       "    (5): Embedding(28324, 498)\n",
       "    (6): Embedding(1754, 105)\n",
       "    (7): Embedding(34850, 559)\n",
       "  )\n",
       "  (emb_drop): Dropout(p=0.0, inplace=False)\n",
       "  (bn_cont): BatchNorm1d(6, eps=1e-05, momentum=0.1, affine=True, track_running_stats=True)\n",
       "  (layers): Sequential(\n",
       "    (0): LinBnDrop(\n",
       "      (0): BatchNorm1d(1511, eps=1e-05, momentum=0.1, affine=True, track_running_stats=True)\n",
       "      (1): Linear(in_features=1511, out_features=500, bias=False)\n",
       "      (2): ReLU(inplace=True)\n",
       "    )\n",
       "    (1): LinBnDrop(\n",
       "      (0): BatchNorm1d(500, eps=1e-05, momentum=0.1, affine=True, track_running_stats=True)\n",
       "      (1): Linear(in_features=500, out_features=250, bias=False)\n",
       "      (2): ReLU(inplace=True)\n",
       "    )\n",
       "    (2): LinBnDrop(\n",
       "      (0): Linear(in_features=250, out_features=2, bias=True)\n",
       "    )\n",
       "  )\n",
       ")"
      ]
     },
     "execution_count": 14,
     "metadata": {},
     "output_type": "execute_result"
    }
   ],
   "source": [
    "learn.model"
   ]
  },
  {
   "cell_type": "code",
   "execution_count": null,
   "metadata": {},
   "outputs": [],
   "source": []
  }
 ],
 "metadata": {
  "environment": {
   "name": "pytorch-gpu.1-4.m55",
   "type": "gcloud",
   "uri": "gcr.io/deeplearning-platform-release/pytorch-gpu.1-4:m55"
  },
  "kernelspec": {
   "display_name": "Python 3",
   "language": "python",
   "name": "python3"
  },
  "language_info": {
   "codemirror_mode": {
    "name": "ipython",
    "version": 3
   },
   "file_extension": ".py",
   "mimetype": "text/x-python",
   "name": "python",
   "nbconvert_exporter": "python",
   "pygments_lexer": "ipython3",
   "version": "3.7.8"
  }
 },
 "nbformat": 4,
 "nbformat_minor": 4
}
