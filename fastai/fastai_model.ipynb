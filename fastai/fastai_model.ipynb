{
 "cells": [
  {
   "cell_type": "code",
   "execution_count": 1,
   "metadata": {},
   "outputs": [],
   "source": [
    "import pandas as pd\n",
    "\n",
    "from fastai.tabular.all import *"
   ]
  },
  {
   "cell_type": "code",
   "execution_count": 2,
   "metadata": {},
   "outputs": [],
   "source": [
    "DATA_PATH = '../data/preprocessed_training_data.pkl'"
   ]
  },
  {
   "cell_type": "code",
   "execution_count": 21,
   "metadata": {},
   "outputs": [
    {
     "name": "stdout",
     "output_type": "stream",
     "text": [
      "<class 'pandas.core.frame.DataFrame'>\n",
      "RangeIndex: 400000 entries, 0 to 399999\n",
      "Data columns (total 18 columns):\n",
      " #   Column              Non-Null Count   Dtype         \n",
      "---  ------              --------------   -----         \n",
      " 0   id                  400000 non-null  object        \n",
      " 1   timestamp           400000 non-null  datetime64[ns]\n",
      " 2   campaignId          400000 non-null  object        \n",
      " 3   platform            400000 non-null  object        \n",
      " 4   softwareVersion     400000 non-null  object        \n",
      " 5   sourceGameId        400000 non-null  object        \n",
      " 6   country             400000 non-null  object        \n",
      " 7   startCount          400000 non-null  int64         \n",
      " 8   viewCount           400000 non-null  int64         \n",
      " 9   clickCount          400000 non-null  int64         \n",
      " 10  installCount        400000 non-null  int64         \n",
      " 11  lastStart           369470 non-null  datetime64[ns]\n",
      " 12  startCount1d        400000 non-null  int64         \n",
      " 13  startCount7d        400000 non-null  int64         \n",
      " 14  connectionType      400000 non-null  object        \n",
      " 15  deviceType          400000 non-null  object        \n",
      " 16  install             400000 non-null  int64         \n",
      " 17  timeSinceLastStart  400000 non-null  float64       \n",
      "dtypes: datetime64[ns](2), float64(1), int64(7), object(8)\n",
      "memory usage: 54.9+ MB\n"
     ]
    }
   ],
   "source": [
    "df = pd.read_pickle(DATA_PATH)[:400000]\n",
    "df.info()"
   ]
  },
  {
   "cell_type": "code",
   "execution_count": 22,
   "metadata": {},
   "outputs": [],
   "source": [
    "class_count_df = df.groupby('install').count()['installCount']\n",
    "\n",
    "n_0, n_1 = class_count_df[0], class_count_df[1]\n",
    "\n",
    "w_1 = (n_0 + n_1) / (2.0 * n_1)\n",
    "w_0 = (n_0 + n_1) / (2.0 * n_0)"
   ]
  },
  {
   "cell_type": "code",
   "execution_count": 43,
   "metadata": {},
   "outputs": [],
   "source": [
    "dls = TabularDataLoaders.from_df(df, y_names='install', \n",
    "                                 cat_names=['campaignId', 'platform', 'softwareVersion', 'sourceGameId', \n",
    "                                            'connectionType', 'deviceType', 'country'],\n",
    "                                 cont_names=['startCount', 'viewCount', 'clickCount', 'installCount',\n",
    "                                             'startCount1d', 'startCount7d', 'timeSinceLastStart'],\n",
    "                                 procs=[Categorify, FillMissing, Normalize])"
   ]
  },
  {
   "cell_type": "code",
   "execution_count": 44,
   "metadata": {},
   "outputs": [],
   "source": [
    "class FocalLoss(nn.Module):\n",
    "    def __init__(self, gamma=2):\n",
    "        super().__init__()\n",
    "        self.gamma = gamma\n",
    "\n",
    "    def forward(self, logit, target):\n",
    "        target = target.float()\n",
    "        max_val = (-logit).clamp(min=0)\n",
    "        loss = logit - logit * target + max_val + \\\n",
    "               ((-max_val).exp() + (-logit - max_val).exp()).log()\n",
    "\n",
    "        invprobs = F.logsigmoid(-logit * (target * 2.0 - 1.0))\n",
    "        loss = (invprobs * self.gamma).exp() * loss\n",
    "        if len(loss.size())==2:\n",
    "            loss = loss.sum(dim=1)\n",
    "        return loss.mean()"
   ]
  },
  {
   "cell_type": "code",
   "execution_count": 47,
   "metadata": {},
   "outputs": [],
   "source": [
    "weights = [w_0, w_1]\n",
    "class_weights=torch.FloatTensor(weights).cuda()\n",
    "# nn.CrossEntropyLoss(weight=class_weights)\n",
    "roc_auc = RocAuc()\n",
    "\n",
    "learn = tabular_learner(dls, loss_func=FocalLoss(), metrics=roc_auc)"
   ]
  },
  {
   "cell_type": "code",
   "execution_count": 48,
   "metadata": {},
   "outputs": [
    {
     "data": {
      "text/html": [
       "<table border=\"1\" class=\"dataframe\">\n",
       "  <thead>\n",
       "    <tr style=\"text-align: left;\">\n",
       "      <th>epoch</th>\n",
       "      <th>train_loss</th>\n",
       "      <th>valid_loss</th>\n",
       "      <th>roc_auc_score</th>\n",
       "      <th>time</th>\n",
       "    </tr>\n",
       "  </thead>\n",
       "  <tbody>\n",
       "    <tr>\n",
       "      <td>0</td>\n",
       "      <td>0.021782</td>\n",
       "      <td>0.023738</td>\n",
       "      <td>0.500000</td>\n",
       "      <td>01:20</td>\n",
       "    </tr>\n",
       "    <tr>\n",
       "      <td>1</td>\n",
       "      <td>0.020169</td>\n",
       "      <td>0.023134</td>\n",
       "      <td>0.500000</td>\n",
       "      <td>01:21</td>\n",
       "    </tr>\n",
       "    <tr>\n",
       "      <td>2</td>\n",
       "      <td>0.025252</td>\n",
       "      <td>0.022846</td>\n",
       "      <td>0.500000</td>\n",
       "      <td>01:21</td>\n",
       "    </tr>\n",
       "  </tbody>\n",
       "</table>"
      ],
      "text/plain": [
       "<IPython.core.display.HTML object>"
      ]
     },
     "metadata": {},
     "output_type": "display_data"
    }
   ],
   "source": [
    "learn.fit_one_cycle(3)"
   ]
  },
  {
   "cell_type": "code",
   "execution_count": null,
   "metadata": {},
   "outputs": [],
   "source": []
  }
 ],
 "metadata": {
  "environment": {
   "name": "pytorch-gpu.1-4.m55",
   "type": "gcloud",
   "uri": "gcr.io/deeplearning-platform-release/pytorch-gpu.1-4:m55"
  },
  "kernelspec": {
   "display_name": "Python 3",
   "language": "python",
   "name": "python3"
  },
  "language_info": {
   "codemirror_mode": {
    "name": "ipython",
    "version": 3
   },
   "file_extension": ".py",
   "mimetype": "text/x-python",
   "name": "python",
   "nbconvert_exporter": "python",
   "pygments_lexer": "ipython3",
   "version": "3.7.8"
  }
 },
 "nbformat": 4,
 "nbformat_minor": 4
}
