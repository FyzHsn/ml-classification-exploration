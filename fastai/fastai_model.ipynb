{
 "cells": [
  {
   "cell_type": "code",
   "execution_count": 9,
   "metadata": {},
   "outputs": [],
   "source": [
    "import pandas as pd\n",
    "\n",
    "from fastai.tabular.all import *"
   ]
  },
  {
   "cell_type": "code",
   "execution_count": 10,
   "metadata": {},
   "outputs": [],
   "source": [
    "DATA_PATH = '../data/preprocessed_training_data.pkl'"
   ]
  },
  {
   "cell_type": "code",
   "execution_count": 11,
   "metadata": {},
   "outputs": [
    {
     "name": "stdout",
     "output_type": "stream",
     "text": [
      "<class 'pandas.core.frame.DataFrame'>\n",
      "RangeIndex: 100000 entries, 0 to 99999\n",
      "Data columns (total 18 columns):\n",
      " #   Column              Non-Null Count   Dtype         \n",
      "---  ------              --------------   -----         \n",
      " 0   id                  100000 non-null  object        \n",
      " 1   timestamp           100000 non-null  datetime64[ns]\n",
      " 2   campaignId          100000 non-null  object        \n",
      " 3   platform            100000 non-null  object        \n",
      " 4   softwareVersion     100000 non-null  object        \n",
      " 5   sourceGameId        100000 non-null  object        \n",
      " 6   country             100000 non-null  object        \n",
      " 7   startCount          100000 non-null  int64         \n",
      " 8   viewCount           100000 non-null  int64         \n",
      " 9   clickCount          100000 non-null  int64         \n",
      " 10  installCount        100000 non-null  int64         \n",
      " 11  lastStart           93348 non-null   datetime64[ns]\n",
      " 12  startCount1d        100000 non-null  int64         \n",
      " 13  startCount7d        100000 non-null  int64         \n",
      " 14  connectionType      100000 non-null  object        \n",
      " 15  deviceType          100000 non-null  object        \n",
      " 16  install             100000 non-null  int64         \n",
      " 17  timeSinceLastStart  100000 non-null  float64       \n",
      "dtypes: datetime64[ns](2), float64(1), int64(7), object(8)\n",
      "memory usage: 13.7+ MB\n"
     ]
    }
   ],
   "source": [
    "df = pd.read_pickle(DATA_PATH)[:100000]\n",
    "df.info()"
   ]
  },
  {
   "cell_type": "code",
   "execution_count": 33,
   "metadata": {},
   "outputs": [
    {
     "data": {
      "text/plain": [
       "(install\n",
       " 0    98040\n",
       " 1     1960\n",
       " Name: installCount, dtype: int64,\n",
       " Empty DataFrame\n",
       " Columns: [install]\n",
       " Index: [])"
      ]
     },
     "execution_count": 33,
     "metadata": {},
     "output_type": "execute_result"
    }
   ],
   "source": [
    "class_count_df = df.groupby('install').count()['installCount']\n",
    "\n",
    "n_0 = class_count_df[0]\n",
    "\n",
    "# w_1 = (n_0 + n_1) / (2.0 * n_1)\n",
    "# w_0 = (n_0 + n_1) / (2.0 * n_0)\n",
    "\n",
    "class_count_df, n_1"
   ]
  },
  {
   "cell_type": "code",
   "execution_count": 12,
   "metadata": {},
   "outputs": [],
   "source": [
    "dls = TabularDataLoaders.from_df(df, y_names='install', \n",
    "                                 cat_names=['campaignId', 'platform', 'softwareVersion', 'sourceGameId', \n",
    "                                            'connectionType', 'deviceType', 'country'],\n",
    "                                 cont_names=['startCount', 'viewCount', 'clickCount', 'installCount',\n",
    "                                             'startCount1d', 'startCount7d', 'timeSinceLastStart'],\n",
    "                                 procs=[Categorify, FillMissing, Normalize])"
   ]
  },
  {
   "cell_type": "code",
   "execution_count": 20,
   "metadata": {},
   "outputs": [],
   "source": [
    "roc_auc = RocAuc()\n",
    "balanced_accuracy = BalancedAccuracy()\n",
    "learn = tabular_learner(dls, metrics=roc_auc)\n",
    "# learn = tabular_learner(dls, metrics=BalancedAccuracy)"
   ]
  },
  {
   "cell_type": "code",
   "execution_count": 21,
   "metadata": {},
   "outputs": [
    {
     "data": {
      "text/html": [
       "<table border=\"1\" class=\"dataframe\">\n",
       "  <thead>\n",
       "    <tr style=\"text-align: left;\">\n",
       "      <th>epoch</th>\n",
       "      <th>train_loss</th>\n",
       "      <th>valid_loss</th>\n",
       "      <th>roc_auc_score</th>\n",
       "      <th>time</th>\n",
       "    </tr>\n",
       "  </thead>\n",
       "  <tbody>\n",
       "    <tr>\n",
       "      <td>0</td>\n",
       "      <td>0.021454</td>\n",
       "      <td>0.019844</td>\n",
       "      <td>0.500000</td>\n",
       "      <td>00:46</td>\n",
       "    </tr>\n",
       "    <tr>\n",
       "      <td>1</td>\n",
       "      <td>0.021068</td>\n",
       "      <td>0.019621</td>\n",
       "      <td>0.500000</td>\n",
       "      <td>00:52</td>\n",
       "    </tr>\n",
       "    <tr>\n",
       "      <td>2</td>\n",
       "      <td>0.019203</td>\n",
       "      <td>0.020077</td>\n",
       "      <td>0.500000</td>\n",
       "      <td>00:47</td>\n",
       "    </tr>\n",
       "  </tbody>\n",
       "</table>"
      ],
      "text/plain": [
       "<IPython.core.display.HTML object>"
      ]
     },
     "metadata": {},
     "output_type": "display_data"
    }
   ],
   "source": [
    "learn.fit_one_cycle(3)"
   ]
  },
  {
   "cell_type": "code",
   "execution_count": null,
   "metadata": {},
   "outputs": [],
   "source": []
  }
 ],
 "metadata": {
  "environment": {
   "name": "pytorch-gpu.1-4.m55",
   "type": "gcloud",
   "uri": "gcr.io/deeplearning-platform-release/pytorch-gpu.1-4:m55"
  },
  "kernelspec": {
   "display_name": "Python 3",
   "language": "python",
   "name": "python3"
  },
  "language_info": {
   "codemirror_mode": {
    "name": "ipython",
    "version": 3
   },
   "file_extension": ".py",
   "mimetype": "text/x-python",
   "name": "python",
   "nbconvert_exporter": "python",
   "pygments_lexer": "ipython3",
   "version": "3.7.8"
  }
 },
 "nbformat": 4,
 "nbformat_minor": 4
}
