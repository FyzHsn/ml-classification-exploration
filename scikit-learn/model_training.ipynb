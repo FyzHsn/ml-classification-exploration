{
 "cells": [
  {
   "cell_type": "code",
   "execution_count": null,
   "metadata": {},
   "outputs": [],
   "source": [
    "import numpy as np\n",
    "import pandas as pd\n",
    "import random\n",
    "\n",
    "from sklearn.linear_model import LogisticRegression\n",
    "from sklearn.metrics import accuracy_score, confusion_matrix, roc_auc_score, make_scorer\n",
    "from sklearn.model_selection import GridSearchCV, StratifiedKFold\n",
    "from sklearn.pipeline import Pipeline\n",
    "from sklearn.preprocessing import StandardScaler"
   ]
  },
  {
   "cell_type": "code",
   "execution_count": null,
   "metadata": {},
   "outputs": [],
   "source": [
    "def get_class_label_indices(df, target_var):\n",
    "    zeroes_indices = df.index[df[target_var] == 0].tolist()\n",
    "    ones_indices = df.index[df[target_var] == 1].tolist()\n",
    "    return zeroes_indices, ones_indices"
   ]
  },
  {
   "cell_type": "code",
   "execution_count": null,
   "metadata": {},
   "outputs": [],
   "source": [
    "def upsampled_stratified_test_train_indices(zeros, ones, test_split=0.3):\n",
    "    random.shuffle(zeros)\n",
    "    random.shuffle(ones)\n",
    "\n",
    "    m, n = int(test_split * len(zeros)), int(test_split * len(ones))\n",
    "\n",
    "    train_indices = zeros[m:] + random.choices(ones[n:], k=len(zeros) - m)\n",
    "    test_indices = zeros[:m] + ones[:n]\n",
    "\n",
    "    random.shuffle(train_indices)\n",
    "    random.shuffle(test_indices)\n",
    "\n",
    "    return train_indices, test_indices"
   ]
  },
  {
   "cell_type": "code",
   "execution_count": null,
   "metadata": {},
   "outputs": [],
   "source": [
    "def generate_feature_and_target_vectors(df, indices):\n",
    "    X = df.loc[indices, ['startCount', 'viewCount', 'clickCount',\n",
    "                         'installCount']].values.tolist()\n",
    "    y = np.ravel(df.loc[indices, ['install']].values)\n",
    "    return X, y"
   ]
  },
  {
   "cell_type": "code",
   "execution_count": null,
   "metadata": {},
   "outputs": [],
   "source": [
    "data = pd.read_csv('training_data.csv', sep=';')\n",
    "features = ['startCount', 'viewCount', 'clickCount', 'installCount', \n",
    "            'lastStart', 'startCount1d', 'startCount7d', 'install']\n",
    "data = data[features]"
   ]
  },
  {
   "cell_type": "code",
   "execution_count": null,
   "metadata": {},
   "outputs": [],
   "source": [
    "zeros, ones = get_class_label_indices(data, 'install')\n",
    "train, test = upsampled_stratified_test_train_indices(zeros, ones, 0.3)\n",
    "\n",
    "X_train, y_train = generate_feature_and_target_vectors(data, train)\n",
    "X_test, y_test = generate_feature_and_target_vectors(data, test)"
   ]
  },
  {
   "cell_type": "code",
   "execution_count": null,
   "metadata": {},
   "outputs": [],
   "source": [
    "pipe_lr = Pipeline([('scl', StandardScaler()),\n",
    "                   ('clf', LogisticRegression(random_state=0))])\n",
    "param_range = [0.01, 0.1, 1.0, 10.0, 100.0]\n",
    "param_grid = [{'clf__C': param_range,\n",
    "              'clf__penalty': ['l1', 'l2']}]"
   ]
  },
  {
   "cell_type": "code",
   "execution_count": null,
   "metadata": {},
   "outputs": [],
   "source": [
    "gs = GridSearchCV(estimator=pipe_lr,\n",
    "                 param_grid=param_grid,\n",
    "                 scoring='roc_auc',\n",
    "                 cv=3,\n",
    "                 n_jobs=-1)\n",
    "gs = gs.fit(X_train, y_train)\n",
    "print(gs.best_score_)"
   ]
  },
  {
   "cell_type": "code",
   "execution_count": null,
   "metadata": {},
   "outputs": [],
   "source": [
    "print(gs_best_params_)"
   ]
  },
  {
   "cell_type": "code",
   "execution_count": null,
   "metadata": {},
   "outputs": [],
   "source": [
    "print(accuracy_score(y_test, y_pred))\n",
    "print(y_pred[:100], y_test[:100])\n",
    "print(confusion_matrix(y_pred, y_test))"
   ]
  },
  {
   "cell_type": "code",
   "execution_count": null,
   "metadata": {},
   "outputs": [],
   "source": [
    "print(roc_auc_score(y_pred, y_test))"
   ]
  },
  {
   "cell_type": "code",
   "execution_count": null,
   "metadata": {},
   "outputs": [],
   "source": []
  },
  {
   "cell_type": "code",
   "execution_count": null,
   "metadata": {},
   "outputs": [],
   "source": []
  }
 ],
 "metadata": {
  "kernelspec": {
   "display_name": "Python 3",
   "language": "python",
   "name": "python3"
  },
  "language_info": {
   "codemirror_mode": {
    "name": "ipython",
    "version": 3
   },
   "file_extension": ".py",
   "mimetype": "text/x-python",
   "name": "python",
   "nbconvert_exporter": "python",
   "pygments_lexer": "ipython3",
   "version": "3.7.3"
  }
 },
 "nbformat": 4,
 "nbformat_minor": 4
}
