{
 "cells": [
  {
   "cell_type": "code",
   "execution_count": 11,
   "metadata": {},
   "outputs": [],
   "source": [
    "import csv\n",
    "import datetime as dt\n",
    "import numpy as np\n",
    "import pandas as pd"
   ]
  },
  {
   "cell_type": "code",
   "execution_count": 12,
   "metadata": {},
   "outputs": [],
   "source": [
    "data = []\n",
    "with open('../data/training_data.csv') as f:\n",
    "    reader = csv.reader(f, delimiter=';', quoting=csv.QUOTE_NONE)\n",
    "    for row in reader:\n",
    "        data.append(row)\n",
    "col_names = data.pop(0)\n",
    "df = pd.DataFrame(data, columns=col_names)"
   ]
  },
  {
   "cell_type": "markdown",
   "metadata": {},
   "source": [
    "### Feature Engineering: Use timestamp and lastStart to create timeSinceLastStart"
   ]
  },
  {
   "cell_type": "code",
   "execution_count": 13,
   "metadata": {},
   "outputs": [],
   "source": [
    "def datetime_parser(datetime_str):\n",
    "    try:\n",
    "        date_str, time_str = datetime_str.split(\"T\")\n",
    "    except:\n",
    "        return \n",
    "    time_str=time_str[:8]\n",
    "    year, month, day = date_str.split(\"-\")\n",
    "    hour, minut, sec = time_str.split(\":\")\n",
    "    return dt.datetime(int(year), int(month), int(day), int(hour), int(minut), int(sec))\n",
    "        \n",
    "\n",
    "def time_diff_in_minutes(dt_0, dt_1):\n",
    "    return np.round((dt_1 - dt_0).total_seconds() / 60.0, 0)"
   ]
  },
  {
   "cell_type": "code",
   "execution_count": 14,
   "metadata": {},
   "outputs": [],
   "source": [
    "df.timestamp = df.timestamp.apply(datetime_parser)\n",
    "df.lastStart = df.lastStart.apply(datetime_parser)\n",
    "\n",
    "df['timeSinceLastStart'] = df.apply(lambda row: time_diff_in_minutes(row['lastStart'], row['timestamp']), axis=1).fillna(0) "
   ]
  },
  {
   "cell_type": "code",
   "execution_count": 15,
   "metadata": {},
   "outputs": [
    {
     "name": "stdout",
     "output_type": "stream",
     "text": [
      "                         id           timestamp                campaignId  \\\n",
      "0  5c36658fb58fad351175f0b6 2019-01-09 21:20:15  59687f0d896a6b0e5ce6ea15   \n",
      "1  5c38d5ab1c16172870186b5a 2019-01-11 17:43:07  59687f0d896a6b0e5ce6ea15   \n",
      "2  5c38815de8f4e50e256e4f9c 2019-01-11 11:43:25  59687f0d896a6b0e5ce6ea15   \n",
      "3  5c409ace532d5806d2c6a5e6 2019-01-17 15:10:06  59687f0d896a6b0e5ce6ea15   \n",
      "4  5c3904b92d798c41e7f3088a 2019-01-11 21:03:53  59687f0d896a6b0e5ce6ea15   \n",
      "\n",
      "  platform softwareVersion sourceGameId country startCount viewCount  \\\n",
      "0      ios          11.4.1      1373094      US         25        24   \n",
      "1      ios            12.1      2739989      US         10         9   \n",
      "2      ios          12.1.2      1373094      US         27        26   \n",
      "3      ios          12.1.2      1217749      US         15        14   \n",
      "4      ios          12.0.1      1373094      US         20        18   \n",
      "\n",
      "  clickCount installCount           lastStart startCount1d startCount7d  \\\n",
      "0          0            2 2019-01-08 18:49:48            1            8   \n",
      "1          2            0 2019-01-09 21:20:22            1            4   \n",
      "2          0            0 2019-01-09 10:42:08            1            2   \n",
      "3          2            0 2019-01-16 19:58:11            3           14   \n",
      "4          0            0 2019-01-11 21:03:05           13           18   \n",
      "\n",
      "  connectionType deviceType install  timeSinceLastStart  \n",
      "0       cellular  iPhone8,2       0              1590.0  \n",
      "1       cellular  iPhone9,1       0              2663.0  \n",
      "2       cellular  iPhone7,1       0              2941.0  \n",
      "3           wifi  iPhone7,2       0              1152.0  \n",
      "4       cellular  iPhone8,1       0                 1.0  \n",
      "(3738937, 18)\n"
     ]
    }
   ],
   "source": [
    "print(df.head())\n",
    "print(df.shape)"
   ]
  },
  {
   "cell_type": "code",
   "execution_count": 16,
   "metadata": {},
   "outputs": [],
   "source": [
    "# df.to_pickle('../data/preprocessed_training_data.pkl')"
   ]
  }
 ],
 "metadata": {
  "kernelspec": {
   "display_name": "Python 3",
   "language": "python",
   "name": "python3"
  },
  "language_info": {
   "codemirror_mode": {
    "name": "ipython",
    "version": 3
   },
   "file_extension": ".py",
   "mimetype": "text/x-python",
   "name": "python",
   "nbconvert_exporter": "python",
   "pygments_lexer": "ipython3",
   "version": "3.5.3"
  }
 },
 "nbformat": 4,
 "nbformat_minor": 4
}
