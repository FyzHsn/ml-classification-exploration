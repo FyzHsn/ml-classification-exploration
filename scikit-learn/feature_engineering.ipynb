{
 "cells": [
  {
   "cell_type": "code",
   "execution_count": null,
   "metadata": {},
   "outputs": [],
   "source": [
    "import csv\n",
    "import datetime as dt\n",
    "import numpy as np\n",
    "import pandas as pd"
   ]
  },
  {
   "cell_type": "code",
   "execution_count": null,
   "metadata": {},
   "outputs": [],
   "source": [
    "data = []\n",
    "with open('../data/training_data.csv') as f:\n",
    "    reader = csv.reader(f, delimiter=';', quoting=csv.QUOTE_NONE)\n",
    "    for row in reader:\n",
    "        data.append(row)\n",
    "col_names = data.pop(0)\n",
    "df = pd.DataFrame(data, columns=col_names)\n",
    "\n",
    "integer_feat = ['startCount', 'viewCount', 'clickCount', 'installCount', 'startCount1d', 'startCount7d', 'install']\n",
    "for feat in integer_feat:\n",
    "    df[feat] = df[feat].astype('int')"
   ]
  },
  {
   "cell_type": "markdown",
   "metadata": {},
   "source": [
    "### Feature Engineering: Use timestamp and lastStart to create timeSinceLastStart"
   ]
  },
  {
   "cell_type": "code",
   "execution_count": null,
   "metadata": {},
   "outputs": [],
   "source": [
    "def datetime_parser(datetime_str):\n",
    "    try:\n",
    "        date_str, time_str = datetime_str.split(\"T\")\n",
    "    except:\n",
    "        return \n",
    "    time_str=time_str[:8]\n",
    "    year, month, day = date_str.split(\"-\")\n",
    "    hour, minut, sec = time_str.split(\":\")\n",
    "    return dt.datetime(int(year), int(month), int(day), int(hour), int(minut), int(sec))\n",
    "        \n",
    "\n",
    "def time_diff_in_minutes(dt_0, dt_1):\n",
    "    return np.round((dt_1 - dt_0).total_seconds() / 60.0, 0)"
   ]
  },
  {
   "cell_type": "code",
   "execution_count": null,
   "metadata": {},
   "outputs": [],
   "source": [
    "df.timestamp = df.timestamp.apply(datetime_parser)\n",
    "df.lastStart = df.lastStart.apply(datetime_parser)\n",
    "\n",
    "df['timeSinceLastStart'] = df.apply(lambda row: time_diff_in_minutes(row['lastStart'], row['timestamp']), axis=1).fillna(0) "
   ]
  },
  {
   "cell_type": "code",
   "execution_count": null,
   "metadata": {},
   "outputs": [],
   "source": [
    "print(df.head())\n",
    "print(df.shape)"
   ]
  },
  {
   "cell_type": "code",
   "execution_count": null,
   "metadata": {},
   "outputs": [],
   "source": [
    "df.to_pickle('../data/preprocessed_training_data.pkl')"
   ]
  }
 ],
 "metadata": {
  "kernelspec": {
   "display_name": "Python 3",
   "language": "python",
   "name": "python3"
  },
  "language_info": {
   "codemirror_mode": {
    "name": "ipython",
    "version": 3
   },
   "file_extension": ".py",
   "mimetype": "text/x-python",
   "name": "python",
   "nbconvert_exporter": "python",
   "pygments_lexer": "ipython3",
   "version": "3.5.3"
  }
 },
 "nbformat": 4,
 "nbformat_minor": 4
}
