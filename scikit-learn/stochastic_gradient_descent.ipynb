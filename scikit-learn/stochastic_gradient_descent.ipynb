{
 "cells": [
  {
   "cell_type": "code",
   "execution_count": 8,
   "metadata": {},
   "outputs": [],
   "source": [
    "import csv\n",
    "import datetime as dt\n",
    "import gc\n",
    "import matplotlib.pyplot as plt\n",
    "import numpy as np\n",
    "import pandas as pd\n",
    "import random\n",
    "import time\n",
    "\n",
    "\n",
    "from scipy.sparse import csc_matrix, hstack \n",
    "from sklearn.linear_model import SGDClassifier\n",
    "from sklearn.pipeline import Pipeline, make_pipeline\n",
    "from sklearn.preprocessing import OneHotEncoder, RobustScaler\n",
    "from sklearn.metrics import accuracy_score, \\\n",
    "                            auc, \\\n",
    "                            confusion_matrix, \\\n",
    "                            log_loss, make_scorer, \\\n",
    "                            roc_auc_score, roc_curve, \\\n",
    "                            precision_recall_curve, \\\n",
    "                            precision_score, \\\n",
    "                            recall_score, \\\n",
    "                            f1_score\n",
    "from sklearn.model_selection import GridSearchCV, \\\n",
    "                                    learning_curve, \\\n",
    "                                    StratifiedKFold, \\\n",
    "                                    train_test_split"
   ]
  },
  {
   "cell_type": "code",
   "execution_count": 74,
   "metadata": {},
   "outputs": [
    {
     "name": "stdout",
     "output_type": "stream",
     "text": [
      "                 campaignId platform softwareVersion sourceGameId country  \\\n",
      "0  59687f0d896a6b0e5ce6ea15      ios          11.4.1      1373094      US   \n",
      "1  59687f0d896a6b0e5ce6ea15      ios            12.1      2739989      US   \n",
      "2  59687f0d896a6b0e5ce6ea15      ios          12.1.2      1373094      US   \n",
      "3  59687f0d896a6b0e5ce6ea15      ios          12.1.2      1217749      US   \n",
      "4  59687f0d896a6b0e5ce6ea15      ios          12.0.1      1373094      US   \n",
      "\n",
      "   startCount  viewCount  clickCount  installCount  startCount1d  \\\n",
      "0          25         24           0             2             1   \n",
      "1          10          9           2             0             1   \n",
      "2          27         26           0             0             1   \n",
      "3          15         14           2             0             3   \n",
      "4          20         18           0             0            13   \n",
      "\n",
      "   startCount7d connectionType deviceType  install  timeSinceLastStart  \n",
      "0             8       cellular  iPhone8,2        0              1590.0  \n",
      "1             4       cellular  iPhone9,1        0              2663.0  \n",
      "2             2       cellular  iPhone7,1        0              2941.0  \n",
      "3            14           wifi  iPhone7,2        0              1152.0  \n",
      "4            18       cellular  iPhone8,1        0                 1.0  \n",
      "(3738937, 15)\n"
     ]
    }
   ],
   "source": [
    "df = pd.read_pickle('preprocessed_training_data.pkl')\n",
    "print(df.head())\n",
    "print(df.shape)"
   ]
  },
  {
   "cell_type": "code",
   "execution_count": 75,
   "metadata": {},
   "outputs": [
    {
     "name": "stdout",
     "output_type": "stream",
     "text": [
      "(3738937, 7)\n",
      "(3738937, 7)\n"
     ]
    }
   ],
   "source": [
    "X_num = df[['startCount', 'viewCount', 'clickCount', 'installCount', 'startCount1d', 'startCount7d', 'timeSinceLastStart']].values\n",
    "X_cat = df[['campaignId', 'sourceGameId', 'country', 'platform', 'softwareVersion', 'connectionType', 'deviceType']]\n",
    "\n",
    "print(X_num.shape)\n",
    "print(X_cat.shape)\n",
    "\n",
    "y = df['install']\n",
    "enc = OneHotEncoder(handle_unknown='ignore')\n",
    "X_cat = enc.fit_transform(X_cat)\n",
    "X = hstack((X_cat, X_num))"
   ]
  },
  {
   "cell_type": "code",
   "execution_count": 76,
   "metadata": {},
   "outputs": [],
   "source": [
    "X_train, X_test, y_train, y_test = train_test_split(X, y, test_size=0.2, random_state=0)\n",
    "\n",
    "X_train = csc_matrix(X_train)\n",
    "y_train = y_train.values\n",
    "X_test = csc_matrix(X_test)\n",
    "y_test = y_test.values"
   ]
  },
  {
   "cell_type": "code",
   "execution_count": 77,
   "metadata": {},
   "outputs": [],
   "source": [
    "def undersample_fit(x, y):\n",
    "    zero_indices = []\n",
    "    one_indices = []\n",
    "    for idx, class_label in enumerate(y):\n",
    "        if class_label == 0:\n",
    "            zero_indices.append(idx)\n",
    "        else:\n",
    "            one_indices.append(idx)\n",
    "    \n",
    "    resampled_indices = one_indices + random.sample(zero_indices, len(one_indices))\n",
    "    random.shuffle(resampled_indices)\n",
    "    resampled_x, resampled_y = [], []\n",
    "    for idx in resampled_indices:\n",
    "        resampled_x.append(x[idx].toarray()[0])\n",
    "        resampled_y.append(y[idx])\n",
    "    return csc_matrix(resampled_x), resampled_y"
   ]
  },
  {
   "cell_type": "code",
   "execution_count": 78,
   "metadata": {},
   "outputs": [],
   "source": [
    "def log_loss_score(clf, x, y):\n",
    "    return log_loss(y, clf.predict_proba(x))\n",
    "\n",
    "def auroc_score(clf, x, y):\n",
    "    return roc_auc_score(y, clf.predict_proba(x)[:, 1])"
   ]
  },
  {
   "cell_type": "code",
   "execution_count": 79,
   "metadata": {},
   "outputs": [],
   "source": [
    "clf = make_pipeline(RobustScaler(with_centering=False),\n",
    "                    SGDClassifier(loss='log', penalty='l1', alpha=0.0001))"
   ]
  },
  {
   "cell_type": "code",
   "execution_count": 80,
   "metadata": {},
   "outputs": [
    {
     "data": {
      "text/plain": [
       "Pipeline(memory=None,\n",
       "         steps=[('robustscaler',\n",
       "                 RobustScaler(copy=True, quantile_range=(25.0, 75.0),\n",
       "                              with_centering=False, with_scaling=True)),\n",
       "                ('sgdclassifier',\n",
       "                 SGDClassifier(alpha=0.0001, average=False, class_weight=None,\n",
       "                               early_stopping=False, epsilon=0.1, eta0=0.0,\n",
       "                               fit_intercept=True, l1_ratio=0.15,\n",
       "                               learning_rate='optimal', loss='log',\n",
       "                               max_iter=1000, n_iter_no_change=5, n_jobs=None,\n",
       "                               penalty='l1', power_t=0.5, random_state=None,\n",
       "                               shuffle=True, tol=0.001, validation_fraction=0.1,\n",
       "                               verbose=0, warm_start=False))],\n",
       "         verbose=False)"
      ]
     },
     "execution_count": 80,
     "metadata": {},
     "output_type": "execute_result"
    }
   ],
   "source": [
    "clf.fit(X_train, y_train)"
   ]
  },
  {
   "cell_type": "code",
   "execution_count": 81,
   "metadata": {},
   "outputs": [
    {
     "data": {
      "text/plain": [
       "0.6523589915585692"
      ]
     },
     "execution_count": 81,
     "metadata": {},
     "output_type": "execute_result"
    }
   ],
   "source": [
    "auroc_score(clf, X_train, y_train)"
   ]
  },
  {
   "cell_type": "code",
   "execution_count": 82,
   "metadata": {},
   "outputs": [
    {
     "data": {
      "text/plain": [
       "0.6484047458388864"
      ]
     },
     "execution_count": 82,
     "metadata": {},
     "output_type": "execute_result"
    }
   ],
   "source": [
    "auroc_score(clf, X_test, y_test)"
   ]
  },
  {
   "cell_type": "code",
   "execution_count": null,
   "metadata": {},
   "outputs": [],
   "source": []
  }
 ],
 "metadata": {
  "kernelspec": {
   "display_name": "Python 3",
   "language": "python",
   "name": "python3"
  },
  "language_info": {
   "codemirror_mode": {
    "name": "ipython",
    "version": 3
   },
   "file_extension": ".py",
   "mimetype": "text/x-python",
   "name": "python",
   "nbconvert_exporter": "python",
   "pygments_lexer": "ipython3",
   "version": "3.7.3"
  }
 },
 "nbformat": 4,
 "nbformat_minor": 4
}
