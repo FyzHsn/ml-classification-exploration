{
 "cells": [
  {
   "cell_type": "code",
   "execution_count": 1,
   "metadata": {},
   "outputs": [],
   "source": [
    "import numpy as np\n",
    "import pandas as pd\n",
    "import time\n",
    "\n",
    "from imblearn.pipeline import make_pipeline\n",
    "from imblearn.under_sampling import RandomUnderSampler\n",
    "\n",
    "from sklearn.compose import ColumnTransformer\n",
    "from sklearn.linear_model import SGDClassifier\n",
    "from sklearn.metrics import accuracy_score, \\\n",
    "                            auc, \\\n",
    "                            confusion_matrix, \\\n",
    "                            log_loss, make_scorer, \\\n",
    "                            roc_auc_score, roc_curve, \\\n",
    "                            precision_recall_curve, \\\n",
    "                            precision_score, \\\n",
    "                            recall_score, \\\n",
    "                            f1_score\n",
    "from sklearn.model_selection import GridSearchCV, \\\n",
    "                                    train_test_split\n",
    "from sklearn.preprocessing import OneHotEncoder, RobustScaler"
   ]
  },
  {
   "cell_type": "code",
   "execution_count": 2,
   "metadata": {},
   "outputs": [],
   "source": [
    "df = pd.read_pickle('../data/preprocessed_training_data.pkl')"
   ]
  },
  {
   "cell_type": "code",
   "execution_count": 3,
   "metadata": {},
   "outputs": [],
   "source": [
    "def log_loss_score(clf, x, y):\n",
    "    return log_loss(y, clf.predict_proba(x))\n",
    "\n",
    "def auroc_score(clf, x, y):\n",
    "    return roc_auc_score(y, clf.predict_proba(x)[:, 1])"
   ]
  },
  {
   "cell_type": "code",
   "execution_count": 4,
   "metadata": {},
   "outputs": [],
   "source": [
    "numerical_columns = ['startCount', 'viewCount', 'installCount', 'startCount1d', 'startCount7d', 'timeSinceLastStart']\n",
    "categorical_columns = ['campaignId', 'sourceGameId', 'country']\n",
    "\n",
    "numerical_pipeline = make_pipeline(RobustScaler())\n",
    "categorical_pipeline = make_pipeline(OneHotEncoder(handle_unknown='ignore'))\n",
    "\n",
    "preprocessor = ColumnTransformer(\n",
    "    [('numerical_preprocessing', numerical_pipeline, numerical_columns), \n",
    "     ('categorical_preprocessing', categorical_pipeline, categorical_columns)], \n",
    "    remainder='drop')"
   ]
  },
  {
   "cell_type": "code",
   "execution_count": 5,
   "metadata": {},
   "outputs": [],
   "source": [
    "X = df[numerical_columns + categorical_columns]\n",
    "y = df['install']\n",
    "\n",
    "X_train, X_test, y_train, y_test = \\\n",
    "    train_test_split(X, y, test_size=0.2, stratify=y, random_state=0)"
   ]
  },
  {
   "cell_type": "code",
   "execution_count": 18,
   "metadata": {},
   "outputs": [],
   "source": [
    "pipeline = make_pipeline(preprocessor, \n",
    "                         RandomUnderSampler(random_state=0), \n",
    "                         SGDClassifier(loss='hinge', random_state=0))"
   ]
  },
  {
   "cell_type": "code",
   "execution_count": 19,
   "metadata": {},
   "outputs": [],
   "source": [
    "param_range = [0.00001, 0.0001, 0.001]\n",
    "param_grid = [{'sgdclassifier__alpha': param_range, \n",
    "               'sgdclassifier__penalty': ['l1', 'l2']}]"
   ]
  },
  {
   "cell_type": "code",
   "execution_count": 20,
   "metadata": {},
   "outputs": [
    {
     "name": "stdout",
     "output_type": "stream",
     "text": [
      "4.3116312225659685 minutes\n",
      "0.7151309730514122\n",
      "{'sgdclassifier__alpha': 0.0001, 'sgdclassifier__penalty': 'l2'}\n"
     ]
    }
   ],
   "source": [
    "t_0 = time.time()\n",
    "gs = GridSearchCV(estimator=pipeline,\n",
    "                  param_grid=param_grid,\n",
    "                  scoring='roc_auc',\n",
    "                  cv=3)\n",
    "gs.fit(X_train, y_train)\n",
    "print('{} minutes'.format((time.time() - t_0) / 60.0))\n",
    "print(gs.best_score_)\n",
    "print(gs.best_params_)"
   ]
  },
  {
   "cell_type": "markdown",
   "metadata": {},
   "source": [
    "The hyperparameter tunining took approximately 7 minutes with the optimal penalty l1 and alpha value of 0.0001."
   ]
  },
  {
   "cell_type": "markdown",
   "metadata": {},
   "source": [
    "## Optimal Classifier Training"
   ]
  },
  {
   "cell_type": "code",
   "execution_count": 23,
   "metadata": {},
   "outputs": [
    {
     "name": "stdout",
     "output_type": "stream",
     "text": [
      "12.719181299209595 seconds\n"
     ]
    }
   ],
   "source": [
    "t_0 = time.time()\n",
    "pipeline = make_pipeline(preprocessor, \n",
    "                         RandomUnderSampler(random_state=0), \n",
    "                         SGDClassifier(loss='log', penalty='l1', alpha=0.0001, random_state=0, max_iter=2000))\n",
    "pipeline.fit(X_train, y_train)\n",
    "print('{} seconds'.format((time.time() - t_0)))"
   ]
  },
  {
   "cell_type": "code",
   "execution_count": 24,
   "metadata": {},
   "outputs": [
    {
     "name": "stdout",
     "output_type": "stream",
     "text": [
      "Precision: 2%\n",
      "Recall: 52%\n",
      "Log-loss: 60%\n",
      "AUROC: 69%\n",
      "True Negatives: 536021, Fale Positives: 4213, False Negatives: 202818, True Positives: 4736\n",
      "Prediction bias: 0.26558998004782103\n"
     ]
    }
   ],
   "source": [
    "y_pred = pipeline.predict(X_test)\n",
    "print(\"Precision: {}%\".format(int(100 * precision_score(y_test, y_pred))))\n",
    "print(\"Recall: {}%\".format(int(100 * recall_score(y_test, y_pred))))\n",
    "print(\"Log-loss: {}%\".format(int(100 * log_loss_score(pipeline, X_test, y_test))))\n",
    "print(\"AUROC: {}%\".format(int(100 * roc_auc_score(y_test, pipeline.predict_proba(X_test)[:, 1]))))\n",
    "tn, fp, fn, tp = confusion_matrix(y_pred, y_test).ravel()\n",
    "print(\"True Negatives: {}, Fale Positives: {}, False Negatives: {}, True Positives: {}\".format(tn, fp, fn, tp))\n",
    "print(\"Prediction bias: {}\".format(sum(y_pred) / len(y_pred) - sum(y_test) / len(y_test)))"
   ]
  },
  {
   "cell_type": "code",
   "execution_count": null,
   "metadata": {},
   "outputs": [],
   "source": []
  }
 ],
 "metadata": {
  "kernelspec": {
   "display_name": "Python 3",
   "language": "python",
   "name": "python3"
  },
  "language_info": {
   "codemirror_mode": {
    "name": "ipython",
    "version": 3
   },
   "file_extension": ".py",
   "mimetype": "text/x-python",
   "name": "python",
   "nbconvert_exporter": "python",
   "pygments_lexer": "ipython3",
   "version": "3.5.3"
  }
 },
 "nbformat": 4,
 "nbformat_minor": 4
}
