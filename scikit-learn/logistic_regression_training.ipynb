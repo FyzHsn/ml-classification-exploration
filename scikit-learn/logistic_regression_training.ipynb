{
 "cells": [
  {
   "cell_type": "markdown",
   "metadata": {},
   "source": [
    "# Binary Logisitic Regression Model Training Via sklearn"
   ]
  },
  {
   "cell_type": "markdown",
   "metadata": {},
   "source": [
    "## Tech Spec\n",
    "* Google Cloud Compute Engine\n",
    "* n1-standard-4 (4 vCPUs, 15 GB memory)\n",
    "* Debian GNU/ Linux 9"
   ]
  },
  {
   "cell_type": "markdown",
   "metadata": {},
   "source": [
    "## Model Training"
   ]
  },
  {
   "cell_type": "code",
   "execution_count": null,
   "metadata": {},
   "outputs": [],
   "source": [
    "import numpy as np\n",
    "import pandas as pd\n",
    "import time\n",
    "\n",
    "from imblearn.pipeline import make_pipeline\n",
    "from imblearn.under_sampling import RandomUnderSampler\n",
    "\n",
    "from sklearn.compose import ColumnTransformer\n",
    "from sklearn.linear_model import LogisticRegression\n",
    "from sklearn.metrics import accuracy_score, \\\n",
    "                            auc, \\\n",
    "                            confusion_matrix, \\\n",
    "                            log_loss, make_scorer, \\\n",
    "                            roc_auc_score, roc_curve, \\\n",
    "                            precision_recall_curve, \\\n",
    "                            precision_score, \\\n",
    "                            recall_score, \\\n",
    "                            f1_score\n",
    "from sklearn.model_selection import GridSearchCV, \\\n",
    "                                    train_test_split\n",
    "from sklearn.preprocessing import OneHotEncoder, RobustScaler"
   ]
  },
  {
   "cell_type": "markdown",
   "metadata": {},
   "source": [
    "### Load Data"
   ]
  },
  {
   "cell_type": "code",
   "execution_count": null,
   "metadata": {},
   "outputs": [],
   "source": [
    "df = pd.read_pickle('../data/preprocessed_training_data.pkl')"
   ]
  },
  {
   "cell_type": "markdown",
   "metadata": {},
   "source": [
    "### Brief Data Exploration"
   ]
  },
  {
   "cell_type": "code",
   "execution_count": null,
   "metadata": {},
   "outputs": [],
   "source": [
    "print(df.head())"
   ]
  },
  {
   "cell_type": "code",
   "execution_count": null,
   "metadata": {},
   "outputs": [],
   "source": [
    "print(df.info())"
   ]
  },
  {
   "cell_type": "markdown",
   "metadata": {},
   "source": [
    "The training dataset has over 3.5 million records and 17 features. "
   ]
  },
  {
   "cell_type": "code",
   "execution_count": null,
   "metadata": {},
   "outputs": [],
   "source": [
    "df['install'].value_counts()"
   ]
  },
  {
   "cell_type": "markdown",
   "metadata": {},
   "source": [
    "We find that the class distribution of the install to no-install status is extremely imbalanced at 1:82. "
   ]
  },
  {
   "cell_type": "code",
   "execution_count": null,
   "metadata": {},
   "outputs": [],
   "source": [
    "numerical_columns = ['startCount', 'viewCount', 'installCount', 'startCount1d', 'startCount7d', 'timeSinceLastStart']\n",
    "categorical_columns = ['campaignId', 'sourceGameId', 'country']"
   ]
  },
  {
   "cell_type": "code",
   "execution_count": null,
   "metadata": {},
   "outputs": [],
   "source": [
    "for feat in categorical_columns:\n",
    "    print(feat)\n",
    "    print(\"==========\")\n",
    "    print(df[feat].value_counts())\n",
    "    print(\"        \")"
   ]
  },
  {
   "cell_type": "markdown",
   "metadata": {},
   "source": [
    "This shows us that the cardinality of the campaignId and sourceGameId features are very high."
   ]
  },
  {
   "cell_type": "markdown",
   "metadata": {},
   "source": [
    " ### Data Preprocessing"
   ]
  },
  {
   "cell_type": "code",
   "execution_count": null,
   "metadata": {},
   "outputs": [],
   "source": [
    "numerical_pipeline = make_pipeline(RobustScaler(with_centering=True))"
   ]
  },
  {
   "cell_type": "code",
   "execution_count": null,
   "metadata": {},
   "outputs": [],
   "source": [
    "categorical_pipeline = make_pipeline(OneHotEncoder(handle_unknown='ignore'))"
   ]
  },
  {
   "cell_type": "code",
   "execution_count": null,
   "metadata": {},
   "outputs": [],
   "source": [
    "preprocessor = ColumnTransformer(\n",
    "    [('numerical_preprocessing', numerical_pipeline, numerical_columns), \n",
    "     ('categorical_preprocessing', categorical_pipeline, categorical_columns)], \n",
    "    remainder='drop')"
   ]
  },
  {
   "cell_type": "markdown",
   "metadata": {
    "collapsed": true
   },
   "source": [
    "### Dataset Training/Test Split"
   ]
  },
  {
   "cell_type": "code",
   "execution_count": null,
   "metadata": {},
   "outputs": [],
   "source": [
    "X = df[numerical_columns + categorical_columns]\n",
    "y = df['install']\n",
    "\n",
    "X_train, X_test, y_train, y_test = \\\n",
    "    train_test_split(X, y, test_size=0.2, stratify=y, random_state=0)"
   ]
  },
  {
   "cell_type": "markdown",
   "metadata": {},
   "source": [
    "## Performance Metrics"
   ]
  },
  {
   "cell_type": "markdown",
   "metadata": {},
   "source": [
    "The metrics used to measure the classifier performance other than AUROC, log-loss and prediction bias are the precision and recall."
   ]
  },
  {
   "cell_type": "code",
   "execution_count": null,
   "metadata": {},
   "outputs": [],
   "source": [
    "def log_loss_score(clf, x, y):\n",
    "    return log_loss(y, clf.predict_proba(x))\n",
    "\n",
    "def auroc_score(clf, x, y):\n",
    "    return roc_auc_score(y, clf.predict_proba(x)[:, 1])"
   ]
  },
  {
   "cell_type": "markdown",
   "metadata": {},
   "source": [
    "## 2.4 Grid Search"
   ]
  },
  {
   "cell_type": "code",
   "execution_count": null,
   "metadata": {},
   "outputs": [],
   "source": [
    "pipeline = make_pipeline(preprocessor, \n",
    "                         RandomUnderSampler(random_state=0), \n",
    "                         LogisticRegression(penalty='l2', max_iter=2000, random_state=0))"
   ]
  },
  {
   "cell_type": "code",
   "execution_count": null,
   "metadata": {},
   "outputs": [],
   "source": [
    "param_range = [0.01, 0.1, 1.0, 10.0]\n",
    "param_grid = [{'logisticregression__C': param_range}]"
   ]
  },
  {
   "cell_type": "code",
   "execution_count": null,
   "metadata": {},
   "outputs": [],
   "source": [
    "t_0 = time.time()\n",
    "gs = GridSearchCV(estimator=pipeline,\n",
    "                  param_grid=param_grid,\n",
    "                  scoring='roc_auc',\n",
    "                  cv=3)\n",
    "gs.fit(X_train, y_train)\n",
    "print('{} minutes'.format((time.time() - t_0) / 60.0))\n",
    "print(gs.best_score_)\n",
    "print(gs.best_params_)"
   ]
  },
  {
   "cell_type": "markdown",
   "metadata": {},
   "source": [
    "11 minutes on a million rows of data - AUROC score of 0.73. l2 penalty, C=0.1."
   ]
  },
  {
   "cell_type": "markdown",
   "metadata": {},
   "source": [
    "## Optimal classifier training time"
   ]
  },
  {
   "cell_type": "code",
   "execution_count": null,
   "metadata": {},
   "outputs": [],
   "source": [
    "t_0 = time.time()\n",
    "pipeline = make_pipeline(preprocessor, \n",
    "                         RandomUnderSampler(random_state=0), \n",
    "                         LogisticRegression(C=1.0, penalty='l2', max_iter=2000, random_state=0))\n",
    "pipeline.fit(X_train, y_train)\n",
    "print('{} seconds'.format((time.time() - t_0)))"
   ]
  },
  {
   "cell_type": "markdown",
   "metadata": {},
   "source": [
    "## Performance Metrics"
   ]
  },
  {
   "cell_type": "code",
   "execution_count": null,
   "metadata": {},
   "outputs": [],
   "source": [
    "y_pred = pipeline.predict(X_test)\n",
    "print(\"Precision: {}%\".format(int(100 * precision_score(y_test, y_pred))))\n",
    "print(\"Recall: {}%\".format(int(100 * recall_score(y_test, y_pred))))\n",
    "print(\"Log-loss: {}%\".format(int(100 * log_loss_score(pipeline, X_test, y_test))))\n",
    "print(\"AUROC: {}%\".format(int(100 * roc_auc_score(y_test, pipeline.predict_proba(X_test)[:, 1]))))\n",
    "tn, fp, fn, tp = confusion_matrix(y_pred, y_test).ravel()\n",
    "print(\"True Negatives: {}, Fale Positives: {}, False Negatives: {}, True Positives: {}\".format(tn, fp, fn, tp))\n",
    "print(\"Prediction bias: {}\".format(sum(y_pred) / len(y_pred) - sum(y_test) / len(y_test)))"
   ]
  },
  {
   "cell_type": "markdown",
   "metadata": {},
   "source": [
    "On a million data points, we find that the model has a very low precision of 2% but perhaps this is jutified by the recall of 67%. \n",
    "When using the 3.7 million rows, we find that the same result holds true."
   ]
  },
  {
   "cell_type": "code",
   "execution_count": null,
   "metadata": {},
   "outputs": [],
   "source": []
  }
 ],
 "metadata": {
  "anaconda-cloud": {},
  "kernelspec": {
   "display_name": "Python 3",
   "language": "python",
   "name": "python3"
  },
  "language_info": {
   "codemirror_mode": {
    "name": "ipython",
    "version": 3
   },
   "file_extension": ".py",
   "mimetype": "text/x-python",
   "name": "python",
   "nbconvert_exporter": "python",
   "pygments_lexer": "ipython3",
   "version": "3.5.3"
  }
 },
 "nbformat": 4,
 "nbformat_minor": 1
}
