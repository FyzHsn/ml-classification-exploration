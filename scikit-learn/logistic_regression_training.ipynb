{
 "cells": [
  {
   "cell_type": "markdown",
   "metadata": {},
   "source": [
    "# Binary Logisitic Regression Model Training Via sklearn"
   ]
  },
  {
   "cell_type": "markdown",
   "metadata": {},
   "source": [
    "## Tech Spec\n",
    "* Google Cloud Compute Engine\n",
    "* n1-standard-4 (4 vCPUs, 15 GB memory)\n",
    "* Debian GNU/ Linux 9"
   ]
  },
  {
   "cell_type": "markdown",
   "metadata": {},
   "source": [
    "## Performance\n",
    "Hyperparameter tuning over the parameter grid ----- took ----- minutes.\n",
    "\n",
    "Traning over ------ samples took ----- minutes."
   ]
  },
  {
   "cell_type": "markdown",
   "metadata": {},
   "source": [
    "## Model Training"
   ]
  },
  {
   "cell_type": "code",
   "execution_count": 1,
   "metadata": {},
   "outputs": [],
   "source": [
    "import numpy as np\n",
    "import pandas as pd\n",
    "import time\n",
    "\n",
    "from imblearn.pipeline import make_pipeline\n",
    "from imblearn.under_sampling import RandomUnderSampler\n",
    "\n",
    "from sklearn.compose import ColumnTransformer\n",
    "from sklearn.linear_model import LogisticRegression\n",
    "from sklearn.metrics import accuracy_score, \\\n",
    "                            auc, \\\n",
    "                            confusion_matrix, \\\n",
    "                            log_loss, make_scorer, \\\n",
    "                            roc_auc_score, roc_curve, \\\n",
    "                            precision_recall_curve, \\\n",
    "                            precision_score, \\\n",
    "                            recall_score, \\\n",
    "                            f1_score\n",
    "from sklearn.model_selection import GridSearchCV, \\\n",
    "                                    train_test_split\n",
    "from sklearn.preprocessing import OneHotEncoder, RobustScaler"
   ]
  },
  {
   "cell_type": "markdown",
   "metadata": {},
   "source": [
    "### Load Data"
   ]
  },
  {
   "cell_type": "code",
   "execution_count": 2,
   "metadata": {},
   "outputs": [],
   "source": [
    "df = pd.read_pickle('../data/preprocessed_training_data.pkl')\n",
    "df = df[:1000000]"
   ]
  },
  {
   "cell_type": "markdown",
   "metadata": {},
   "source": [
    "### Brief Data Exploration"
   ]
  },
  {
   "cell_type": "code",
   "execution_count": 3,
   "metadata": {},
   "outputs": [
    {
     "name": "stdout",
     "output_type": "stream",
     "text": [
      "                         id           timestamp                campaignId  \\\n",
      "0  5c36658fb58fad351175f0b6 2019-01-09 21:20:15  59687f0d896a6b0e5ce6ea15   \n",
      "1  5c38d5ab1c16172870186b5a 2019-01-11 17:43:07  59687f0d896a6b0e5ce6ea15   \n",
      "2  5c38815de8f4e50e256e4f9c 2019-01-11 11:43:25  59687f0d896a6b0e5ce6ea15   \n",
      "3  5c409ace532d5806d2c6a5e6 2019-01-17 15:10:06  59687f0d896a6b0e5ce6ea15   \n",
      "4  5c3904b92d798c41e7f3088a 2019-01-11 21:03:53  59687f0d896a6b0e5ce6ea15   \n",
      "\n",
      "  platform softwareVersion sourceGameId country  startCount  viewCount  \\\n",
      "0      ios          11.4.1      1373094      US          25         24   \n",
      "1      ios            12.1      2739989      US          10          9   \n",
      "2      ios          12.1.2      1373094      US          27         26   \n",
      "3      ios          12.1.2      1217749      US          15         14   \n",
      "4      ios          12.0.1      1373094      US          20         18   \n",
      "\n",
      "   clickCount  installCount           lastStart  startCount1d  startCount7d  \\\n",
      "0           0             2 2019-01-08 18:49:48             1             8   \n",
      "1           2             0 2019-01-09 21:20:22             1             4   \n",
      "2           0             0 2019-01-09 10:42:08             1             2   \n",
      "3           2             0 2019-01-16 19:58:11             3            14   \n",
      "4           0             0 2019-01-11 21:03:05            13            18   \n",
      "\n",
      "  connectionType deviceType  install  timeSinceLastStart  \n",
      "0       cellular  iPhone8,2        0              1590.0  \n",
      "1       cellular  iPhone9,1        0              2663.0  \n",
      "2       cellular  iPhone7,1        0              2941.0  \n",
      "3           wifi  iPhone7,2        0              1152.0  \n",
      "4       cellular  iPhone8,1        0                 1.0  \n"
     ]
    }
   ],
   "source": [
    "print(df.head())"
   ]
  },
  {
   "cell_type": "code",
   "execution_count": 4,
   "metadata": {},
   "outputs": [
    {
     "name": "stdout",
     "output_type": "stream",
     "text": [
      "<class 'pandas.core.frame.DataFrame'>\n",
      "RangeIndex: 1000000 entries, 0 to 999999\n",
      "Data columns (total 18 columns):\n",
      "id                    1000000 non-null object\n",
      "timestamp             1000000 non-null datetime64[ns]\n",
      "campaignId            1000000 non-null object\n",
      "platform              1000000 non-null object\n",
      "softwareVersion       1000000 non-null object\n",
      "sourceGameId          1000000 non-null object\n",
      "country               1000000 non-null object\n",
      "startCount            1000000 non-null int64\n",
      "viewCount             1000000 non-null int64\n",
      "clickCount            1000000 non-null int64\n",
      "installCount          1000000 non-null int64\n",
      "lastStart             921178 non-null datetime64[ns]\n",
      "startCount1d          1000000 non-null int64\n",
      "startCount7d          1000000 non-null int64\n",
      "connectionType        1000000 non-null object\n",
      "deviceType            1000000 non-null object\n",
      "install               1000000 non-null int64\n",
      "timeSinceLastStart    1000000 non-null float64\n",
      "dtypes: datetime64[ns](2), float64(1), int64(7), object(8)\n",
      "memory usage: 137.3+ MB\n",
      "None\n"
     ]
    }
   ],
   "source": [
    "print(df.info())"
   ]
  },
  {
   "cell_type": "markdown",
   "metadata": {},
   "source": [
    "The training dataset has over 3.5 million records and 17 features. "
   ]
  },
  {
   "cell_type": "code",
   "execution_count": 5,
   "metadata": {},
   "outputs": [
    {
     "data": {
      "text/plain": [
       "0    986453\n",
       "1     13547\n",
       "Name: install, dtype: int64"
      ]
     },
     "execution_count": 5,
     "metadata": {},
     "output_type": "execute_result"
    }
   ],
   "source": [
    "df['install'].value_counts()"
   ]
  },
  {
   "cell_type": "markdown",
   "metadata": {},
   "source": [
    "We find that the class distribution of the install to no-install status is extremely imbalanced at 1:82. "
   ]
  },
  {
   "cell_type": "code",
   "execution_count": 6,
   "metadata": {},
   "outputs": [],
   "source": [
    "numerical_columns = ['startCount', 'viewCount', 'installCount', 'startCount1d', 'startCount7d', 'timeSinceLastStart']\n",
    "categorical_columns = ['campaignId', 'sourceGameId', 'country']"
   ]
  },
  {
   "cell_type": "code",
   "execution_count": 7,
   "metadata": {},
   "outputs": [
    {
     "name": "stdout",
     "output_type": "stream",
     "text": [
      "campaignId\n",
      "==========\n",
      "5c385d02ee4549000d8b9ddd    36861\n",
      "5af41f3346d16a019f9d327d    24132\n",
      "5c333b4d1d94abf8a325e55a    23943\n",
      "5bd2ccefc9c2110ad461c1b3    23413\n",
      "5bf54928eb052c1002550102    22749\n",
      "                            ...  \n",
      "5bf4b62716fbbb711b8bae88        1\n",
      "5bc6e0236e2e5aaef4543d92        1\n",
      "5c01890762973d602111c88a        1\n",
      "5be04767edcdaf10b88228e8        1\n",
      "5a9be6ea3f98c037e2583b14        1\n",
      "Name: campaignId, Length: 2329, dtype: int64\n",
      "        \n",
      "sourceGameId\n",
      "==========\n",
      "1711292    23611\n",
      "1483109    14111\n",
      "19790      11529\n",
      "36615      11202\n",
      "2633648    11092\n",
      "           ...  \n",
      "2606273        1\n",
      "2922520        1\n",
      "1171276        1\n",
      "1060077        1\n",
      "1414506        1\n",
      "Name: sourceGameId, Length: 22926, dtype: int64\n",
      "        \n",
      "country\n",
      "==========\n",
      "US    131873\n",
      "IN     86927\n",
      "RU     80060\n",
      "TR     48275\n",
      "ID     48132\n",
      "       ...  \n",
      "WS         2\n",
      "PM         2\n",
      "NF         1\n",
      "PW         1\n",
      "CF         1\n",
      "Name: country, Length: 217, dtype: int64\n",
      "        \n"
     ]
    }
   ],
   "source": [
    "for feat in categorical_columns:\n",
    "    print(feat)\n",
    "    print(\"==========\")\n",
    "    print(df[feat].value_counts())\n",
    "    print(\"        \")"
   ]
  },
  {
   "cell_type": "markdown",
   "metadata": {},
   "source": [
    "This shows us that the cardinality of the campaignId and sourceGameId features are very high."
   ]
  },
  {
   "cell_type": "markdown",
   "metadata": {},
   "source": [
    " ### Data Preprocessing"
   ]
  },
  {
   "cell_type": "code",
   "execution_count": 8,
   "metadata": {},
   "outputs": [],
   "source": [
    "numerical_pipeline = make_pipeline(RobustScaler(with_centering=False))"
   ]
  },
  {
   "cell_type": "code",
   "execution_count": 9,
   "metadata": {},
   "outputs": [],
   "source": [
    "categorical_pipeline = make_pipeline(OneHotEncoder(handle_unknown='ignore'))"
   ]
  },
  {
   "cell_type": "code",
   "execution_count": 10,
   "metadata": {},
   "outputs": [],
   "source": [
    "preprocessor = ColumnTransformer(\n",
    "    [('numerical_preprocessing', numerical_pipeline, numerical_columns), \n",
    "     ('categorical_preprocessing', categorical_pipeline, categorical_columns)], \n",
    "    remainder='drop')"
   ]
  },
  {
   "cell_type": "markdown",
   "metadata": {
    "collapsed": true
   },
   "source": [
    "### Dataset Training/Test Split"
   ]
  },
  {
   "cell_type": "code",
   "execution_count": 11,
   "metadata": {},
   "outputs": [],
   "source": [
    "X = df[numerical_columns + categorical_columns]\n",
    "y = df['install']\n",
    "\n",
    "X_train, X_test, y_train, y_test = \\\n",
    "    train_test_split(X, y, test_size=0.2, stratify=y, random_state=0)"
   ]
  },
  {
   "cell_type": "markdown",
   "metadata": {},
   "source": [
    "## Performance Metrics"
   ]
  },
  {
   "cell_type": "markdown",
   "metadata": {},
   "source": [
    "The metrics used to measure the classifier performance other than AUROC, log-loss and prediction bias are the precision and recall."
   ]
  },
  {
   "cell_type": "code",
   "execution_count": 12,
   "metadata": {},
   "outputs": [],
   "source": [
    "def log_loss_score(clf, x, y):\n",
    "    return log_loss(y, clf.predict_proba(x))\n",
    "\n",
    "def auroc_score(clf, x, y):\n",
    "    return roc_auc_score(y, clf.predict_proba(x)[:, 1])"
   ]
  },
  {
   "cell_type": "markdown",
   "metadata": {},
   "source": [
    "## 2.4 Grid Search"
   ]
  },
  {
   "cell_type": "code",
   "execution_count": 13,
   "metadata": {},
   "outputs": [],
   "source": [
    "pipeline = make_pipeline(preprocessor, \n",
    "                         RandomUnderSampler(random_state=0), \n",
    "                         LogisticRegression(random_state=0))"
   ]
  },
  {
   "cell_type": "code",
   "execution_count": 16,
   "metadata": {},
   "outputs": [],
   "source": [
    "param_range = [0.01, 0.1, 1.0, 10.0]\n",
    "param_grid = [{'logisticregression__C': param_range, \n",
    "               'logisticregression__penalty': ['l1'],\n",
    "               'logisticregression__solver': ['saga']}, \n",
    "              {'logisticregression__C': param_range, \n",
    "               'logisticregression__penalty': ['l2'],\n",
    "               'logisticregression__solver': ['lbfgs']}]"
   ]
  },
  {
   "cell_type": "code",
   "execution_count": null,
   "metadata": {},
   "outputs": [
    {
     "name": "stderr",
     "output_type": "stream",
     "text": [
      "/home/faiyaz_hasan1/.local/lib/python3.5/site-packages/sklearn/linear_model/_sag.py:330: ConvergenceWarning: The max_iter was reached which means the coef_ did not converge\n",
      "  \"the coef_ did not converge\", ConvergenceWarning)\n",
      "/home/faiyaz_hasan1/.local/lib/python3.5/site-packages/sklearn/linear_model/_sag.py:330: ConvergenceWarning: The max_iter was reached which means the coef_ did not converge\n",
      "  \"the coef_ did not converge\", ConvergenceWarning)\n",
      "/home/faiyaz_hasan1/.local/lib/python3.5/site-packages/sklearn/linear_model/_sag.py:330: ConvergenceWarning: The max_iter was reached which means the coef_ did not converge\n",
      "  \"the coef_ did not converge\", ConvergenceWarning)\n",
      "/home/faiyaz_hasan1/.local/lib/python3.5/site-packages/sklearn/linear_model/_sag.py:330: ConvergenceWarning: The max_iter was reached which means the coef_ did not converge\n",
      "  \"the coef_ did not converge\", ConvergenceWarning)\n",
      "/home/faiyaz_hasan1/.local/lib/python3.5/site-packages/sklearn/linear_model/_sag.py:330: ConvergenceWarning: The max_iter was reached which means the coef_ did not converge\n",
      "  \"the coef_ did not converge\", ConvergenceWarning)\n",
      "/home/faiyaz_hasan1/.local/lib/python3.5/site-packages/sklearn/linear_model/_sag.py:330: ConvergenceWarning: The max_iter was reached which means the coef_ did not converge\n",
      "  \"the coef_ did not converge\", ConvergenceWarning)\n",
      "/home/faiyaz_hasan1/.local/lib/python3.5/site-packages/sklearn/linear_model/_sag.py:330: ConvergenceWarning: The max_iter was reached which means the coef_ did not converge\n",
      "  \"the coef_ did not converge\", ConvergenceWarning)\n",
      "/home/faiyaz_hasan1/.local/lib/python3.5/site-packages/sklearn/linear_model/_sag.py:330: ConvergenceWarning: The max_iter was reached which means the coef_ did not converge\n",
      "  \"the coef_ did not converge\", ConvergenceWarning)\n",
      "/home/faiyaz_hasan1/.local/lib/python3.5/site-packages/sklearn/linear_model/_sag.py:330: ConvergenceWarning: The max_iter was reached which means the coef_ did not converge\n",
      "  \"the coef_ did not converge\", ConvergenceWarning)\n",
      "/home/faiyaz_hasan1/.local/lib/python3.5/site-packages/sklearn/linear_model/_sag.py:330: ConvergenceWarning: The max_iter was reached which means the coef_ did not converge\n",
      "  \"the coef_ did not converge\", ConvergenceWarning)\n"
     ]
    }
   ],
   "source": [
    "t_0 = time.time()\n",
    "gs = GridSearchCV(estimator=pipeline,\n",
    "                  param_grid=param_grid,\n",
    "                  scoring='roc_auc',\n",
    "                  cv=5)\n",
    "gs.fit(X_train, y_train)\n",
    "print('{} minutes'.format((time.time() - t_0) / 60.0))\n",
    "print(gs.best_score_)\n",
    "print(gs.best_params_)"
   ]
  },
  {
   "cell_type": "markdown",
   "metadata": {},
   "source": [
    "Using the stratified cross validation schema along with undersampling the non-install class to balance the dataset, we find that C=0.1 and penalty='l1' gives the optimal log-loss score of 0.63 +/- 0 on the test set and 0.62 +/- 0 on the training set. Meanwhile, for the AUROC we find a test score of 0.72 +/- 0.01 and train score of 0.73 +/- 0.01."
   ]
  },
  {
   "cell_type": "markdown",
   "metadata": {},
   "source": [
    "## 2.5 Learning Curve For Optimal Classifier"
   ]
  },
  {
   "cell_type": "code",
   "execution_count": null,
   "metadata": {},
   "outputs": [],
   "source": [
    "pipe_lr = Pipeline([('scl', RobustScaler(with_centering=False)),\n",
    "                    ('clf', LogisticRegression(C=0.1, penalty='l1', solver='liblinear', random_state=0))])\n",
    "imbalanced_cross_validation_score(pipe_lr, X_train, y_train, 3, log_loss_score)"
   ]
  },
  {
   "cell_type": "markdown",
   "metadata": {},
   "source": [
    "I ran the preceding code using various sample sizes and compared their performances.\n",
    "* Sample size: 100,000, CV log-loss score - train: 0.62, test: 0.64\n",
    "* Sample size: 200,000, CV log-loss score - train: 0.61, test: 0.63\n",
    "* Sample size: 400,000, CV log-loss score - train: 0.61, test: 0.62\n",
    "* Sample size: 800,000, CV log-loss score - train: 0.62, test: 0.62\n",
    "* Sample size: 160,0000, CV log-loss score - train: 0.63, cv: 0.64"
   ]
  },
  {
   "cell_type": "markdown",
   "metadata": {},
   "source": [
    "Based on these results, it seems that using smaller subsample of the training data is a viable option to get around memory errors."
   ]
  },
  {
   "cell_type": "markdown",
   "metadata": {},
   "source": [
    "## 2.6 Other Performance Metrics"
   ]
  },
  {
   "cell_type": "code",
   "execution_count": null,
   "metadata": {},
   "outputs": [],
   "source": [
    "x, y = undersample_fit(X_train, y_train)\n",
    "pipe_lr = Pipeline([('scl', RobustScaler(with_centering=False)),\n",
    "                    ('clf', LogisticRegression(C=0.1, penalty='l1', solver='liblinear', random_state=0))])\n",
    "pipe_lr.fit(x, y)\n",
    "y_pred = pipe_lr.predict(X_test)\n",
    "print(\"Precision: {}%\".format(int(100 * precision_score(y_test, y_pred))))\n",
    "print(\"Recall: {}%\".format(int(100 * recall_score(y_test, y_pred))))\n",
    "print(\"Log-loss: {}%\".format(int(100 * log_loss_score(pipe_lr, X_test, y_test))))\n",
    "print(\"AUROC: {}%\".format(int(100 * roc_auc_score(y_test, pipe_lr.predict_proba(X_test)[:, 1]))))\n",
    "tn, fp, fn, tp = confusion_matrix(y_pred, y_test).ravel()\n",
    "print(\"True Negatives: {}, Fale Positives: {}, False Negatives: {}, True Positives: {}\".format(tn, fp, fn, tp))\n",
    "print(\"Prediction bias: {}\".format(sum(y_pred) / len(y_pred) - sum(y_test) / len(y_test)))"
   ]
  },
  {
   "cell_type": "markdown",
   "metadata": {},
   "source": [
    "We find that the model has a very low precision of 4% but perhaps this is jutified by the recall of 72%. "
   ]
  }
 ],
 "metadata": {
  "anaconda-cloud": {},
  "kernelspec": {
   "display_name": "Python 3",
   "language": "python",
   "name": "python3"
  },
  "language_info": {
   "codemirror_mode": {
    "name": "ipython",
    "version": 3
   },
   "file_extension": ".py",
   "mimetype": "text/x-python",
   "name": "python",
   "nbconvert_exporter": "python",
   "pygments_lexer": "ipython3",
   "version": "3.5.3"
  }
 },
 "nbformat": 4,
 "nbformat_minor": 1
}
