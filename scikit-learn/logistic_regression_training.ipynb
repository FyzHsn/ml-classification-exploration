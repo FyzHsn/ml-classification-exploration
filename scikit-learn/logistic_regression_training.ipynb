{
 "cells": [
  {
   "cell_type": "markdown",
   "metadata": {},
   "source": [
    "# Binary Logisitic Regression Model Training Via sklearn"
   ]
  },
  {
   "cell_type": "markdown",
   "metadata": {},
   "source": [
    "## Tech Spec\n",
    "* Google Cloud Compute Engine\n",
    "* n1-standard-4 (4 vCPUs, 15 GB memory)\n",
    "* Debian GNU/ Linux 9"
   ]
  },
  {
   "cell_type": "markdown",
   "metadata": {},
   "source": [
    "## Model Training"
   ]
  },
  {
   "cell_type": "code",
   "execution_count": 1,
   "metadata": {},
   "outputs": [],
   "source": [
    "import numpy as np\n",
    "import pandas as pd\n",
    "import time\n",
    "\n",
    "from imblearn.pipeline import make_pipeline\n",
    "from imblearn.under_sampling import RandomUnderSampler\n",
    "\n",
    "from sklearn.compose import ColumnTransformer\n",
    "from sklearn.linear_model import LogisticRegression\n",
    "from sklearn.metrics import accuracy_score, \\\n",
    "                            auc, \\\n",
    "                            confusion_matrix, \\\n",
    "                            log_loss, make_scorer, \\\n",
    "                            roc_auc_score, roc_curve, \\\n",
    "                            precision_recall_curve, \\\n",
    "                            precision_score, \\\n",
    "                            recall_score, \\\n",
    "                            f1_score\n",
    "from sklearn.model_selection import GridSearchCV, \\\n",
    "                                    train_test_split\n",
    "from sklearn.preprocessing import OneHotEncoder, RobustScaler"
   ]
  },
  {
   "cell_type": "markdown",
   "metadata": {},
   "source": [
    "### Load Data"
   ]
  },
  {
   "cell_type": "code",
   "execution_count": 2,
   "metadata": {},
   "outputs": [],
   "source": [
    "df = pd.read_pickle('../data/preprocessed_training_data.pkl')"
   ]
  },
  {
   "cell_type": "markdown",
   "metadata": {},
   "source": [
    "### Brief Data Exploration"
   ]
  },
  {
   "cell_type": "code",
   "execution_count": 3,
   "metadata": {},
   "outputs": [
    {
     "name": "stdout",
     "output_type": "stream",
     "text": [
      "                         id           timestamp                campaignId  \\\n",
      "0  5c36658fb58fad351175f0b6 2019-01-09 21:20:15  59687f0d896a6b0e5ce6ea15   \n",
      "1  5c38d5ab1c16172870186b5a 2019-01-11 17:43:07  59687f0d896a6b0e5ce6ea15   \n",
      "2  5c38815de8f4e50e256e4f9c 2019-01-11 11:43:25  59687f0d896a6b0e5ce6ea15   \n",
      "3  5c409ace532d5806d2c6a5e6 2019-01-17 15:10:06  59687f0d896a6b0e5ce6ea15   \n",
      "4  5c3904b92d798c41e7f3088a 2019-01-11 21:03:53  59687f0d896a6b0e5ce6ea15   \n",
      "\n",
      "  platform softwareVersion sourceGameId country  startCount  viewCount  \\\n",
      "0      ios          11.4.1      1373094      US          25         24   \n",
      "1      ios            12.1      2739989      US          10          9   \n",
      "2      ios          12.1.2      1373094      US          27         26   \n",
      "3      ios          12.1.2      1217749      US          15         14   \n",
      "4      ios          12.0.1      1373094      US          20         18   \n",
      "\n",
      "   clickCount  installCount           lastStart  startCount1d  startCount7d  \\\n",
      "0           0             2 2019-01-08 18:49:48             1             8   \n",
      "1           2             0 2019-01-09 21:20:22             1             4   \n",
      "2           0             0 2019-01-09 10:42:08             1             2   \n",
      "3           2             0 2019-01-16 19:58:11             3            14   \n",
      "4           0             0 2019-01-11 21:03:05            13            18   \n",
      "\n",
      "  connectionType deviceType  install  timeSinceLastStart  \n",
      "0       cellular  iPhone8,2        0              1590.0  \n",
      "1       cellular  iPhone9,1        0              2663.0  \n",
      "2       cellular  iPhone7,1        0              2941.0  \n",
      "3           wifi  iPhone7,2        0              1152.0  \n",
      "4       cellular  iPhone8,1        0                 1.0  \n"
     ]
    }
   ],
   "source": [
    "print(df.head())"
   ]
  },
  {
   "cell_type": "code",
   "execution_count": 4,
   "metadata": {},
   "outputs": [
    {
     "name": "stdout",
     "output_type": "stream",
     "text": [
      "<class 'pandas.core.frame.DataFrame'>\n",
      "RangeIndex: 3738937 entries, 0 to 3738936\n",
      "Data columns (total 18 columns):\n",
      "id                    object\n",
      "timestamp             datetime64[ns]\n",
      "campaignId            object\n",
      "platform              object\n",
      "softwareVersion       object\n",
      "sourceGameId          object\n",
      "country               object\n",
      "startCount            int64\n",
      "viewCount             int64\n",
      "clickCount            int64\n",
      "installCount          int64\n",
      "lastStart             datetime64[ns]\n",
      "startCount1d          int64\n",
      "startCount7d          int64\n",
      "connectionType        object\n",
      "deviceType            object\n",
      "install               int64\n",
      "timeSinceLastStart    float64\n",
      "dtypes: datetime64[ns](2), float64(1), int64(7), object(8)\n",
      "memory usage: 513.5+ MB\n",
      "None\n"
     ]
    }
   ],
   "source": [
    "print(df.info())"
   ]
  },
  {
   "cell_type": "markdown",
   "metadata": {},
   "source": [
    "The training dataset has over 3.5 million records and 17 features. "
   ]
  },
  {
   "cell_type": "code",
   "execution_count": 5,
   "metadata": {},
   "outputs": [
    {
     "data": {
      "text/plain": [
       "0    3694193\n",
       "1      44744\n",
       "Name: install, dtype: int64"
      ]
     },
     "execution_count": 5,
     "metadata": {},
     "output_type": "execute_result"
    }
   ],
   "source": [
    "df['install'].value_counts()"
   ]
  },
  {
   "cell_type": "markdown",
   "metadata": {},
   "source": [
    "We find that the class distribution of the install to no-install status is extremely imbalanced at 1:82. "
   ]
  },
  {
   "cell_type": "code",
   "execution_count": 6,
   "metadata": {},
   "outputs": [],
   "source": [
    "numerical_columns = ['startCount', 'viewCount', 'installCount', 'startCount1d', 'startCount7d', 'timeSinceLastStart']\n",
    "categorical_columns = ['campaignId', 'sourceGameId', 'country']"
   ]
  },
  {
   "cell_type": "code",
   "execution_count": 7,
   "metadata": {},
   "outputs": [
    {
     "name": "stdout",
     "output_type": "stream",
     "text": [
      "campaignId\n",
      "==========\n",
      "5c3bfb0b36c2c6cc18710e7b    41740\n",
      "5c385d02ee4549000d8b9ddd    36861\n",
      "5c0f2ff2f4ee9d00225714c2    32856\n",
      "5afbea849f23a400284f2619    30286\n",
      "5c26db700f371292325680ec    28537\n",
      "                            ...  \n",
      "5c335c897bda2f05734c8d1e        1\n",
      "5c3cdf290ad04f2a9cb5d411        1\n",
      "5c0150ec9d08963e623ab452        1\n",
      "5c125e8f8bb1330034ef5287        1\n",
      "5c344fa5031ca4647aa33da8        1\n",
      "Name: campaignId, Length: 9692, dtype: int64\n",
      "        \n",
      "sourceGameId\n",
      "==========\n",
      "1711292    73156\n",
      "1483109    35089\n",
      "1782302    34015\n",
      "111890     28319\n",
      "2762289    27812\n",
      "           ...  \n",
      "1702207        1\n",
      "1168174        1\n",
      "1717206        1\n",
      "1767070        1\n",
      "1374997        1\n",
      "Name: sourceGameId, Length: 34849, dtype: int64\n",
      "        \n",
      "country\n",
      "==========\n",
      "US    579740\n",
      "RU    287701\n",
      "IN    267325\n",
      "BR    200542\n",
      "DE    148443\n",
      "       ...  \n",
      "CF         3\n",
      "NF         3\n",
      "IO         3\n",
      "TD         2\n",
      "FK         1\n",
      "Name: country, Length: 221, dtype: int64\n",
      "        \n"
     ]
    }
   ],
   "source": [
    "for feat in categorical_columns:\n",
    "    print(feat)\n",
    "    print(\"==========\")\n",
    "    print(df[feat].value_counts())\n",
    "    print(\"        \")"
   ]
  },
  {
   "cell_type": "markdown",
   "metadata": {},
   "source": [
    "This shows us that the cardinality of the campaignId and sourceGameId features are very high."
   ]
  },
  {
   "cell_type": "markdown",
   "metadata": {},
   "source": [
    " ### Data Preprocessing"
   ]
  },
  {
   "cell_type": "code",
   "execution_count": 8,
   "metadata": {},
   "outputs": [],
   "source": [
    "numerical_pipeline = make_pipeline(RobustScaler(with_centering=True))"
   ]
  },
  {
   "cell_type": "code",
   "execution_count": 9,
   "metadata": {},
   "outputs": [],
   "source": [
    "categorical_pipeline = make_pipeline(OneHotEncoder(handle_unknown='ignore'))"
   ]
  },
  {
   "cell_type": "code",
   "execution_count": 10,
   "metadata": {},
   "outputs": [],
   "source": [
    "preprocessor = ColumnTransformer(\n",
    "    [('numerical_preprocessing', numerical_pipeline, numerical_columns), \n",
    "     ('categorical_preprocessing', categorical_pipeline, categorical_columns)], \n",
    "    remainder='drop')"
   ]
  },
  {
   "cell_type": "markdown",
   "metadata": {
    "collapsed": true
   },
   "source": [
    "### Dataset Training/Test Split"
   ]
  },
  {
   "cell_type": "code",
   "execution_count": 11,
   "metadata": {},
   "outputs": [],
   "source": [
    "X = df[numerical_columns + categorical_columns]\n",
    "y = df['install']\n",
    "\n",
    "X_train, X_test, y_train, y_test = \\\n",
    "    train_test_split(X, y, test_size=0.2, stratify=y, random_state=0)"
   ]
  },
  {
   "cell_type": "markdown",
   "metadata": {},
   "source": [
    "## Performance Metrics"
   ]
  },
  {
   "cell_type": "markdown",
   "metadata": {},
   "source": [
    "The metrics used to measure the classifier performance other than AUROC, log-loss and prediction bias are the precision and recall."
   ]
  },
  {
   "cell_type": "code",
   "execution_count": 12,
   "metadata": {},
   "outputs": [],
   "source": [
    "def log_loss_score(clf, x, y):\n",
    "    return log_loss(y, clf.predict_proba(x))\n",
    "\n",
    "def auroc_score(clf, x, y):\n",
    "    return roc_auc_score(y, clf.predict_proba(x)[:, 1])"
   ]
  },
  {
   "cell_type": "markdown",
   "metadata": {},
   "source": [
    "## 2.4 Grid Search"
   ]
  },
  {
   "cell_type": "code",
   "execution_count": 13,
   "metadata": {},
   "outputs": [],
   "source": [
    "pipeline = make_pipeline(preprocessor, \n",
    "                         RandomUnderSampler(random_state=0), \n",
    "                         LogisticRegression(penalty='l2', max_iter=2000, random_state=0))"
   ]
  },
  {
   "cell_type": "code",
   "execution_count": 14,
   "metadata": {},
   "outputs": [],
   "source": [
    "param_range = [0.01, 0.1, 1.0, 10.0]\n",
    "param_grid = [{'logisticregression__C': param_range}]"
   ]
  },
  {
   "cell_type": "code",
   "execution_count": 15,
   "metadata": {},
   "outputs": [
    {
     "name": "stderr",
     "output_type": "stream",
     "text": [
      "/home/faiyaz_hasan1/.local/lib/python3.5/site-packages/sklearn/linear_model/_logistic.py:940: ConvergenceWarning: lbfgs failed to converge (status=1):\n",
      "STOP: TOTAL NO. of ITERATIONS REACHED LIMIT.\n",
      "\n",
      "Increase the number of iterations (max_iter) or scale the data as shown in:\n",
      "    https://scikit-learn.org/stable/modules/preprocessing.html\n",
      "Please also refer to the documentation for alternative solver options:\n",
      "    https://scikit-learn.org/stable/modules/linear_model.html#logistic-regression\n",
      "  extra_warning_msg=_LOGISTIC_SOLVER_CONVERGENCE_MSG)\n",
      "/home/faiyaz_hasan1/.local/lib/python3.5/site-packages/sklearn/linear_model/_logistic.py:940: ConvergenceWarning: lbfgs failed to converge (status=1):\n",
      "STOP: TOTAL NO. of ITERATIONS REACHED LIMIT.\n",
      "\n",
      "Increase the number of iterations (max_iter) or scale the data as shown in:\n",
      "    https://scikit-learn.org/stable/modules/preprocessing.html\n",
      "Please also refer to the documentation for alternative solver options:\n",
      "    https://scikit-learn.org/stable/modules/linear_model.html#logistic-regression\n",
      "  extra_warning_msg=_LOGISTIC_SOLVER_CONVERGENCE_MSG)\n",
      "/home/faiyaz_hasan1/.local/lib/python3.5/site-packages/sklearn/linear_model/_logistic.py:940: ConvergenceWarning: lbfgs failed to converge (status=1):\n",
      "STOP: TOTAL NO. of ITERATIONS REACHED LIMIT.\n",
      "\n",
      "Increase the number of iterations (max_iter) or scale the data as shown in:\n",
      "    https://scikit-learn.org/stable/modules/preprocessing.html\n",
      "Please also refer to the documentation for alternative solver options:\n",
      "    https://scikit-learn.org/stable/modules/linear_model.html#logistic-regression\n",
      "  extra_warning_msg=_LOGISTIC_SOLVER_CONVERGENCE_MSG)\n"
     ]
    },
    {
     "name": "stdout",
     "output_type": "stream",
     "text": [
      "6.712116340796153 minutes\n",
      "0.7261716779067208\n",
      "{'logisticregression__C': 0.1}\n"
     ]
    }
   ],
   "source": [
    "t_0 = time.time()\n",
    "gs = GridSearchCV(estimator=pipeline,\n",
    "                  param_grid=param_grid,\n",
    "                  scoring='roc_auc',\n",
    "                  cv=3)\n",
    "gs.fit(X_train, y_train)\n",
    "print('{} minutes'.format((time.time() - t_0) / 60.0))\n",
    "print(gs.best_score_)\n",
    "print(gs.best_params_)"
   ]
  },
  {
   "cell_type": "markdown",
   "metadata": {},
   "source": [
    "11 minutes on a million rows of data - AUROC score of 0.73. l2 penalty, C=0.1."
   ]
  },
  {
   "cell_type": "markdown",
   "metadata": {},
   "source": [
    "## Optimal classifier training time"
   ]
  },
  {
   "cell_type": "code",
   "execution_count": 13,
   "metadata": {},
   "outputs": [
    {
     "name": "stdout",
     "output_type": "stream",
     "text": [
      "42.110485792160034 seconds\n"
     ]
    },
    {
     "name": "stderr",
     "output_type": "stream",
     "text": [
      "/Users/faiyaz/.pyenv/versions/3.5.3/envs/imblearn-scikit/lib/python3.5/site-packages/sklearn/linear_model/_logistic.py:940: ConvergenceWarning: lbfgs failed to converge (status=1):\n",
      "STOP: TOTAL NO. of ITERATIONS REACHED LIMIT.\n",
      "\n",
      "Increase the number of iterations (max_iter) or scale the data as shown in:\n",
      "    https://scikit-learn.org/stable/modules/preprocessing.html\n",
      "Please also refer to the documentation for alternative solver options:\n",
      "    https://scikit-learn.org/stable/modules/linear_model.html#logistic-regression\n",
      "  extra_warning_msg=_LOGISTIC_SOLVER_CONVERGENCE_MSG)\n"
     ]
    }
   ],
   "source": [
    "t_0 = time.time()\n",
    "pipeline = make_pipeline(preprocessor, \n",
    "                         RandomUnderSampler(random_state=0), \n",
    "                         LogisticRegression(C=1.0, penalty='l2', max_iter=1000, random_state=0))\n",
    "pipeline.fit(X_train, y_train)\n",
    "print('{} seconds'.format((time.time() - t_0)))"
   ]
  },
  {
   "cell_type": "markdown",
   "metadata": {},
   "source": [
    "## Performance Metrics"
   ]
  },
  {
   "cell_type": "code",
   "execution_count": 14,
   "metadata": {},
   "outputs": [
    {
     "name": "stdout",
     "output_type": "stream",
     "text": [
      "Precision: 2%\n",
      "Recall: 67%\n",
      "Log-loss: 61%\n",
      "AUROC: 72%\n",
      "True Negatives: 489217, Fale Positives: 2879, False Negatives: 249622, True Positives: 6070\n",
      "Prediction bias: 0.32996384001882884\n"
     ]
    }
   ],
   "source": [
    "y_pred = pipeline.predict(X_test)\n",
    "print(\"Precision: {}%\".format(int(100 * precision_score(y_test, y_pred))))\n",
    "print(\"Recall: {}%\".format(int(100 * recall_score(y_test, y_pred))))\n",
    "print(\"Log-loss: {}%\".format(int(100 * log_loss_score(pipeline, X_test, y_test))))\n",
    "print(\"AUROC: {}%\".format(int(100 * roc_auc_score(y_test, pipeline.predict_proba(X_test)[:, 1]))))\n",
    "tn, fp, fn, tp = confusion_matrix(y_pred, y_test).ravel()\n",
    "print(\"True Negatives: {}, Fale Positives: {}, False Negatives: {}, True Positives: {}\".format(tn, fp, fn, tp))\n",
    "print(\"Prediction bias: {}\".format(sum(y_pred) / len(y_pred) - sum(y_test) / len(y_test)))"
   ]
  },
  {
   "cell_type": "markdown",
   "metadata": {},
   "source": [
    "On a million data points, we find that the model has a very low precision of 2% but perhaps this is jutified by the recall of 67%. \n",
    "When using the 3.7 million rows, we find that the same result holds true."
   ]
  },
  {
   "cell_type": "code",
   "execution_count": null,
   "metadata": {},
   "outputs": [],
   "source": []
  }
 ],
 "metadata": {
  "anaconda-cloud": {},
  "kernelspec": {
   "display_name": "Python 3",
   "language": "python",
   "name": "python3"
  },
  "language_info": {
   "codemirror_mode": {
    "name": "ipython",
    "version": 3
   },
   "file_extension": ".py",
   "mimetype": "text/x-python",
   "name": "python",
   "nbconvert_exporter": "python",
   "pygments_lexer": "ipython3",
   "version": "3.5.3"
  }
 },
 "nbformat": 4,
 "nbformat_minor": 1
}
