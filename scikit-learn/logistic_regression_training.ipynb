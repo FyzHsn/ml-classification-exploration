{
 "cells": [
  {
   "cell_type": "markdown",
   "metadata": {},
   "source": [
    "# Binary Logisitic Regression Model Training Via sklearn"
   ]
  },
  {
   "cell_type": "markdown",
   "metadata": {},
   "source": [
    "## Tech Spec\n",
    "* Google Cloud Compute Engine\n",
    "* n1-standard-4 (4 vCPUs, 15 GB memory)\n",
    "* Debian GNU/ Linux 9"
   ]
  },
  {
   "cell_type": "markdown",
   "metadata": {},
   "source": [
    "## Performance\n",
    "Hyperparameter tuning over the parameter grid ----- took ----- minutes.\n",
    "\n",
    "Traning over ------ samples took ----- minutes."
   ]
  },
  {
   "cell_type": "markdown",
   "metadata": {},
   "source": [
    "## Model Training"
   ]
  },
  {
   "cell_type": "code",
   "execution_count": 1,
   "metadata": {},
   "outputs": [],
   "source": [
    "import numpy as np\n",
    "import pandas as pd\n",
    "import time\n",
    "\n",
    "from imblearn.pipeline import make_pipeline\n",
    "from imblearn.under_sampling import RandomUnderSampler\n",
    "\n",
    "from sklearn.compose import ColumnTransformer\n",
    "from sklearn.linear_model import LogisticRegression\n",
    "from sklearn.metrics import accuracy_score, \\\n",
    "                            auc, \\\n",
    "                            confusion_matrix, \\\n",
    "                            log_loss, make_scorer, \\\n",
    "                            roc_auc_score, roc_curve, \\\n",
    "                            precision_recall_curve, \\\n",
    "                            precision_score, \\\n",
    "                            recall_score, \\\n",
    "                            f1_score\n",
    "from sklearn.model_selection import GridSearchCV, \\\n",
    "                                    train_test_split\n",
    "from sklearn.preprocessing import OneHotEncoder, RobustScaler"
   ]
  },
  {
   "cell_type": "markdown",
   "metadata": {},
   "source": [
    "### Load Data"
   ]
  },
  {
   "cell_type": "code",
   "execution_count": 16,
   "metadata": {},
   "outputs": [],
   "source": [
    "df = pd.read_pickle('../data/preprocessed_training_data.pkl')\n",
    "df = df[:400000]"
   ]
  },
  {
   "cell_type": "markdown",
   "metadata": {},
   "source": [
    "### Brief Data Exploration"
   ]
  },
  {
   "cell_type": "code",
   "execution_count": 17,
   "metadata": {},
   "outputs": [
    {
     "name": "stdout",
     "output_type": "stream",
     "text": [
      "                         id           timestamp                campaignId  \\\n",
      "0  5c36658fb58fad351175f0b6 2019-01-09 21:20:15  59687f0d896a6b0e5ce6ea15   \n",
      "1  5c38d5ab1c16172870186b5a 2019-01-11 17:43:07  59687f0d896a6b0e5ce6ea15   \n",
      "2  5c38815de8f4e50e256e4f9c 2019-01-11 11:43:25  59687f0d896a6b0e5ce6ea15   \n",
      "3  5c409ace532d5806d2c6a5e6 2019-01-17 15:10:06  59687f0d896a6b0e5ce6ea15   \n",
      "4  5c3904b92d798c41e7f3088a 2019-01-11 21:03:53  59687f0d896a6b0e5ce6ea15   \n",
      "\n",
      "  platform softwareVersion sourceGameId country  startCount  viewCount  \\\n",
      "0      ios          11.4.1      1373094      US          25         24   \n",
      "1      ios            12.1      2739989      US          10          9   \n",
      "2      ios          12.1.2      1373094      US          27         26   \n",
      "3      ios          12.1.2      1217749      US          15         14   \n",
      "4      ios          12.0.1      1373094      US          20         18   \n",
      "\n",
      "   clickCount  installCount           lastStart  startCount1d  startCount7d  \\\n",
      "0           0             2 2019-01-08 18:49:48             1             8   \n",
      "1           2             0 2019-01-09 21:20:22             1             4   \n",
      "2           0             0 2019-01-09 10:42:08             1             2   \n",
      "3           2             0 2019-01-16 19:58:11             3            14   \n",
      "4           0             0 2019-01-11 21:03:05            13            18   \n",
      "\n",
      "  connectionType deviceType  install  timeSinceLastStart  \n",
      "0       cellular  iPhone8,2        0              1590.0  \n",
      "1       cellular  iPhone9,1        0              2663.0  \n",
      "2       cellular  iPhone7,1        0              2941.0  \n",
      "3           wifi  iPhone7,2        0              1152.0  \n",
      "4       cellular  iPhone8,1        0                 1.0  \n"
     ]
    }
   ],
   "source": [
    "print(df.head())"
   ]
  },
  {
   "cell_type": "code",
   "execution_count": 18,
   "metadata": {},
   "outputs": [
    {
     "name": "stdout",
     "output_type": "stream",
     "text": [
      "<class 'pandas.core.frame.DataFrame'>\n",
      "RangeIndex: 400000 entries, 0 to 399999\n",
      "Data columns (total 18 columns):\n",
      "id                    400000 non-null object\n",
      "timestamp             400000 non-null datetime64[ns]\n",
      "campaignId            400000 non-null object\n",
      "platform              400000 non-null object\n",
      "softwareVersion       400000 non-null object\n",
      "sourceGameId          400000 non-null object\n",
      "country               400000 non-null object\n",
      "startCount            400000 non-null int64\n",
      "viewCount             400000 non-null int64\n",
      "clickCount            400000 non-null int64\n",
      "installCount          400000 non-null int64\n",
      "lastStart             369470 non-null datetime64[ns]\n",
      "startCount1d          400000 non-null int64\n",
      "startCount7d          400000 non-null int64\n",
      "connectionType        400000 non-null object\n",
      "deviceType            400000 non-null object\n",
      "install               400000 non-null int64\n",
      "timeSinceLastStart    400000 non-null float64\n",
      "dtypes: datetime64[ns](2), float64(1), int64(7), object(8)\n",
      "memory usage: 54.9+ MB\n",
      "None\n"
     ]
    }
   ],
   "source": [
    "print(df.info())"
   ]
  },
  {
   "cell_type": "markdown",
   "metadata": {},
   "source": [
    "The training dataset has over 3.5 million records and 17 features. "
   ]
  },
  {
   "cell_type": "code",
   "execution_count": 19,
   "metadata": {},
   "outputs": [
    {
     "data": {
      "text/plain": [
       "0    393427\n",
       "1      6573\n",
       "Name: install, dtype: int64"
      ]
     },
     "execution_count": 19,
     "metadata": {},
     "output_type": "execute_result"
    }
   ],
   "source": [
    "df['install'].value_counts()"
   ]
  },
  {
   "cell_type": "markdown",
   "metadata": {},
   "source": [
    "We find that the class distribution of the install to no-install status is extremely imbalanced at 1:82. "
   ]
  },
  {
   "cell_type": "code",
   "execution_count": 20,
   "metadata": {},
   "outputs": [],
   "source": [
    "numerical_columns = ['startCount', 'viewCount', 'installCount', 'startCount1d', 'startCount7d', 'timeSinceLastStart']\n",
    "categorical_columns = ['campaignId', 'sourceGameId', 'country']"
   ]
  },
  {
   "cell_type": "code",
   "execution_count": 21,
   "metadata": {},
   "outputs": [
    {
     "name": "stdout",
     "output_type": "stream",
     "text": [
      "campaignId\n",
      "==========\n",
      "5bd2ccefc9c2110ad461c1b3    23413\n",
      "5bf54928eb052c1002550102    22749\n",
      "5be19ebfea7afe2df87a44cd    15438\n",
      "5b6d659b9225dc002ec90dff    14075\n",
      "5af41f681455c215c8a5a559     9976\n",
      "                            ...  \n",
      "5a9be6ea3f98c037e2583b14        1\n",
      "5bc6e0236e2e5aaef4543d92        1\n",
      "5bf4b62716fbbb711b8bae88        1\n",
      "5c01890762973d602111c88a        1\n",
      "5ba0a0c06998b01f00b12e9e        1\n",
      "Name: campaignId, Length: 1009, dtype: int64\n",
      "        \n",
      "sourceGameId\n",
      "==========\n",
      "1711292    8096\n",
      "2762289    5331\n",
      "2633648    4679\n",
      "111890     4474\n",
      "1483109    4148\n",
      "           ... \n",
      "2784214       1\n",
      "1155685       1\n",
      "1323843       1\n",
      "2803389       1\n",
      "2610183       1\n",
      "Name: sourceGameId, Length: 16767, dtype: int64\n",
      "        \n",
      "country\n",
      "==========\n",
      "US    57533\n",
      "RU    40440\n",
      "IN    34698\n",
      "ID    27315\n",
      "DE    18102\n",
      "      ...  \n",
      "MH        1\n",
      "WF        1\n",
      "GQ        1\n",
      "CF        1\n",
      "KI        1\n",
      "Name: country, Length: 210, dtype: int64\n",
      "        \n"
     ]
    }
   ],
   "source": [
    "for feat in categorical_columns:\n",
    "    print(feat)\n",
    "    print(\"==========\")\n",
    "    print(df[feat].value_counts())\n",
    "    print(\"        \")"
   ]
  },
  {
   "cell_type": "markdown",
   "metadata": {},
   "source": [
    "This shows us that the cardinality of the campaignId and sourceGameId features are very high."
   ]
  },
  {
   "cell_type": "markdown",
   "metadata": {},
   "source": [
    " ### Data Preprocessing"
   ]
  },
  {
   "cell_type": "code",
   "execution_count": 33,
   "metadata": {},
   "outputs": [],
   "source": [
    "numerical_pipeline = make_pipeline(RobustScaler(with_centering=True))"
   ]
  },
  {
   "cell_type": "code",
   "execution_count": 34,
   "metadata": {},
   "outputs": [],
   "source": [
    "categorical_pipeline = make_pipeline(OneHotEncoder(handle_unknown='ignore'))"
   ]
  },
  {
   "cell_type": "code",
   "execution_count": 35,
   "metadata": {},
   "outputs": [],
   "source": [
    "preprocessor = ColumnTransformer(\n",
    "    [('numerical_preprocessing', numerical_pipeline, numerical_columns), \n",
    "     ('categorical_preprocessing', categorical_pipeline, categorical_columns)], \n",
    "    remainder='drop')"
   ]
  },
  {
   "cell_type": "markdown",
   "metadata": {
    "collapsed": true
   },
   "source": [
    "### Dataset Training/Test Split"
   ]
  },
  {
   "cell_type": "code",
   "execution_count": 36,
   "metadata": {},
   "outputs": [],
   "source": [
    "X = df[numerical_columns + categorical_columns]\n",
    "y = df['install']\n",
    "\n",
    "X_train, X_test, y_train, y_test = \\\n",
    "    train_test_split(X, y, test_size=0.2, stratify=y, random_state=0)"
   ]
  },
  {
   "cell_type": "markdown",
   "metadata": {},
   "source": [
    "## Performance Metrics"
   ]
  },
  {
   "cell_type": "markdown",
   "metadata": {},
   "source": [
    "The metrics used to measure the classifier performance other than AUROC, log-loss and prediction bias are the precision and recall."
   ]
  },
  {
   "cell_type": "code",
   "execution_count": 37,
   "metadata": {},
   "outputs": [],
   "source": [
    "def log_loss_score(clf, x, y):\n",
    "    return log_loss(y, clf.predict_proba(x))\n",
    "\n",
    "def auroc_score(clf, x, y):\n",
    "    return roc_auc_score(y, clf.predict_proba(x)[:, 1])"
   ]
  },
  {
   "cell_type": "markdown",
   "metadata": {},
   "source": [
    "## 2.4 Grid Search"
   ]
  },
  {
   "cell_type": "code",
   "execution_count": 38,
   "metadata": {},
   "outputs": [],
   "source": [
    "pipeline = make_pipeline(preprocessor, \n",
    "                         RandomUnderSampler(random_state=0), \n",
    "                         LogisticRegression(random_state=0))"
   ]
  },
  {
   "cell_type": "code",
   "execution_count": 39,
   "metadata": {},
   "outputs": [],
   "source": [
    "param_range = [0.01, 0.1, 1.0, 10.0]\n",
    "param_grid = [{'logisticregression__C': param_range, \n",
    "               'logisticregression__penalty': ['l1'],\n",
    "               'logisticregression__solver': ['saga']}, \n",
    "              {'logisticregression__C': param_range, \n",
    "               'logisticregression__penalty': ['l2'],\n",
    "               'logisticregression__solver': ['lbfgs']}]"
   ]
  },
  {
   "cell_type": "code",
   "execution_count": null,
   "metadata": {},
   "outputs": [],
   "source": [
    "t_0 = time.time()\n",
    "gs = GridSearchCV(estimator=pipeline,\n",
    "                  param_grid=param_grid,\n",
    "                  scoring='roc_auc',\n",
    "                  cv=3)\n",
    "gs.fit(X_train, y_train)\n",
    "print('{} minutes'.format((time.time() - t_0) / 60.0))\n",
    "print(gs.best_score_)\n",
    "print(gs.best_params_)"
   ]
  },
  {
   "cell_type": "markdown",
   "metadata": {},
   "source": [
    "11 minutes on a million rows of data - AUROC score of 0.73. l2 penalty, C=0.1."
   ]
  },
  {
   "cell_type": "markdown",
   "metadata": {},
   "source": [
    "## Optimal classifier training time"
   ]
  },
  {
   "cell_type": "code",
   "execution_count": 14,
   "metadata": {},
   "outputs": [
    {
     "name": "stdout",
     "output_type": "stream",
     "text": [
      "0.8826190749804179 minutes\n"
     ]
    }
   ],
   "source": [
    "t_0 = time.time()\n",
    "pipeline = make_pipeline(preprocessor, \n",
    "                         RandomUnderSampler(random_state=0), \n",
    "                         LogisticRegression(C=1.0, penalty='l2', max_iter=2000, random_state=0))\n",
    "pipeline.fit(X_train, y_train)\n",
    "print('{} minutes'.format((time.time() - t_0) / 60.0))"
   ]
  },
  {
   "cell_type": "markdown",
   "metadata": {},
   "source": [
    "## 2.6 Other Performance Metrics"
   ]
  },
  {
   "cell_type": "code",
   "execution_count": 15,
   "metadata": {},
   "outputs": [
    {
     "name": "stdout",
     "output_type": "stream",
     "text": [
      "Precision: 2%\n",
      "Recall: 67%\n",
      "Log-loss: 61%\n",
      "AUROC: 72%\n",
      "True Negatives: 489232, Fale Positives: 2879, False Negatives: 249607, True Positives: 6070\n",
      "Prediction bias: 0.3299437808576762\n"
     ]
    }
   ],
   "source": [
    "y_pred = pipeline.predict(X_test)\n",
    "print(\"Precision: {}%\".format(int(100 * precision_score(y_test, y_pred))))\n",
    "print(\"Recall: {}%\".format(int(100 * recall_score(y_test, y_pred))))\n",
    "print(\"Log-loss: {}%\".format(int(100 * log_loss_score(pipeline, X_test, y_test))))\n",
    "print(\"AUROC: {}%\".format(int(100 * roc_auc_score(y_test, pipeline.predict_proba(X_test)[:, 1]))))\n",
    "tn, fp, fn, tp = confusion_matrix(y_pred, y_test).ravel()\n",
    "print(\"True Negatives: {}, Fale Positives: {}, False Negatives: {}, True Positives: {}\".format(tn, fp, fn, tp))\n",
    "print(\"Prediction bias: {}\".format(sum(y_pred) / len(y_pred) - sum(y_test) / len(y_test)))"
   ]
  },
  {
   "cell_type": "markdown",
   "metadata": {},
   "source": [
    "On a million data points, we find that the model has a very low precision of 2% but perhaps this is jutified by the recall of 67%. \n",
    "When using the 3.7 million rows, we find that the same result holds true."
   ]
  }
 ],
 "metadata": {
  "anaconda-cloud": {},
  "kernelspec": {
   "display_name": "Python 3",
   "language": "python",
   "name": "python3"
  },
  "language_info": {
   "codemirror_mode": {
    "name": "ipython",
    "version": 3
   },
   "file_extension": ".py",
   "mimetype": "text/x-python",
   "name": "python",
   "nbconvert_exporter": "python",
   "pygments_lexer": "ipython3",
   "version": "3.5.3"
  }
 },
 "nbformat": 4,
 "nbformat_minor": 1
}
