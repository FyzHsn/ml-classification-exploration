{
 "cells": [
  {
   "cell_type": "markdown",
   "metadata": {},
   "source": [
    "# Binary Classification Via Logistic Regression in Scikit Learn"
   ]
  },
  {
   "cell_type": "markdown",
   "metadata": {},
   "source": [
    "## Report Summary"
   ]
  },
  {
   "cell_type": "markdown",
   "metadata": {},
   "source": [
    "The optimal logistic regression classifier (implemented via sklearn) had a 3-fold cross validated AUROC test score of 0.72 +/- 0.01 and log-loss score of 0.63 +/- 0. When the classifier was applied to an unseen test dataset, the results generalized well since it had an AUROC score of 0.72 and log-loss score of 0.61.\n",
    "\n",
    "Furthermore, the classifier had a prediction bias of 0.27, i.e. the predicted class labels are on average higher than the actual class labels by 0.27, precision of 2% and recall of 60%. The extremely low precision is extremely concerning and it is possible that there is a severe logical flaw in how this model was trained.\n",
    "\n",
    "I chose logistic regression for this task since it is a straightforward algorithm particularly well suited for modeling class probabilities.\n",
    "\n",
    "As expected, the class labels are largely skewed towards non-installations. There are approximately a 100 times more instances of non-installations compared to installations. In order to balance the dataset, I used undersampling. The categorical features were transformed via one hot encoding which led to a very sparse matrix. However, an ad hoc comparison showed that the performance is better when using both the numerical and the categorical features. The numerical features were transformed using the MaxAbsScaler in the sklearn package since some sort of normalization schema is required for logistic regression classifiers to work well. \n",
    "\n",
    "Due to the size of the dataset, I used n1-standard-8 (8 vCPUs, 30 GB memory) & 1 NVIDIA Tesla P4 GPU via Google Compute Engine for the task. Despite all the increases in vCPUs and memory, the amount of time taken to perform the cross-validated grid search was taking unreasonably long. In order to get around this issue, I sampled the training dataset and used 400,000 rows of data for the cross-validated grid search. This approach was well justified by the plateaued learning curve, i.e. adding more data beyond 400,000 rows only led to marginal improvements in log-loss score.\n",
    "\n",
    "Once the optimal parameter of inverse regularization (C) of 0.1 and the L1 norm penalty was determined, the logistic regression classifier was then trained on a subsample of the full training dataset comprised of 800,000 rows that then went through indersampling to balance the classes (Note: There were memory errors when I tried 1.6 million rows). Lastly, once the classifer was trained it was then used to predict the installation probabilities of the test set."
   ]
  },
  {
   "cell_type": "markdown",
   "metadata": {},
   "source": [
    "## Future Work"
   ]
  },
  {
   "cell_type": "markdown",
   "metadata": {},
   "source": [
    "The greatest challenge of this task (for me personally) was to fully utilize the dataset given to train the classifiers. Hence, future work would necessarily involve finding ways to getting around the persistent memory errors. \n",
    "\n",
    "Additional sources of performance improvement would include:\n",
    "1. Experimentation to find an optimal numerical feature normalization scheme.\n",
    "2. Comparisons of the standard over/undersampling and SMOTE to find a more effective way to cure the class imbalance.\n",
    "\n",
    "In terms of improving the classifiers, it would be interesting to try:\n",
    "1. Stochastic Gradient Descent classifiers which might be better suited to this dataset due to its online training abilities.  \n",
    "2. Deep learning to improve upon the Logistic Regression classifier. \n",
    "\n",
    "One of the questions that I would pursue if I had more time is whether the precision and recall remain the same when training the model on larger and larger datasets. While log-loss and AUROC were stable, I'm not sure if that generalizes to the other metrics. And if in fact, the precision and recall learning curves are less stable for smaller datasets, that would be additional reason to utilize the full dataset when performing the grid search.\n",
    "\n",
    "The sections below contain all the source code for the EDA and model selection. "
   ]
  },
  {
   "cell_type": "markdown",
   "metadata": {},
   "source": [
    "# 1. Exploratory Data Analysis"
   ]
  },
  {
   "cell_type": "code",
   "execution_count": 1,
   "metadata": {},
   "outputs": [],
   "source": [
    "import csv\n",
    "import datetime as dt\n",
    "import garbagecollector as gc\n",
    "import matplotlib.pyplot as plt\n",
    "import numpy as np\n",
    "import pandas as pd\n",
    "import seaborn as sns\n",
    "import random\n",
    "import time\n",
    "\n",
    "\n",
    "from scipy.sparse import csc_matrix, hstack \n",
    "from sklearn.linear_model import LogisticRegression\n",
    "from sklearn.pipeline import Pipeline\n",
    "from sklearn.preprocessing import OneHotEncoder, RobustScaler\n",
    "from sklearn.metrics import accuracy_score, \\\n",
    "                            auc, \\\n",
    "                            confusion_matrix, \\\n",
    "                            log_loss, make_scorer, \\\n",
    "                            roc_auc_score, roc_curve, \\\n",
    "                            precision_recall_curve, \\\n",
    "                            precision_score, \\\n",
    "                            recall_score, \\\n",
    "                            f1_score\n",
    "from sklearn.model_selection import GridSearchCV, \\\n",
    "                                    learning_curve, \\\n",
    "                                    StratifiedKFold, \\\n",
    "                                    train_test_split"
   ]
  },
  {
   "cell_type": "code",
   "execution_count": 3,
   "metadata": {},
   "outputs": [
    {
     "data": {
      "text/html": [
       "<div>\n",
       "<style scoped>\n",
       "    .dataframe tbody tr th:only-of-type {\n",
       "        vertical-align: middle;\n",
       "    }\n",
       "\n",
       "    .dataframe tbody tr th {\n",
       "        vertical-align: top;\n",
       "    }\n",
       "\n",
       "    .dataframe thead th {\n",
       "        text-align: right;\n",
       "    }\n",
       "</style>\n",
       "<table border=\"1\" class=\"dataframe\">\n",
       "  <thead>\n",
       "    <tr style=\"text-align: right;\">\n",
       "      <th></th>\n",
       "      <th>id</th>\n",
       "      <th>timestamp</th>\n",
       "      <th>campaignId</th>\n",
       "      <th>platform</th>\n",
       "      <th>softwareVersion</th>\n",
       "      <th>sourceGameId</th>\n",
       "      <th>country</th>\n",
       "      <th>startCount</th>\n",
       "      <th>viewCount</th>\n",
       "      <th>clickCount</th>\n",
       "      <th>installCount</th>\n",
       "      <th>lastStart</th>\n",
       "      <th>startCount1d</th>\n",
       "      <th>startCount7d</th>\n",
       "      <th>connectionType</th>\n",
       "      <th>deviceType</th>\n",
       "      <th>install</th>\n",
       "    </tr>\n",
       "  </thead>\n",
       "  <tbody>\n",
       "    <tr>\n",
       "      <th>0</th>\n",
       "      <td>5c36658fb58fad351175f0b6</td>\n",
       "      <td>2019-01-09T21:20:15.943+00:00</td>\n",
       "      <td>59687f0d896a6b0e5ce6ea15</td>\n",
       "      <td>ios</td>\n",
       "      <td>11.4.1</td>\n",
       "      <td>1373094</td>\n",
       "      <td>US</td>\n",
       "      <td>25</td>\n",
       "      <td>24</td>\n",
       "      <td>0</td>\n",
       "      <td>2</td>\n",
       "      <td>2019-01-08T18:49:48.129+00:00</td>\n",
       "      <td>1</td>\n",
       "      <td>8</td>\n",
       "      <td>cellular</td>\n",
       "      <td>iPhone8,2</td>\n",
       "      <td>0</td>\n",
       "    </tr>\n",
       "    <tr>\n",
       "      <th>1</th>\n",
       "      <td>5c38d5ab1c16172870186b5a</td>\n",
       "      <td>2019-01-11T17:43:07.609+00:00</td>\n",
       "      <td>59687f0d896a6b0e5ce6ea15</td>\n",
       "      <td>ios</td>\n",
       "      <td>12.1</td>\n",
       "      <td>2739989</td>\n",
       "      <td>US</td>\n",
       "      <td>10</td>\n",
       "      <td>9</td>\n",
       "      <td>2</td>\n",
       "      <td>0</td>\n",
       "      <td>2019-01-09T21:20:22.855+00:00</td>\n",
       "      <td>1</td>\n",
       "      <td>4</td>\n",
       "      <td>cellular</td>\n",
       "      <td>iPhone9,1</td>\n",
       "      <td>0</td>\n",
       "    </tr>\n",
       "    <tr>\n",
       "      <th>2</th>\n",
       "      <td>5c38815de8f4e50e256e4f9c</td>\n",
       "      <td>2019-01-11T11:43:25.168+00:00</td>\n",
       "      <td>59687f0d896a6b0e5ce6ea15</td>\n",
       "      <td>ios</td>\n",
       "      <td>12.1.2</td>\n",
       "      <td>1373094</td>\n",
       "      <td>US</td>\n",
       "      <td>27</td>\n",
       "      <td>26</td>\n",
       "      <td>0</td>\n",
       "      <td>0</td>\n",
       "      <td>2019-01-09T10:42:08.446+00:00</td>\n",
       "      <td>1</td>\n",
       "      <td>2</td>\n",
       "      <td>cellular</td>\n",
       "      <td>iPhone7,1</td>\n",
       "      <td>0</td>\n",
       "    </tr>\n",
       "    <tr>\n",
       "      <th>3</th>\n",
       "      <td>5c409ace532d5806d2c6a5e6</td>\n",
       "      <td>2019-01-17T15:10:06.420+00:00</td>\n",
       "      <td>59687f0d896a6b0e5ce6ea15</td>\n",
       "      <td>ios</td>\n",
       "      <td>12.1.2</td>\n",
       "      <td>1217749</td>\n",
       "      <td>US</td>\n",
       "      <td>15</td>\n",
       "      <td>14</td>\n",
       "      <td>2</td>\n",
       "      <td>0</td>\n",
       "      <td>2019-01-16T19:58:11.636+00:00</td>\n",
       "      <td>3</td>\n",
       "      <td>14</td>\n",
       "      <td>wifi</td>\n",
       "      <td>iPhone7,2</td>\n",
       "      <td>0</td>\n",
       "    </tr>\n",
       "    <tr>\n",
       "      <th>4</th>\n",
       "      <td>5c3904b92d798c41e7f3088a</td>\n",
       "      <td>2019-01-11T21:03:53.145+00:00</td>\n",
       "      <td>59687f0d896a6b0e5ce6ea15</td>\n",
       "      <td>ios</td>\n",
       "      <td>12.0.1</td>\n",
       "      <td>1373094</td>\n",
       "      <td>US</td>\n",
       "      <td>20</td>\n",
       "      <td>18</td>\n",
       "      <td>0</td>\n",
       "      <td>0</td>\n",
       "      <td>2019-01-11T21:03:05.103+00:00</td>\n",
       "      <td>13</td>\n",
       "      <td>18</td>\n",
       "      <td>cellular</td>\n",
       "      <td>iPhone8,1</td>\n",
       "      <td>0</td>\n",
       "    </tr>\n",
       "  </tbody>\n",
       "</table>\n",
       "</div>"
      ],
      "text/plain": [
       "                         id                      timestamp  \\\n",
       "0  5c36658fb58fad351175f0b6  2019-01-09T21:20:15.943+00:00   \n",
       "1  5c38d5ab1c16172870186b5a  2019-01-11T17:43:07.609+00:00   \n",
       "2  5c38815de8f4e50e256e4f9c  2019-01-11T11:43:25.168+00:00   \n",
       "3  5c409ace532d5806d2c6a5e6  2019-01-17T15:10:06.420+00:00   \n",
       "4  5c3904b92d798c41e7f3088a  2019-01-11T21:03:53.145+00:00   \n",
       "\n",
       "                 campaignId platform softwareVersion sourceGameId country  \\\n",
       "0  59687f0d896a6b0e5ce6ea15      ios          11.4.1      1373094      US   \n",
       "1  59687f0d896a6b0e5ce6ea15      ios            12.1      2739989      US   \n",
       "2  59687f0d896a6b0e5ce6ea15      ios          12.1.2      1373094      US   \n",
       "3  59687f0d896a6b0e5ce6ea15      ios          12.1.2      1217749      US   \n",
       "4  59687f0d896a6b0e5ce6ea15      ios          12.0.1      1373094      US   \n",
       "\n",
       "  startCount viewCount clickCount installCount                      lastStart  \\\n",
       "0         25        24          0            2  2019-01-08T18:49:48.129+00:00   \n",
       "1         10         9          2            0  2019-01-09T21:20:22.855+00:00   \n",
       "2         27        26          0            0  2019-01-09T10:42:08.446+00:00   \n",
       "3         15        14          2            0  2019-01-16T19:58:11.636+00:00   \n",
       "4         20        18          0            0  2019-01-11T21:03:05.103+00:00   \n",
       "\n",
       "  startCount1d startCount7d connectionType deviceType install  \n",
       "0            1            8       cellular  iPhone8,2       0  \n",
       "1            1            4       cellular  iPhone9,1       0  \n",
       "2            1            2       cellular  iPhone7,1       0  \n",
       "3            3           14           wifi  iPhone7,2       0  \n",
       "4           13           18       cellular  iPhone8,1       0  "
      ]
     },
     "execution_count": 3,
     "metadata": {},
     "output_type": "execute_result"
    }
   ],
   "source": [
    "data = []\n",
    "with open('training_data.csv') as f:\n",
    "    reader = csv.reader(f, delimiter=';', quoting=csv.QUOTE_NONE)\n",
    "    for row in reader:\n",
    "        data.append(row)\n",
    "col_names = data.pop(0)\n",
    "# shuffled_indices = list(range(0, 800000))\n",
    "# random.shuffle(shuffled_indices)\n",
    "# df = pd.DataFrame([data[idx] for idx in shuffled_indices], columns=col_names)\n",
    "df = pd.DataFrame(data, columns=col_names)\n",
    "df.head()\n",
    "\n",
    "del data\n",
    "gc.collect()"
   ]
  },
  {
   "cell_type": "code",
   "execution_count": 4,
   "metadata": {},
   "outputs": [
    {
     "data": {
      "text/plain": [
       "(3738937, 17)"
      ]
     },
     "execution_count": 4,
     "metadata": {},
     "output_type": "execute_result"
    }
   ],
   "source": [
    "df.shape"
   ]
  },
  {
   "cell_type": "markdown",
   "metadata": {},
   "source": [
    "The training dataset has over 3.5 million records and 17 features. "
   ]
  },
  {
   "cell_type": "code",
   "execution_count": 5,
   "metadata": {},
   "outputs": [
    {
     "name": "stdout",
     "output_type": "stream",
     "text": [
      "<class 'pandas.core.frame.DataFrame'>\n",
      "RangeIndex: 3738937 entries, 0 to 3738936\n",
      "Data columns (total 17 columns):\n",
      "id                 object\n",
      "timestamp          object\n",
      "campaignId         object\n",
      "platform           object\n",
      "softwareVersion    object\n",
      "sourceGameId       object\n",
      "country            object\n",
      "startCount         int64\n",
      "viewCount          int64\n",
      "clickCount         int64\n",
      "installCount       int64\n",
      "lastStart          object\n",
      "startCount1d       int64\n",
      "startCount7d       int64\n",
      "connectionType     object\n",
      "deviceType         object\n",
      "install            int64\n",
      "dtypes: int64(7), object(10)\n",
      "memory usage: 484.9+ MB\n"
     ]
    }
   ],
   "source": [
    "numerical_feat = ['startCount', 'viewCount', 'clickCount', 'installCount', 'install', 'startCount1d', 'startCount7d']\n",
    "categorical_nominal_feat = ['campaignId', 'sourceGameId', 'country', 'platform', 'softwareVersion', 'connectionType', 'deviceType']\n",
    "for feat in numerical_feat:\n",
    "    df[feat] = df[feat].astype('int')\n",
    "df['install'] = df['install'].astype('int')\n",
    "df.info()"
   ]
  },
  {
   "cell_type": "markdown",
   "metadata": {},
   "source": [
    "The target variable is denoted by the binary variable _install_. The remaining features can be broken down into the categories:\n",
    "\n",
    "**Numerical**\n",
    "1. startCount\n",
    "2. viewCount\n",
    "3. clickCount\n",
    "4. installCount\n",
    "5. startCount1d\n",
    "6. startCount7d\n",
    "\n",
    "**Datetime**\n",
    "1. timestamp\n",
    "2. lastStart\n",
    "\n",
    "**Categorical nominal**\n",
    "1. id\n",
    "2. campaignId\n",
    "3. platform\n",
    "4. softwareVersion\n",
    "5. sourceGameId\n",
    "6. country\n",
    "7. connectionType\n",
    "8. deviceType\n"
   ]
  },
  {
   "cell_type": "code",
   "execution_count": 6,
   "metadata": {},
   "outputs": [
    {
     "data": {
      "text/plain": [
       "0    3694193\n",
       "1      44744\n",
       "Name: install, dtype: int64"
      ]
     },
     "execution_count": 6,
     "metadata": {},
     "output_type": "execute_result"
    }
   ],
   "source": [
    "df['install'].value_counts()"
   ]
  },
  {
   "cell_type": "markdown",
   "metadata": {},
   "source": [
    "We find that the class distribution of the install to no-install status is extremely imbalanced at 1:82. Hence, we have to design appropriate strategies when training and testing the prediction models."
   ]
  },
  {
   "cell_type": "code",
   "execution_count": 7,
   "metadata": {},
   "outputs": [
    {
     "data": {
      "text/html": [
       "<div>\n",
       "<style scoped>\n",
       "    .dataframe tbody tr th:only-of-type {\n",
       "        vertical-align: middle;\n",
       "    }\n",
       "\n",
       "    .dataframe tbody tr th {\n",
       "        vertical-align: top;\n",
       "    }\n",
       "\n",
       "    .dataframe thead th {\n",
       "        text-align: right;\n",
       "    }\n",
       "</style>\n",
       "<table border=\"1\" class=\"dataframe\">\n",
       "  <thead>\n",
       "    <tr style=\"text-align: right;\">\n",
       "      <th></th>\n",
       "      <th>startCount</th>\n",
       "      <th>viewCount</th>\n",
       "      <th>clickCount</th>\n",
       "      <th>installCount</th>\n",
       "      <th>install</th>\n",
       "      <th>startCount1d</th>\n",
       "      <th>startCount7d</th>\n",
       "    </tr>\n",
       "  </thead>\n",
       "  <tbody>\n",
       "    <tr>\n",
       "      <th>startCount</th>\n",
       "      <td>1.000000</td>\n",
       "      <td>0.918300</td>\n",
       "      <td>0.407195</td>\n",
       "      <td>0.262856</td>\n",
       "      <td>-0.024475</td>\n",
       "      <td>0.448791</td>\n",
       "      <td>0.789326</td>\n",
       "    </tr>\n",
       "    <tr>\n",
       "      <th>viewCount</th>\n",
       "      <td>0.918300</td>\n",
       "      <td>1.000000</td>\n",
       "      <td>0.313912</td>\n",
       "      <td>0.243904</td>\n",
       "      <td>-0.022178</td>\n",
       "      <td>0.380549</td>\n",
       "      <td>0.712796</td>\n",
       "    </tr>\n",
       "    <tr>\n",
       "      <th>clickCount</th>\n",
       "      <td>0.407195</td>\n",
       "      <td>0.313912</td>\n",
       "      <td>1.000000</td>\n",
       "      <td>0.169596</td>\n",
       "      <td>-0.002935</td>\n",
       "      <td>0.212569</td>\n",
       "      <td>0.352749</td>\n",
       "    </tr>\n",
       "    <tr>\n",
       "      <th>installCount</th>\n",
       "      <td>0.262856</td>\n",
       "      <td>0.243904</td>\n",
       "      <td>0.169596</td>\n",
       "      <td>1.000000</td>\n",
       "      <td>0.024735</td>\n",
       "      <td>0.102783</td>\n",
       "      <td>0.181972</td>\n",
       "    </tr>\n",
       "    <tr>\n",
       "      <th>install</th>\n",
       "      <td>-0.024475</td>\n",
       "      <td>-0.022178</td>\n",
       "      <td>-0.002935</td>\n",
       "      <td>0.024735</td>\n",
       "      <td>1.000000</td>\n",
       "      <td>-0.014440</td>\n",
       "      <td>-0.023037</td>\n",
       "    </tr>\n",
       "    <tr>\n",
       "      <th>startCount1d</th>\n",
       "      <td>0.448791</td>\n",
       "      <td>0.380549</td>\n",
       "      <td>0.212569</td>\n",
       "      <td>0.102783</td>\n",
       "      <td>-0.014440</td>\n",
       "      <td>1.000000</td>\n",
       "      <td>0.682971</td>\n",
       "    </tr>\n",
       "    <tr>\n",
       "      <th>startCount7d</th>\n",
       "      <td>0.789326</td>\n",
       "      <td>0.712796</td>\n",
       "      <td>0.352749</td>\n",
       "      <td>0.181972</td>\n",
       "      <td>-0.023037</td>\n",
       "      <td>0.682971</td>\n",
       "      <td>1.000000</td>\n",
       "    </tr>\n",
       "  </tbody>\n",
       "</table>\n",
       "</div>"
      ],
      "text/plain": [
       "              startCount  viewCount  clickCount  installCount   install  \\\n",
       "startCount      1.000000   0.918300    0.407195      0.262856 -0.024475   \n",
       "viewCount       0.918300   1.000000    0.313912      0.243904 -0.022178   \n",
       "clickCount      0.407195   0.313912    1.000000      0.169596 -0.002935   \n",
       "installCount    0.262856   0.243904    0.169596      1.000000  0.024735   \n",
       "install        -0.024475  -0.022178   -0.002935      0.024735  1.000000   \n",
       "startCount1d    0.448791   0.380549    0.212569      0.102783 -0.014440   \n",
       "startCount7d    0.789326   0.712796    0.352749      0.181972 -0.023037   \n",
       "\n",
       "              startCount1d  startCount7d  \n",
       "startCount        0.448791      0.789326  \n",
       "viewCount         0.380549      0.712796  \n",
       "clickCount        0.212569      0.352749  \n",
       "installCount      0.102783      0.181972  \n",
       "install          -0.014440     -0.023037  \n",
       "startCount1d      1.000000      0.682971  \n",
       "startCount7d      0.682971      1.000000  "
      ]
     },
     "execution_count": 7,
     "metadata": {},
     "output_type": "execute_result"
    }
   ],
   "source": [
    "df_num = df[numerical_feat]\n",
    "df_num.corr()"
   ]
  },
  {
   "cell_type": "markdown",
   "metadata": {},
   "source": [
    "We find that the install status is not linearly correlated with any of the numerical variables. Some of the features such as _startCount_ and _viewCount_ are very strongly correlated as expected. While variables such as _startCount_ and _startCount7d_ are strongly correlated. "
   ]
  },
  {
   "cell_type": "code",
   "execution_count": 8,
   "metadata": {},
   "outputs": [
    {
     "data": {
      "image/png": "[encoded data removed]",
      "text/plain": [
       "<Figure size 504x288 with 1 Axes>"
      ]
     },
     "metadata": {},
     "output_type": "display_data"
    }
   ],
   "source": [
    "sns.set(style='whitegrid', palette=\"deep\", font_scale=1.1, rc={\"figure.figsize\": [7, 4]})\n",
    "sns.distplot(\n",
    "    df['startCount'], norm_hist=False, kde=False, bins=20, hist_kws={\"range\": [1, 100], \"alpha\": 1}\n",
    ").set(xlabel='startCount', ylabel='Count');\n",
    "plt.show()"
   ]
  },
  {
   "cell_type": "markdown",
   "metadata": {},
   "source": [
    "The distribution of the numerical features are fat-tailed power law distributions. Hence, when it comes to scaling these features, using the standard scaling will be a bad approach. While we only show the startCount in this plot, the other numerical features look very similar."
   ]
  },
  {
   "cell_type": "code",
   "execution_count": 9,
   "metadata": {},
   "outputs": [
    {
     "name": "stdout",
     "output_type": "stream",
     "text": [
      "campaignId\n",
      "==========\n",
      "5c3bfb0b36c2c6cc18710e7b    41740\n",
      "5c385d02ee4549000d8b9ddd    36861\n",
      "5c0f2ff2f4ee9d00225714c2    32856\n",
      "5afbea849f23a400284f2619    30286\n",
      "5c26db700f371292325680ec    28537\n",
      "5bd2b810eb4bb3b817722baa    27198\n",
      "5af41f3346d16a019f9d327d    24132\n",
      "5c333b4d1d94abf8a325e55a    23943\n",
      "5bd2ccefc9c2110ad461c1b3    23413\n",
      "5ba35fbb478f4102c28b1811    22811\n",
      "5bf54928eb052c1002550102    22749\n",
      "5c12581237b74f001c1fdabb    19606\n",
      "5b9d371252bb0e3d8ca5c69f    19022\n",
      "5ba67c1b3f2d330a3d81581e    18984\n",
      "5c205a1719031b964e854e34    17489\n",
      "5c18c35e3554c60046a29cf1    16217\n",
      "5c1cdc81398584f7e2083ac0    16114\n",
      "5c2713ab56936fad84a91916    16061\n",
      "5c26e5222127049b4bce982d    15444\n",
      "5be19ebfea7afe2df87a44cd    15438\n",
      "5bc44242929dbbd1d615aa1c    14932\n",
      "5c35a5aa7728298de289b63b    14930\n",
      "5c1b87728fe2396cc2ab049f    14495\n",
      "5b6d659b9225dc002ec90dff    14075\n",
      "5be29c4ba7c03f803c1c6a97    14056\n",
      "5bd2cccb59f9600aa0e56a51    13738\n",
      "5ba74a5df85b252db02ef371    12415\n",
      "5c18c3eade52c203cbea50c2    12022\n",
      "5c2f3ca39dca190ca96e8471    11889\n",
      "5c1019de6f0a4a0015497089    11263\n",
      "                            ...  \n",
      "5bd064ebf3f0f70c7436a1c7        1\n",
      "5bf4b62716fbbb711b8bae88        1\n",
      "5c0ec0734970310011214aff        1\n",
      "5b69661ef03209016e11c5e5        1\n",
      "5adc7655b7c42932d8de99c2        1\n",
      "5c0fdbdd1b435f00456d2cd5        1\n",
      "5b0562151118430132652e18        1\n",
      "5b9122b9ef5f5709a2eb87fd        1\n",
      "5ba21b278f87fa01e6700d34        1\n",
      "5ab25fd4067c9801288f0377        1\n",
      "5c29fd297bf0ef586de3ce0d        1\n",
      "5be546625e668882ac943093        1\n",
      "5bead048d86b101b14cdb408        1\n",
      "5c04dd4a9bfffd681913c68a        1\n",
      "5b3cbb2378cab901d2bc9b36        1\n",
      "5b33c9430e8c0304f2ef825f        1\n",
      "5bd993139c955cb8e8e74977        1\n",
      "5bb20cce884f38f2983401b4        1\n",
      "5c452b9c9a65a5d01ae03c88        1\n",
      "5c07e88d05bbb52166ced553        1\n",
      "5bab760c63ef9106665cdb16        1\n",
      "5bb21f5428ba3a0058cff369        1\n",
      "5c07a36eb77601aade8f7441        1\n",
      "5bb20c743f7f5cb990711e7d        1\n",
      "5bc441b2694cffb6ec5e738e        1\n",
      "5b8872b6a17414110e18e61f        1\n",
      "5bdb0224bf43de0420e3c183        1\n",
      "5c18f034d672b8001b03db71        1\n",
      "5be04767edcdaf10b88228e8        1\n",
      "5c2073f332eca49f9f349b4f        1\n",
      "Name: campaignId, Length: 9692, dtype: int64\n",
      "        \n",
      "sourceGameId\n",
      "==========\n",
      "1711292    73156\n",
      "1483109    35089\n",
      "1782302    34015\n",
      "111890     28319\n",
      "2762289    27812\n",
      "2633648    27810\n",
      "19790      27212\n",
      "2861538    26866\n",
      "19186      26191\n",
      "36615      24040\n",
      "1782301    22634\n",
      "2839583    22574\n",
      "1734075    21418\n",
      "53624      21413\n",
      "1380101    18735\n",
      "79447      17771\n",
      "1789727    17314\n",
      "1734074    16731\n",
      "2626028    16463\n",
      "2249178    16350\n",
      "1380102    15886\n",
      "61378      15589\n",
      "1503417    15154\n",
      "11262      14149\n",
      "34996      13926\n",
      "20955      13839\n",
      "2894797    13644\n",
      "1261034    12826\n",
      "1424865    12820\n",
      "2750252    12464\n",
      "           ...  \n",
      "2986862        1\n",
      "1093356        1\n",
      "2777411        1\n",
      "1010732        1\n",
      "2623380        1\n",
      "1634594        1\n",
      "1800420        1\n",
      "2788356        1\n",
      "1594333        1\n",
      "1188376        1\n",
      "1122240        1\n",
      "2782402        1\n",
      "1608931        1\n",
      "1464855        1\n",
      "1319377        1\n",
      "2932469        1\n",
      "1200475        1\n",
      "2590430        1\n",
      "2650594        1\n",
      "2606296        1\n",
      "1246094        1\n",
      "1604799        1\n",
      "2906316        1\n",
      "1602057        1\n",
      "38185          1\n",
      "2704920        1\n",
      "1456749        1\n",
      "1701761        1\n",
      "2883960        1\n",
      "1449183        1\n",
      "Name: sourceGameId, Length: 34849, dtype: int64\n",
      "        \n",
      "country\n",
      "==========\n",
      "US    579740\n",
      "RU    287701\n",
      "IN    267325\n",
      "BR    200542\n",
      "DE    148443\n",
      "GB    127222\n",
      "FR    124587\n",
      "TR    122723\n",
      "CN    118110\n",
      "ID    115875\n",
      "KR    112892\n",
      "MX    105942\n",
      "IT     89672\n",
      "JP     88823\n",
      "ES     67238\n",
      "VN     62299\n",
      "UA     60768\n",
      "CA     60679\n",
      "AR     51616\n",
      "PL     47735\n",
      "TH     45191\n",
      "NL     38970\n",
      "AU     38941\n",
      "PH     36594\n",
      "CO     35856\n",
      "SA     35375\n",
      "MY     30971\n",
      "EG     30361\n",
      "TW     29164\n",
      "RO     27609\n",
      "       ...  \n",
      "VG        21\n",
      "MF        21\n",
      "BI        20\n",
      "VU        19\n",
      "SM        18\n",
      "LS        18\n",
      "DJ        16\n",
      "WS        15\n",
      "TM        14\n",
      "MH        14\n",
      "FM        14\n",
      "GQ        13\n",
      "TO        12\n",
      "KM         8\n",
      "AI         8\n",
      "IR         8\n",
      "GW         8\n",
      "SB         7\n",
      "CK         7\n",
      "WF         7\n",
      "MS         6\n",
      "PW         5\n",
      "KI         5\n",
      "ST         5\n",
      "PM         5\n",
      "IO         3\n",
      "NF         3\n",
      "CF         3\n",
      "TD         2\n",
      "FK         1\n",
      "Name: country, Length: 221, dtype: int64\n",
      "        \n",
      "platform\n",
      "==========\n",
      "android    2729044\n",
      "ios        1009893\n",
      "Name: platform, dtype: int64\n",
      "        \n",
      "softwareVersion\n",
      "==========\n",
      "8.0.0                                         625296\n",
      "12.1.2                                        503082\n",
      "8.1.0                                         440687\n",
      "7.0                                           402921\n",
      "6.0.1                                         273607\n",
      "5.1.1                                         179565\n",
      "7.1.1                                         164406\n",
      "6.0                                           162110\n",
      "12.1.1                                        123409\n",
      "7.1.2                                          93757\n",
      "12.1                                           87601\n",
      "4.4.2                                          87199\n",
      "5.1                                            78870\n",
      "4.4.4                                          68511\n",
      "11.4.1                                         65986\n",
      "9                                              41315\n",
      "10.3.3                                         39695\n",
      "5.0.2                                          38014\n",
      "12.0.1                                         33310\n",
      "9.3.5                                          26235\n",
      "12.0                                           21226\n",
      "4.2.2                                          19451\n",
      "5.0.1                                          18553\n",
      "11.4                                           18441\n",
      "5.0                                            17237\n",
      "11.3.1                                         12032\n",
      "11.2.6                                          9585\n",
      "4.1.2                                           8893\n",
      "11.3                                            8364\n",
      "4.3                                             5737\n",
      "                                               ...  \n",
      "Android 6.0.1                                      1\n",
      "6.6.6 SUPER ELIT                                   1\n",
      "7.2.2                                              1\n",
      "12.2                                               1\n",
      "9.0.0                                              1\n",
      "0.1.0-D-20170309.1502                              1\n",
      "ANDROID 4.4 KIT KAT SELFIX                         1\n",
      "Android 4.4.2 Kitkat                               1\n",
      "Q                                                  1\n",
      "5.1.1Lollipop                                      1\n",
      "4.2.3                                              1\n",
      "4.4.4 Kitkat                                       1\n",
      "5.1.2                                              1\n",
      "5.1.1-FL2-20180724.9002                            1\n",
      "4.5.2                                              1\n",
      "8                                                  1\n",
      "20150622-ly-F730.8312D.039.2145.706P.v4.42         1\n",
      "9.9.0                                              1\n",
      "6.0.7                                              1\n",
      "6.0.2                                              1\n",
      "4.2.2-2013-11-18-v1.0                              1\n",
      "5.3.0                                              1\n",
      "5.1.1-SF-20180716.9020                             1\n",
      "6.0.1 MarshMallow                                  1\n",
      "5.2.2                                              1\n",
      "4.3.9                                              1\n",
      "7.9.1                                              1\n",
      "S.T.A.L.K.E.R.                                     1\n",
      "901                                                1\n",
      "9.0.4                                              1\n",
      "Name: softwareVersion, Length: 195, dtype: int64\n",
      "        \n",
      "connectionType\n",
      "==========\n",
      "wifi        2564603\n",
      "cellular    1144351\n",
      "none          29983\n",
      "Name: connectionType, dtype: int64\n",
      "        \n",
      "deviceType\n",
      "==========\n",
      "iPhone8,1                        94879\n",
      "iPhone7,2                        84679\n",
      "iPhone9,3                        77608\n",
      "iPhone8,4                        43427\n",
      "iPhone9,4                        41597\n",
      "iPhone10,4                       40561\n",
      "iPhone9,1                        38972\n",
      "iPhone10,6                       35215\n",
      "iPhone10,5                       35031\n",
      "iPhone8,2                        34179\n",
      "samsung SM-G950F                 31045\n",
      "iPhone10,1                       30868\n",
      "iPhone9,2                        27729\n",
      "iPhone10,2                       27618\n",
      "iPad6,11                         27248\n",
      "iPad5,3                          27222\n",
      "samsung SM-G610F                 25981\n",
      "iPad7,5                          25692\n",
      "iPhone10,3                       25340\n",
      "samsung SM-G930F                 24818\n",
      "iPhone6,2                        23100\n",
      "samsung SM-A520F                 23044\n",
      "Xiaomi Redmi Note 4              22878\n",
      "iPhone11,8                       22460\n",
      "samsung SM-G935F                 22426\n",
      "samsung SM-T580                  22017\n",
      "iPad4,1                          18919\n",
      "iPhone7,1                        18817\n",
      "iPhone11,6                       18308\n",
      "samsung SM-G532M                 17997\n",
      "                                 ...  \n",
      "MKTEL M 8                            1\n",
      "rockchip RK3128_KIUI                 1\n",
      "alps R29                             1\n",
      "JTY KT105                            1\n",
      "KONKA E2                             1\n",
      "KIANO SlimTab8_3GR                   1\n",
      "KT961PRO KT961PRO                    1\n",
      "UNNO UNNO E5                         1\n",
      "alps U27GT                           1\n",
      "Allwinner TDS 8 QC                   1\n",
      "Titanium 2T355 Titanium 2T355        1\n",
      "MAX9 MAX9                            1\n",
      "Xiaomi MI PLAY                       1\n",
      "TCT BS471                            1\n",
      "MAXTRON MAXTRON-T3                   1\n",
      "NOMI Nomi_i5710                      1\n",
      "Jlinksz C103                         1\n",
      "piranha IQ_Pro_G                     1\n",
      "Advan Star 500                       1\n",
      "Fortune Ship Freedom 5.5             1\n",
      "Device Favorite                      1\n",
      "Imet T62                             1\n",
      "iVOOMi Z1                            1\n",
      "CARBAYTA S960                        1\n",
      "iBall 7236 2Gi                       1\n",
      "DIGMA TS7854M                        1\n",
      "Device A400                          1\n",
      "alps SC-1010JBBT                     1\n",
      "alps B1000                           1\n",
      "Bp 326 Bp 326                        1\n",
      "Name: deviceType, Length: 28323, dtype: int64\n",
      "        \n"
     ]
    }
   ],
   "source": [
    "for feat in categorical_nominal_feat:\n",
    "    print(feat)\n",
    "    print(\"==========\")\n",
    "    print(df[feat].value_counts())\n",
    "    print(\"        \")"
   ]
  },
  {
   "cell_type": "markdown",
   "metadata": {},
   "source": [
    "This shows us that there are many levels to the data which would add a lot of sparsity and features when transforming the categorical data."
   ]
  },
  {
   "cell_type": "markdown",
   "metadata": {},
   "source": [
    "\n",
    "# 2. Logistic Regression Model Tuning\n"
   ]
  },
  {
   "cell_type": "markdown",
   "metadata": {},
   "source": [
    "## 2.1 Feature Engineering\n",
    "### 2.1.1 Use timestamp and lastStart to create timeSinceLastStart feature"
   ]
  },
  {
   "cell_type": "code",
   "execution_count": 10,
   "metadata": {},
   "outputs": [],
   "source": [
    "def datetime_parser(datetime_str):\n",
    "    try:\n",
    "        date_str, time_str = datetime_str.split(\"T\")\n",
    "    except:\n",
    "        return \n",
    "    time_str=time_str[:8]\n",
    "    year, month, day = date_str.split(\"-\")\n",
    "    hour, minut, sec = time_str.split(\":\")\n",
    "    return dt.datetime(int(year), int(month), int(day), int(hour), int(minut), int(sec))\n",
    "        \n",
    "\n",
    "def time_diff_in_minutes(dt_0, dt_1):\n",
    "    return np.round((dt_1 - dt_0).total_seconds() / 60.0, 0)"
   ]
  },
  {
   "cell_type": "code",
   "execution_count": null,
   "metadata": {},
   "outputs": [],
   "source": [
    "df.timestamp = df.timestamp.apply(datetime_parser)\n",
    "df.lastStart = df.lastStart.apply(datetime_parser)\n",
    "\n",
    "df['timeSinceLastStart'] = df.apply(lambda row: time_diff_in_minutes(row['lastStart'], row['timestamp']), axis=1).fillna(0) \n",
    "df = df.drop(['timestamp', 'lastStart', 'id'], axis=1)"
   ]
  },
  {
   "cell_type": "code",
   "execution_count": null,
   "metadata": {},
   "outputs": [],
   "source": [
    "\"\"\"\n",
    "Pickle data and cleanup variables\n",
    "\"\"\"\n",
    "\n",
    "df.to_pickle('preprocessed_training_data.pkl')\n",
    "\n",
    "del df\n",
    "gc.collect()"
   ]
  },
  {
   "cell_type": "markdown",
   "metadata": {},
   "source": [
    " ### 2.1.2 One Hot Encoding Categorical Nominal Features "
   ]
  },
  {
   "cell_type": "code",
   "execution_count": null,
   "metadata": {},
   "outputs": [],
   "source": [
    "X_num = df[['startCount', 'viewCount', 'clickCount', 'installCount', 'startCount1d', 'startCount7d', 'timeSinceLastStart']].values\n",
    "X_cat = df[['campaignId', 'sourceGameId', 'country', 'platform', 'softwareVersion', 'connectionType', 'deviceType']]\n",
    "\n",
    "print(X_num.shape)\n",
    "print(X_cat.shape)\n",
    "\n",
    "y = df['install']\n",
    "enc = OneHotEncoder(handle_unknown='ignore')\n",
    "X_cat = enc.fit_transform(X_cat)\n",
    "X = hstack((X_cat, X_num))"
   ]
  },
  {
   "cell_type": "markdown",
   "metadata": {
    "collapsed": true
   },
   "source": [
    "## 2.2 Training/Test Datasets And Sampling Method"
   ]
  },
  {
   "cell_type": "markdown",
   "metadata": {},
   "source": [
    "Our goal is to find the optimal hyperparameters for the logistic regression model. In order to do that the training dataset is further split into training and test datasets. Due to the sparsity of the features we have to choose an appropriate representation for the feature vectors."
   ]
  },
  {
   "cell_type": "code",
   "execution_count": 13,
   "metadata": {},
   "outputs": [],
   "source": [
    "X_train, X_test, y_train, y_test = train_test_split(X, y, test_size=0.2, random_state=0)\n",
    "\n",
    "X_train = csc_matrix(X_train)\n",
    "y_train = y_train.values\n",
    "X_test = csc_matrix(X_test)\n",
    "y_test = y_test.values"
   ]
  },
  {
   "cell_type": "markdown",
   "metadata": {},
   "source": [
    "One of the two simple options to balance the datset is undersampling which would involve matching the number of non-install classes to be the same as the number of install classes in the dataset."
   ]
  },
  {
   "cell_type": "code",
   "execution_count": 14,
   "metadata": {},
   "outputs": [],
   "source": [
    "def undersample_fit(x, y):\n",
    "    zero_indices = []\n",
    "    one_indices = []\n",
    "    for idx, class_label in enumerate(y):\n",
    "        if class_label == 0:\n",
    "            zero_indices.append(idx)\n",
    "        else:\n",
    "            one_indices.append(idx)\n",
    "    \n",
    "    resampled_indices = one_indices + random.sample(zero_indices, len(one_indices))\n",
    "    random.shuffle(resampled_indices)\n",
    "    resampled_x, resampled_y = [], []\n",
    "    for idx in resampled_indices:\n",
    "        resampled_x.append(x[idx].toarray()[0])\n",
    "        resampled_y.append(y[idx])\n",
    "    return csc_matrix(resampled_x), resampled_y"
   ]
  },
  {
   "cell_type": "markdown",
   "metadata": {},
   "source": [
    "## 2.3 Performance Metrics"
   ]
  },
  {
   "cell_type": "markdown",
   "metadata": {},
   "source": [
    "The metrics used to measure the classifier performance other than AUROC, log-loss and prediction bias are the precision and recall."
   ]
  },
  {
   "cell_type": "code",
   "execution_count": 15,
   "metadata": {
    "collapsed": true
   },
   "outputs": [],
   "source": [
    "def log_loss_score(clf, x, y):\n",
    "    return log_loss(y, clf.predict_proba(x))\n",
    "\n",
    "def auroc_score(clf, x, y):\n",
    "    return roc_auc_score(y, clf.predict_proba(x)[:, 1])"
   ]
  },
  {
   "cell_type": "markdown",
   "metadata": {},
   "source": [
    "## 2.4 Hyperparameter Tuning Via Stratified Cross Validated Grid Search"
   ]
  },
  {
   "cell_type": "code",
   "execution_count": 16,
   "metadata": {},
   "outputs": [],
   "source": [
    "def imbalanced_cross_validation_score(clf, x, y, cv, scoring):\n",
    "    train_scores = []\n",
    "    test_scores = []\n",
    "    skf = StratifiedKFold(n_splits=cv, shuffle=False)\n",
    "    \n",
    "    for train_idx, test_idx in skf.split(x,y):\n",
    "        xfold_train_sampled, yfold_train_sampled = undersample_fit(x[train_idx], y[train_idx])\n",
    "        clf.fit(xfold_train_sampled, yfold_train_sampled)\n",
    "        \n",
    "        train_score = scoring(clf, xfold_train_sampled, yfold_train_sampled)\n",
    "        test_score  = scoring(clf, x[test_idx], y[test_idx])\n",
    "        \n",
    "        train_scores.append(train_score)\n",
    "        test_scores.append(test_score)\n",
    "        \n",
    "    print(\"Train score: {} +/- {}, CV score: {} +/- {}\".format(np.round(np.mean(train_scores), 2),\n",
    "                                                               np.round(np.std(train_scores), 2),\n",
    "                                                               np.round(np.mean(test_scores), 2),\n",
    "                                                               np.round(np.std(test_scores), 2))) "
   ]
  },
  {
   "cell_type": "markdown",
   "metadata": {},
   "source": [
    "The hyperparameter grid is specified by the C values and the penalty metrics below. "
   ]
  },
  {
   "cell_type": "code",
   "execution_count": 17,
   "metadata": {},
   "outputs": [
    {
     "data": {
      "text/plain": [
       "'\\nC = [0.01, 0.1, 1.0, 10.0, 100.0]\\npenalty = [\\'l1\\', \\'l2\\']\\nfor c in C:\\n    for pen in penalty:\\n        print(\"C: {}, Penalty: {}\".format(str(c), pen))\\n        print(\"====================\")\\n        t_0 = time.time()\\n        pipe_lr = Pipeline([(\\'scl\\', RobustScaler(with_centering=False)),\\n                           (\\'clf\\', LogisticRegression(C=c, penalty=pen, solver=\\'liblinear\\', random_state=0))])\\n        imbalanced_cross_validation_score(pipe_lr, X_train, y_train, 3, auroc_score)\\n        print(\"  \")\\n'"
      ]
     },
     "execution_count": 17,
     "metadata": {},
     "output_type": "execute_result"
    }
   ],
   "source": [
    "C = [0.01, 0.1, 1.0, 10.0, 100.0]\n",
    "penalty = ['l1', 'l2']\n",
    "for c in C:\n",
    "    for pen in penalty:\n",
    "        print(\"C: {}, Penalty: {}\".format(str(c), pen))\n",
    "        print(\"====================\")\n",
    "        t_0 = time.time()\n",
    "        pipe_lr = Pipeline([('scl', RobustScaler(with_centering=False)),\n",
    "                           ('clf', LogisticRegression(C=c, penalty=pen, solver='liblinear', random_state=0))])\n",
    "        imbalanced_cross_validation_score(pipe_lr, X_train, y_train, 3, auroc_score)\n",
    "        print(\"  \")"
   ]
  },
  {
   "cell_type": "markdown",
   "metadata": {},
   "source": [
    "Using the stratified cross validation schema along with undersampling the non-install class to balance the dataset, we find that C=0.1 and penalty='l1' gives the optimal log-loss score of 0.63 +/- 0 on the test set and 0.62 +/- 0 on the training set. Meanwhile, for the AUROC we find a test score of 0.72 +/- 0.01 and train score of 0.73 +/- 0.01."
   ]
  },
  {
   "cell_type": "markdown",
   "metadata": {},
   "source": [
    "## 2.5 Learning Curve For Optimal Classifier"
   ]
  },
  {
   "cell_type": "code",
   "execution_count": 18,
   "metadata": {},
   "outputs": [
    {
     "name": "stdout",
     "output_type": "stream",
     "text": [
      "Train score: 0.62 +/- 0.0, CV score: 0.62 +/- 0.0\n"
     ]
    }
   ],
   "source": [
    "pipe_lr = Pipeline([('scl', RobustScaler(with_centering=False)),\n",
    "                    ('clf', LogisticRegression(C=0.1, penalty='l1', solver='liblinear', random_state=0))])\n",
    "imbalanced_cross_validation_score(pipe_lr, X_train, y_train, 3, log_loss_score)"
   ]
  },
  {
   "cell_type": "markdown",
   "metadata": {},
   "source": [
    "I ran the preceding code using various sample sizes and compared their performances.\n",
    "* Sample size: 100,000, CV log-loss score - train: 0.62, test: 0.64\n",
    "* Sample size: 200,000, CV log-loss score - train: 0.61, test: 0.63\n",
    "* Sample size: 400,000, CV log-loss score - train: 0.61, test: 0.62\n",
    "* Sample size: 800,000, CV log-loss score - train: 0.62, test: 0.62\n",
    "* Sample size: 160,0000, CV log-loss score - train: 0.63, cv: 0.64"
   ]
  },
  {
   "cell_type": "markdown",
   "metadata": {},
   "source": [
    "Based on these results, it seems that using smaller subsample of the training data is a viable option to get around memory errors."
   ]
  },
  {
   "cell_type": "markdown",
   "metadata": {},
   "source": [
    "## 2.6 Other Performance Metrics"
   ]
  },
  {
   "cell_type": "code",
   "execution_count": 19,
   "metadata": {},
   "outputs": [
    {
     "name": "stdout",
     "output_type": "stream",
     "text": [
      "Precision: 2%\n",
      "Recall: 60%\n",
      "Log-loss: 61%\n",
      "AUROC: 72%\n",
      "True Negatives: 113514, Fale Positives: 850, False Negatives: 44335, True Positives: 1301\n",
      "Prediction bias: 0.27178125000000003\n"
     ]
    }
   ],
   "source": [
    "x, y = undersample_fit(X_train, y_train)\n",
    "pipe_lr = Pipeline([('scl', RobustScaler(with_centering=False)),\n",
    "                    ('clf', LogisticRegression(C=0.1, penalty='l1', solver='liblinear', random_state=0))])\n",
    "pipe_lr.fit(x, y)\n",
    "y_pred = pipe_lr.predict(X_test)\n",
    "print(\"Precision: {}%\".format(int(100 * precision_score(y_test, y_pred))))\n",
    "print(\"Recall: {}%\".format(int(100 * recall_score(y_test, y_pred))))\n",
    "print(\"Log-loss: {}%\".format(int(100 * log_loss_score(pipe_lr, X_test, y_test))))\n",
    "print(\"AUROC: {}%\".format(int(100 * roc_auc_score(y_test, pipe_lr.predict_proba(X_test)[:, 1]))))\n",
    "tn, fp, fn, tp = confusion_matrix(y_pred, y_test).ravel()\n",
    "print(\"True Negatives: {}, Fale Positives: {}, False Negatives: {}, True Positives: {}\".format(tn, fp, fn, tp))\n",
    "print(\"Prediction bias: {}\".format(sum(y_pred) / len(y_pred) - sum(y_test) / len(y_test)))"
   ]
  },
  {
   "cell_type": "markdown",
   "metadata": {},
   "source": [
    "We find that the model has a very low precision of 4% but perhaps this is jutified by the recall of 72%. "
   ]
  }
 ],
 "metadata": {
  "anaconda-cloud": {},
  "kernelspec": {
   "display_name": "Python 3",
   "language": "python",
   "name": "python3"
  },
  "language_info": {
   "codemirror_mode": {
    "name": "ipython",
    "version": 3
   },
   "file_extension": ".py",
   "mimetype": "text/x-python",
   "name": "python",
   "nbconvert_exporter": "python",
   "pygments_lexer": "ipython3",
   "version": "3.7.3"
  }
 },
 "nbformat": 4,
 "nbformat_minor": 1
}
