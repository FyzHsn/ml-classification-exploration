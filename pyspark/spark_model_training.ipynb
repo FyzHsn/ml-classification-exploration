{
 "cells": [
  {
   "cell_type": "code",
   "execution_count": 1,
   "metadata": {},
   "outputs": [],
   "source": [
    "import numpy\n",
    "import pandas as pd\n",
    "\n",
    "from itertools import chain\n",
    "from pyspark.ml import Pipeline\n",
    "from pyspark.ml.classification import LogisticRegression\n",
    "from pyspark.ml.evaluation import BinaryClassificationEvaluator\n",
    "from pyspark.ml.feature import OneHotEncoder, \\\n",
    "                               RobustScaler, \\\n",
    "                               StringIndexer, \\\n",
    "                               VectorAssembler\n",
    "from pyspark.ml.tuning import TrainValidationSplit, \\\n",
    "                              ParamGridBuilder\n",
    "from pyspark.sql import SparkSession\n",
    "from pyspark.sql.functions import isnan, \\\n",
    "                                  col, \\\n",
    "                                  count, \\\n",
    "                                  create_map, \\\n",
    "                                  lit, \\\n",
    "                                  when, \\\n",
    "                                  udf  \n",
    "from pyspark.sql.types import FloatType"
   ]
  },
  {
   "cell_type": "markdown",
   "metadata": {},
   "source": [
    "# Load Dataset"
   ]
  },
  {
   "cell_type": "code",
   "execution_count": 2,
   "metadata": {},
   "outputs": [],
   "source": [
    "spark = SparkSession.builder.appName('ads-ml').getOrCreate()"
   ]
  },
  {
   "cell_type": "code",
   "execution_count": 3,
   "metadata": {},
   "outputs": [],
   "source": [
    "# df = spark.read.options(delimiter=';') \\\n",
    "#                .options(header=True) \\\n",
    "#                .options(inferSchema=True) \\\n",
    "#                .csv('training_data.csv')\n",
    "# df.printSchema()\n",
    "# pd.DataFrame(df.take(5), columns=df.columns).transpose()"
   ]
  },
  {
   "cell_type": "markdown",
   "metadata": {},
   "source": [
    "# Preprocess Dataset"
   ]
  },
  {
   "cell_type": "code",
   "execution_count": 4,
   "metadata": {},
   "outputs": [],
   "source": [
    "def time_diff_in_minutes(dt_0, dt_1):\n",
    "    if dt_0 is None:\n",
    "        return 0.0\n",
    "    return round((dt_1 - dt_0).total_seconds() / 60.0, 1)    \n",
    "    \n",
    "# time_diff_in_min_udf = udf(time_diff_in_minutes, FloatType())\n",
    "# preprocessed_df = df.withColumn('timeSinceLastStart', \\\n",
    "#                                 time_diff_in_min_udf(df.lastStart, df.timestamp)) \\\n",
    "#                     .drop(\"id\", \"timestamp\", \"lastStart\")\n",
    "# preprocessed_df.write.csv(\"preprocessed_training_data.csv\")\n",
    "\n",
    "\n",
    "# Count the number of null values per columns\n",
    "\n",
    "# preprocessed_df.select([count(when(isnan(c), c)).alias(c) for c in preprocessed_df.columns]).show()\n",
    "# preprocessed_df.write.format('csv') \\\n",
    "#                      .option(\"header\", \"true\") \\\n",
    "#                      .save(\"preprocessed_training_data_csv\")"
   ]
  },
  {
   "cell_type": "code",
   "execution_count": 5,
   "metadata": {},
   "outputs": [
    {
     "name": "stdout",
     "output_type": "stream",
     "text": [
      "root\n",
      " |-- campaignId: string (nullable = true)\n",
      " |-- platform: string (nullable = true)\n",
      " |-- softwareVersion: string (nullable = true)\n",
      " |-- sourceGameId: integer (nullable = true)\n",
      " |-- country: string (nullable = true)\n",
      " |-- startCount: integer (nullable = true)\n",
      " |-- viewCount: integer (nullable = true)\n",
      " |-- clickCount: integer (nullable = true)\n",
      " |-- installCount: integer (nullable = true)\n",
      " |-- startCount1d: integer (nullable = true)\n",
      " |-- startCount7d: integer (nullable = true)\n",
      " |-- connectionType: string (nullable = true)\n",
      " |-- deviceType: string (nullable = true)\n",
      " |-- install: integer (nullable = true)\n",
      " |-- timeSinceLastStart: double (nullable = true)\n",
      "\n"
     ]
    }
   ],
   "source": [
    "df = spark.read.options(delimiter=',') \\\n",
    "               .options(header=True) \\\n",
    "               .options(inferSchema=True) \\\n",
    "               .csv('preprocessed_training_data_csv')\n",
    "df.printSchema()\n",
    "df = df.withColumnRenamed('install', 'label')\n",
    "df = df.sample(fraction=0.2, withReplacement=False)"
   ]
  },
  {
   "cell_type": "code",
   "execution_count": 6,
   "metadata": {},
   "outputs": [],
   "source": [
    "class_count_df = df.groupby('label').agg({'label': 'count'})\n",
    "\n",
    "n_1 = class_count_df.filter(df.label == '1').select(\"count(label)\").collect()[0][0]\n",
    "n_0 = class_count_df.filter(df.label == '0').select(\"count(label)\").collect()[0][0]\n",
    "\n",
    "w_1 = (n_0 + n_1) / (2.0 * n_1)\n",
    "w_0 = (n_0 + n_1) / (2.0 * n_0)\n",
    "\n",
    "class_weights = {0: w_0, 1: w_1}\n",
    "\n",
    "mapping_expr = create_map([lit(x) for x in chain(*class_weights.items())])\n",
    "df = df.withColumn(\"weights\", mapping_expr.getItem(col(\"label\")))"
   ]
  },
  {
   "cell_type": "code",
   "execution_count": 7,
   "metadata": {},
   "outputs": [
    {
     "data": {
      "text/html": [
       "<div>\n",
       "<style scoped>\n",
       "    .dataframe tbody tr th:only-of-type {\n",
       "        vertical-align: middle;\n",
       "    }\n",
       "\n",
       "    .dataframe tbody tr th {\n",
       "        vertical-align: top;\n",
       "    }\n",
       "\n",
       "    .dataframe thead th {\n",
       "        text-align: right;\n",
       "    }\n",
       "</style>\n",
       "<table border=\"1\" class=\"dataframe\">\n",
       "  <thead>\n",
       "    <tr style=\"text-align: right;\">\n",
       "      <th></th>\n",
       "      <th>0</th>\n",
       "      <th>1</th>\n",
       "      <th>2</th>\n",
       "      <th>3</th>\n",
       "      <th>4</th>\n",
       "    </tr>\n",
       "  </thead>\n",
       "  <tbody>\n",
       "    <tr>\n",
       "      <th>campaignId</th>\n",
       "      <td>59687f0d896a6b0e5ce6ea15</td>\n",
       "      <td>59687f0d896a6b0e5ce6ea15</td>\n",
       "      <td>59687f0d896a6b0e5ce6ea15</td>\n",
       "      <td>59687f0d896a6b0e5ce6ea15</td>\n",
       "      <td>59687f0d896a6b0e5ce6ea15</td>\n",
       "    </tr>\n",
       "    <tr>\n",
       "      <th>platform</th>\n",
       "      <td>ios</td>\n",
       "      <td>ios</td>\n",
       "      <td>ios</td>\n",
       "      <td>ios</td>\n",
       "      <td>ios</td>\n",
       "    </tr>\n",
       "    <tr>\n",
       "      <th>softwareVersion</th>\n",
       "      <td>12.0.1</td>\n",
       "      <td>12.1.1</td>\n",
       "      <td>12.1</td>\n",
       "      <td>12.1.2</td>\n",
       "      <td>12.1.2</td>\n",
       "    </tr>\n",
       "    <tr>\n",
       "      <th>sourceGameId</th>\n",
       "      <td>1373094</td>\n",
       "      <td>1541862</td>\n",
       "      <td>1373094</td>\n",
       "      <td>1373094</td>\n",
       "      <td>1373094</td>\n",
       "    </tr>\n",
       "    <tr>\n",
       "      <th>country</th>\n",
       "      <td>US</td>\n",
       "      <td>US</td>\n",
       "      <td>US</td>\n",
       "      <td>US</td>\n",
       "      <td>US</td>\n",
       "    </tr>\n",
       "    <tr>\n",
       "      <th>startCount</th>\n",
       "      <td>20</td>\n",
       "      <td>26</td>\n",
       "      <td>4</td>\n",
       "      <td>32</td>\n",
       "      <td>19</td>\n",
       "    </tr>\n",
       "    <tr>\n",
       "      <th>viewCount</th>\n",
       "      <td>18</td>\n",
       "      <td>4</td>\n",
       "      <td>3</td>\n",
       "      <td>31</td>\n",
       "      <td>18</td>\n",
       "    </tr>\n",
       "    <tr>\n",
       "      <th>clickCount</th>\n",
       "      <td>0</td>\n",
       "      <td>1</td>\n",
       "      <td>1</td>\n",
       "      <td>3</td>\n",
       "      <td>0</td>\n",
       "    </tr>\n",
       "    <tr>\n",
       "      <th>installCount</th>\n",
       "      <td>0</td>\n",
       "      <td>0</td>\n",
       "      <td>0</td>\n",
       "      <td>4</td>\n",
       "      <td>0</td>\n",
       "    </tr>\n",
       "    <tr>\n",
       "      <th>startCount1d</th>\n",
       "      <td>13</td>\n",
       "      <td>7</td>\n",
       "      <td>1</td>\n",
       "      <td>11</td>\n",
       "      <td>7</td>\n",
       "    </tr>\n",
       "    <tr>\n",
       "      <th>startCount7d</th>\n",
       "      <td>18</td>\n",
       "      <td>20</td>\n",
       "      <td>1</td>\n",
       "      <td>11</td>\n",
       "      <td>13</td>\n",
       "    </tr>\n",
       "    <tr>\n",
       "      <th>connectionType</th>\n",
       "      <td>cellular</td>\n",
       "      <td>wifi</td>\n",
       "      <td>cellular</td>\n",
       "      <td>cellular</td>\n",
       "      <td>cellular</td>\n",
       "    </tr>\n",
       "    <tr>\n",
       "      <th>deviceType</th>\n",
       "      <td>iPhone8,1</td>\n",
       "      <td>iPad4,1</td>\n",
       "      <td>iPhone9,4</td>\n",
       "      <td>iPhone10,1</td>\n",
       "      <td>iPhone10,1</td>\n",
       "    </tr>\n",
       "    <tr>\n",
       "      <th>label</th>\n",
       "      <td>0</td>\n",
       "      <td>0</td>\n",
       "      <td>0</td>\n",
       "      <td>0</td>\n",
       "      <td>0</td>\n",
       "    </tr>\n",
       "    <tr>\n",
       "      <th>timeSinceLastStart</th>\n",
       "      <td>0.8</td>\n",
       "      <td>41.4</td>\n",
       "      <td>20238.5</td>\n",
       "      <td>80.6</td>\n",
       "      <td>1054.8</td>\n",
       "    </tr>\n",
       "    <tr>\n",
       "      <th>weights</th>\n",
       "      <td>0.506012</td>\n",
       "      <td>0.506012</td>\n",
       "      <td>0.506012</td>\n",
       "      <td>0.506012</td>\n",
       "      <td>0.506012</td>\n",
       "    </tr>\n",
       "  </tbody>\n",
       "</table>\n",
       "</div>"
      ],
      "text/plain": [
       "                                           0                         1  \\\n",
       "campaignId          59687f0d896a6b0e5ce6ea15  59687f0d896a6b0e5ce6ea15   \n",
       "platform                                 ios                       ios   \n",
       "softwareVersion                       12.0.1                    12.1.1   \n",
       "sourceGameId                         1373094                   1541862   \n",
       "country                                   US                        US   \n",
       "startCount                                20                        26   \n",
       "viewCount                                 18                         4   \n",
       "clickCount                                 0                         1   \n",
       "installCount                               0                         0   \n",
       "startCount1d                              13                         7   \n",
       "startCount7d                              18                        20   \n",
       "connectionType                      cellular                      wifi   \n",
       "deviceType                         iPhone8,1                   iPad4,1   \n",
       "label                                      0                         0   \n",
       "timeSinceLastStart                       0.8                      41.4   \n",
       "weights                             0.506012                  0.506012   \n",
       "\n",
       "                                           2                         3  \\\n",
       "campaignId          59687f0d896a6b0e5ce6ea15  59687f0d896a6b0e5ce6ea15   \n",
       "platform                                 ios                       ios   \n",
       "softwareVersion                         12.1                    12.1.2   \n",
       "sourceGameId                         1373094                   1373094   \n",
       "country                                   US                        US   \n",
       "startCount                                 4                        32   \n",
       "viewCount                                  3                        31   \n",
       "clickCount                                 1                         3   \n",
       "installCount                               0                         4   \n",
       "startCount1d                               1                        11   \n",
       "startCount7d                               1                        11   \n",
       "connectionType                      cellular                  cellular   \n",
       "deviceType                         iPhone9,4                iPhone10,1   \n",
       "label                                      0                         0   \n",
       "timeSinceLastStart                   20238.5                      80.6   \n",
       "weights                             0.506012                  0.506012   \n",
       "\n",
       "                                           4  \n",
       "campaignId          59687f0d896a6b0e5ce6ea15  \n",
       "platform                                 ios  \n",
       "softwareVersion                       12.1.2  \n",
       "sourceGameId                         1373094  \n",
       "country                                   US  \n",
       "startCount                                19  \n",
       "viewCount                                 18  \n",
       "clickCount                                 0  \n",
       "installCount                               0  \n",
       "startCount1d                               7  \n",
       "startCount7d                              13  \n",
       "connectionType                      cellular  \n",
       "deviceType                        iPhone10,1  \n",
       "label                                      0  \n",
       "timeSinceLastStart                    1054.8  \n",
       "weights                             0.506012  "
      ]
     },
     "execution_count": 7,
     "metadata": {},
     "output_type": "execute_result"
    }
   ],
   "source": [
    "pd.DataFrame(df.take(5), columns=df.columns).head().transpose()"
   ]
  },
  {
   "cell_type": "markdown",
   "metadata": {},
   "source": [
    "# Vectorize Features"
   ]
  },
  {
   "cell_type": "code",
   "execution_count": 8,
   "metadata": {},
   "outputs": [
    {
     "data": {
      "text/plain": [
       "(599049, 149620)"
      ]
     },
     "execution_count": 8,
     "metadata": {},
     "output_type": "execute_result"
    }
   ],
   "source": [
    "# It is prudent to store the split data in train/test folders for the sake of reproducibility\n",
    "train_df, test_df = df.randomSplit([0.8, 0.2])\n",
    "train_df.count(), test_df.count()"
   ]
  },
  {
   "cell_type": "code",
   "execution_count": 9,
   "metadata": {},
   "outputs": [],
   "source": [
    "categorical_feats = ['campaignId', 'platform', 'softwareVersion', 'sourceGameId', 'country', \n",
    "                   'connectionType', 'deviceType']\n",
    "numerical_feats = ['startCount', 'viewCount', 'clickCount', 'installCount', 'startCount1d', \n",
    "                   'startCount7d', 'timeSinceLastStart']"
   ]
  },
  {
   "cell_type": "code",
   "execution_count": 10,
   "metadata": {},
   "outputs": [],
   "source": [
    "stages = [] \n",
    "for column in categorical_feats:\n",
    "    str_indexer = StringIndexer(inputCol=column, \n",
    "                                outputCol=column + \"Index\",\n",
    "                                handleInvalid='keep')\n",
    "    encoder = OneHotEncoder(inputCols=[str_indexer.getOutputCol()], \n",
    "                            outputCols=[column + \"Vec\"],\n",
    "                            handleInvalid='keep')\n",
    "    stages += [str_indexer, encoder]"
   ]
  },
  {
   "cell_type": "code",
   "execution_count": 11,
   "metadata": {},
   "outputs": [],
   "source": [
    "assembler1 = VectorAssembler(inputCols=numerical_feats, \n",
    "                             outputCol=\"num_features\")\n",
    "scaler = RobustScaler(inputCol='num_features',\n",
    "                      outputCol='scaled')\n",
    "stages += [assembler1, scaler]"
   ]
  },
  {
   "cell_type": "code",
   "execution_count": 12,
   "metadata": {},
   "outputs": [],
   "source": [
    "assembler_inputs = [c + \"Vec\" for c in categorical_feats] + [\"scaled\"]\n",
    "assembler2 = VectorAssembler(inputCols=assembler_inputs,\n",
    "                             outputCol=\"features\")\n",
    "stages += [assembler2]"
   ]
  },
  {
   "cell_type": "code",
   "execution_count": 13,
   "metadata": {},
   "outputs": [],
   "source": [
    "lr = LogisticRegression(weightCol='weights')\n",
    "stages.append(lr)"
   ]
  },
  {
   "cell_type": "code",
   "execution_count": 14,
   "metadata": {},
   "outputs": [],
   "source": [
    "pipeline = Pipeline(stages=stages)"
   ]
  },
  {
   "cell_type": "code",
   "execution_count": 15,
   "metadata": {},
   "outputs": [],
   "source": [
    "param_grid = ParamGridBuilder() \\\n",
    "    .addGrid(lr.regParam, [1.0, 0.1, 0.01, 0.001]) \\\n",
    "    .addGrid(lr.elasticNetParam, [0.0, 0.5, 1.0]) \\\n",
    "    .build()"
   ]
  },
  {
   "cell_type": "code",
   "execution_count": 16,
   "metadata": {},
   "outputs": [],
   "source": [
    "train_val = TrainValidationSplit(estimator=pipeline,\n",
    "                                 estimatorParamMaps=param_grid,\n",
    "                                 evaluator=BinaryClassificationEvaluator(metricName='areaUnderPR'),\n",
    "                                 trainRatio=0.8)"
   ]
  },
  {
   "cell_type": "code",
   "execution_count": 17,
   "metadata": {},
   "outputs": [],
   "source": [
    "model = train_val.fit(train_df)"
   ]
  },
  {
   "cell_type": "code",
   "execution_count": 18,
   "metadata": {},
   "outputs": [
    {
     "name": "stdout",
     "output_type": "stream",
     "text": [
      "regParam: regularization parameter (>= 0). (default: 0.0, current: 0.01)\n",
      "elasticNetParam: the ElasticNet mixing parameter, in range [0, 1]. For alpha = 0, the penalty is an L2 penalty. For alpha = 1, it is an L1 penalty. (default: 0.0, current: 0.5)\n"
     ]
    }
   ],
   "source": [
    "# print(model.bestModel.stages[-1].extractParamMap())\n",
    "print(model.bestModel.stages[-1].explainParam('regParam'))\n",
    "print(model.bestModel.stages[-1].explainParam('elasticNetParam'))"
   ]
  },
  {
   "cell_type": "code",
   "execution_count": 19,
   "metadata": {},
   "outputs": [],
   "source": [
    "predictions = model.transform(test_df)"
   ]
  },
  {
   "cell_type": "code",
   "execution_count": 20,
   "metadata": {},
   "outputs": [
    {
     "name": "stdout",
     "output_type": "stream",
     "text": [
      "Area under ROC Curve: 0.7073\n",
      "Area under PR Curve: 0.0287\n"
     ]
    }
   ],
   "source": [
    "from pyspark.ml.evaluation import BinaryClassificationEvaluator, MulticlassClassificationEvaluator\n",
    "\n",
    "# Let's use the run-of-the-mill evaluator\n",
    "evaluator = BinaryClassificationEvaluator()\n",
    "\n",
    "# We have only two choices: area under ROC and PR curves :-(\n",
    "auroc = evaluator.evaluate(predictions, {evaluator.metricName: \"areaUnderROC\"})\n",
    "auprc = evaluator.evaluate(predictions, {evaluator.metricName: \"areaUnderPR\"})\n",
    "print(\"Area under ROC Curve: {:.4f}\".format(auroc))\n",
    "print(\"Area under PR Curve: {:.4f}\".format(auprc))\n",
    "\n",
    "# pipeline_model = pipeline.fit(train_df)\n",
    "# predictions = pipeline_model.transform(test_df)\n",
    "# predictions.select(\"campaignId\", \"prediction\").show(5)\n",
    "# predictions.select(\"campaignId\", \"prediction\").show(195)"
   ]
  },
  {
   "cell_type": "code",
   "execution_count": 21,
   "metadata": {},
   "outputs": [
    {
     "data": {
      "text/plain": [
       "0.02213845623971528"
      ]
     },
     "execution_count": 21,
     "metadata": {},
     "output_type": "execute_result"
    }
   ],
   "source": [
    "evaluator = MulticlassClassificationEvaluator()\n",
    "evaluator.evaluate(predictions, {evaluator.metricName: \"recallByLabel\",\n",
    "                                 evaluator.metricLabel: 1})\n",
    "evaluator.evaluate(predictions, {evaluator.metricName: \"precisionByLabel\",\n",
    "                                 evaluator.metricLabel: 1})"
   ]
  },
  {
   "cell_type": "code",
   "execution_count": 22,
   "metadata": {},
   "outputs": [],
   "source": [
    "# import matplotlib.pyplot as plt"
   ]
  },
  {
   "cell_type": "code",
   "execution_count": 23,
   "metadata": {},
   "outputs": [],
   "source": [
    "# class CurveMetrics(BinaryClassificationMetrics):\n",
    "#     def __init__(self, *args):\n",
    "#         super(CurveMetrics, self).__init__(*args)\n",
    "\n",
    "#     def _to_list(self, rdd):\n",
    "#         points = []\n",
    "#         # Note this collect could be inefficient for large datasets \n",
    "#         # considering there may be one probability per datapoint (at most)\n",
    "#         # The Scala version takes a numBins parameter, \n",
    "#         # but it doesn't seem possible to pass this from Python to Java\n",
    "#         for row in rdd.collect():\n",
    "#             # Results are returned as type scala.Tuple2, \n",
    "#             # which doesn't appear to have a py4j mapping\n",
    "#             points += [(float(row._1()), float(row._2()))]\n",
    "#         return points\n",
    "\n",
    "#     def get_curve(self, method):\n",
    "#         rdd = getattr(self._java_model, method)().toJavaRDD()\n",
    "#         return self._to_list(rdd)\n",
    "\n",
    "# # Returns as a list (false positive rate, true positive rate)\n",
    "# preds = predictions.select('label','probability').rdd.map(lambda row: (float(row['probability'][1]), float(row['label'])))\n",
    "# points = CurveMetrics(preds).get_curve('roc')\n",
    "\n",
    "# plt.figure()\n",
    "# x_val = [x[0] for x in points]\n",
    "# y_val = [x[1] for x in points]\n",
    "# plt.title(\"title\")\n",
    "# plt.xlabel(\"\")\n",
    "# plt.ylabel(\"ylabel\")\n",
    "# plt.plot(x_val, y_val)"
   ]
  },
  {
   "cell_type": "code",
   "execution_count": 24,
   "metadata": {},
   "outputs": [],
   "source": [
    "# plt.show()"
   ]
  },
  {
   "cell_type": "code",
   "execution_count": null,
   "metadata": {},
   "outputs": [],
   "source": []
  }
 ],
 "metadata": {
  "kernelspec": {
   "display_name": "Python 3",
   "language": "python",
   "name": "python3"
  },
  "language_info": {
   "codemirror_mode": {
    "name": "ipython",
    "version": 3
   },
   "file_extension": ".py",
   "mimetype": "text/x-python",
   "name": "python",
   "nbconvert_exporter": "python",
   "pygments_lexer": "ipython3",
   "version": "3.7.3"
  }
 },
 "nbformat": 4,
 "nbformat_minor": 4
}
